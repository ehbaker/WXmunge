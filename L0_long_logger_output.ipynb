{
 "cells": [
  {
   "cell_type": "markdown",
   "metadata": {},
   "source": [
    "# L0 data clean"
   ]
  },
  {
   "cell_type": "code",
   "execution_count": 2,
   "metadata": {
    "collapsed": true
   },
   "outputs": [],
   "source": [
    "import pandas as pd\n",
    "import numpy as np\n",
    "import matplotlib.pyplot as plt\n",
    "import os\n",
    "import imp\n",
    "import datetime\n",
    "import pytz\n",
    "%matplotlib inline"
   ]
  },
  {
   "cell_type": "code",
   "execution_count": 2,
   "metadata": {
    "collapsed": true
   },
   "outputs": [],
   "source": [
    "import imp\n",
    "import LVL1"
   ]
  },
  {
   "cell_type": "code",
   "execution_count": 3,
   "metadata": {
    "collapsed": true
   },
   "outputs": [],
   "source": [
    "#Read in data\n",
    "Glacier= 'Wolverine' #Capitalized glacier name\n",
    "Station= '990' #elevation of station\n",
    "folder=r\"Q:/Project Data/GlacierData/Benchmark_Program/Data/\" + Glacier+ \"/AllYears/Wx/Raw\" #folder cont\n",
    "file_label='_15min_' #used for importting and output name\n",
    "yr='all'\n",
    "file=Glacier.lower()+Station+file_label+yr+\".csv\" #filename; change if yours different\n",
    "pth=os.path.join(folder, file) #path to data file"
   ]
  },
  {
   "cell_type": "code",
   "execution_count": 4,
   "metadata": {
    "collapsed": true
   },
   "outputs": [],
   "source": [
    "#Set constants\n",
    "date_format='%m/%d/%Y %H:%M:%S' #input date format (change if yours is different)\n",
    "out_date_format='%Y/%m/%d %H:%M'\n",
    "timezone='America/Anchorage' #choose from pytz.all_timezones"
   ]
  },
  {
   "cell_type": "code",
   "execution_count": 5,
   "metadata": {
    "collapsed": false
   },
   "outputs": [
    {
     "name": "stdout",
     "output_type": "stream",
     "text": [
      "read file: Q:/Project Data/GlacierData/Benchmark_Program/Data/Wolverine/AllYears/Wx/Raw\\wolverine990_15min_all.csv\n"
     ]
    },
    {
     "name": "stderr",
     "output_type": "stream",
     "text": [
      "C:\\Users\\ehbaker\\AppData\\Local\\Continuum\\Anaconda3\\lib\\site-packages\\IPython\\core\\interactiveshell.py:2717: DtypeWarning: Columns (4,5) have mixed types. Specify dtype option on import or set low_memory=False.\n",
      "  interactivity=interactivity, compiler=compiler, result=result)\n"
     ]
    }
   ],
   "source": [
    "dat=pd.read_csv(pth)\n",
    "print(\"read file: \" + pth)"
   ]
  },
  {
   "cell_type": "code",
   "execution_count": 6,
   "metadata": {
    "collapsed": false
   },
   "outputs": [
    {
     "data": {
      "text/html": [
       "<div>\n",
       "<table border=\"1\" class=\"dataframe\">\n",
       "  <thead>\n",
       "    <tr style=\"text-align: right;\">\n",
       "      <th></th>\n",
       "      <th>Date</th>\n",
       "      <th>Time</th>\n",
       "      <th>Instrument</th>\n",
       "      <th>Value</th>\n",
       "      <th>Unit</th>\n",
       "      <th>Flag</th>\n",
       "      <th>DateTime</th>\n",
       "    </tr>\n",
       "  </thead>\n",
       "  <tbody>\n",
       "    <tr>\n",
       "      <th>2952293</th>\n",
       "      <td>09/10/2017</td>\n",
       "      <td>17:30:00</td>\n",
       "      <td>WS</td>\n",
       "      <td>2.000</td>\n",
       "      <td>m/s</td>\n",
       "      <td>G</td>\n",
       "      <td>09/10/2017 17:30:00</td>\n",
       "    </tr>\n",
       "    <tr>\n",
       "      <th>2952294</th>\n",
       "      <td>09/10/2017</td>\n",
       "      <td>17:30:00</td>\n",
       "      <td>BV</td>\n",
       "      <td>13.800</td>\n",
       "      <td>V</td>\n",
       "      <td>G</td>\n",
       "      <td>09/10/2017 17:30:00</td>\n",
       "    </tr>\n",
       "    <tr>\n",
       "      <th>2952295</th>\n",
       "      <td>09/10/2017</td>\n",
       "      <td>17:30:00</td>\n",
       "      <td>Tinternal</td>\n",
       "      <td>10.200</td>\n",
       "      <td>C</td>\n",
       "      <td>G</td>\n",
       "      <td>09/10/2017 17:30:00</td>\n",
       "    </tr>\n",
       "    <tr>\n",
       "      <th>2952296</th>\n",
       "      <td>09/10/2017</td>\n",
       "      <td>17:30:00</td>\n",
       "      <td>PC</td>\n",
       "      <td>0.566</td>\n",
       "      <td>m</td>\n",
       "      <td>G</td>\n",
       "      <td>09/10/2017 17:30:00</td>\n",
       "    </tr>\n",
       "    <tr>\n",
       "      <th>2952297</th>\n",
       "      <td>09/10/2017</td>\n",
       "      <td>17:30:00</td>\n",
       "      <td>RH</td>\n",
       "      <td>93.000</td>\n",
       "      <td>%</td>\n",
       "      <td>G</td>\n",
       "      <td>09/10/2017 17:30:00</td>\n",
       "    </tr>\n",
       "    <tr>\n",
       "      <th>2952298</th>\n",
       "      <td>09/10/2017</td>\n",
       "      <td>17:30:00</td>\n",
       "      <td>AT</td>\n",
       "      <td>5.200</td>\n",
       "      <td>C</td>\n",
       "      <td>G</td>\n",
       "      <td>09/10/2017 17:30:00</td>\n",
       "    </tr>\n",
       "    <tr>\n",
       "      <th>2952299</th>\n",
       "      <td>09/10/2017</td>\n",
       "      <td>17:30:00</td>\n",
       "      <td>AT2</td>\n",
       "      <td>5.100</td>\n",
       "      <td>C</td>\n",
       "      <td>G</td>\n",
       "      <td>09/10/2017 17:30:00</td>\n",
       "    </tr>\n",
       "    <tr>\n",
       "      <th>2952300</th>\n",
       "      <td>09/10/2017</td>\n",
       "      <td>17:30:00</td>\n",
       "      <td>B</td>\n",
       "      <td>-0.582</td>\n",
       "      <td>kPa</td>\n",
       "      <td>G</td>\n",
       "      <td>09/10/2017 17:30:00</td>\n",
       "    </tr>\n",
       "  </tbody>\n",
       "</table>\n",
       "</div>"
      ],
      "text/plain": [
       "               Date      Time Instrument   Value Unit Flag  \\\n",
       "2952293  09/10/2017  17:30:00         WS   2.000  m/s    G   \n",
       "2952294  09/10/2017  17:30:00         BV  13.800    V    G   \n",
       "2952295  09/10/2017  17:30:00  Tinternal  10.200    C    G   \n",
       "2952296  09/10/2017  17:30:00         PC   0.566    m    G   \n",
       "2952297  09/10/2017  17:30:00         RH  93.000    %    G   \n",
       "2952298  09/10/2017  17:30:00         AT   5.200    C    G   \n",
       "2952299  09/10/2017  17:30:00        AT2   5.100    C    G   \n",
       "2952300  09/10/2017  17:30:00          B  -0.582  kPa    G   \n",
       "\n",
       "                    DateTime  \n",
       "2952293  09/10/2017 17:30:00  \n",
       "2952294  09/10/2017 17:30:00  \n",
       "2952295  09/10/2017 17:30:00  \n",
       "2952296  09/10/2017 17:30:00  \n",
       "2952297  09/10/2017 17:30:00  \n",
       "2952298  09/10/2017 17:30:00  \n",
       "2952299  09/10/2017 17:30:00  \n",
       "2952300  09/10/2017 17:30:00  "
      ]
     },
     "execution_count": 6,
     "metadata": {},
     "output_type": "execute_result"
    }
   ],
   "source": [
    "dat.tail(8)"
   ]
  },
  {
   "cell_type": "markdown",
   "metadata": {},
   "source": [
    "## Convert Logger time to UTC and Local Time"
   ]
  },
  {
   "cell_type": "code",
   "execution_count": 7,
   "metadata": {
    "collapsed": false
   },
   "outputs": [],
   "source": [
    "#Logger records on UTC -8; convert to local time\n",
    "#Create date-time column\n",
    "#dat['DateTime']=dat.Date+ \" \" + dat.Time #this is needed for non-cumulative processing\n",
    "dat.loc[:,'DateTime']=pd.to_datetime(dat['DateTime'], format=date_format) #set to date-time from string\n",
    "\n",
    "#Correct for time slips\n",
    "dat['DateTime']=dat['DateTime'].dt.round('15min') #round time to the nearest 15 minute value\n",
    "\n",
    "#Convert to UTC time, if logger is logging in UTC-8 (true at some stations)\n",
    "if (Glacier+Station=='Wolverine990') | (Glacier+Station=='Gulkana1480') | (Glacier+Station=='Gulkana1920') | (Glacier+Station=='Wolverine1420'):\n",
    "    dat['UTC_col']=dat.DateTime + datetime.timedelta(hours=8)\n",
    "if (Glacier+Station=='Gulkana1725'):\n",
    "    dat['UTC_col']=dat.DateTime #logger is already in UTC time\n",
    "    \n",
    "#Set timezone of known UTC column\n",
    "dat['UTC_col'].timezone='UTC'\n",
    "#Create column for local time\n",
    "local_timezone=pytz.timezone(timezone) #create local timezone object (e.g. AK time)\n",
    "\n",
    "dat=dat.set_index('UTC_col')\n",
    "#Create column for local time\n",
    "local_timezone=pytz.timezone(timezone) #create local timezone object (e.g. AK time)\n",
    "\n",
    "#Create local time\n",
    "dat['local_time'] = dat.index.tz_localize('UTC').tz_convert(local_timezone)\n",
    "\n",
    "dat['index_local_time']=dat.local_time.copy()\n",
    "\n",
    "#Set index to local time\n",
    "dat=dat.set_index('index_local_time')"
   ]
  },
  {
   "cell_type": "code",
   "execution_count": 9,
   "metadata": {
    "collapsed": false
   },
   "outputs": [],
   "source": [
    "#Drop duplicates that have same instrument name and date/time stamp (from multiple downloads of same portion of data)\n",
    "dat=dat.drop_duplicates(subset=['DateTime', 'Instrument'], keep='first') #gets rid of overlaps (i.e. multiple downloads of same bit of data)"
   ]
  },
  {
   "cell_type": "code",
   "execution_count": 10,
   "metadata": {
    "collapsed": false
   },
   "outputs": [],
   "source": [
    "#Instrument Label Change - if same label has been used for different quantities thru time: separate into 2 distinct labels.\n",
    "if Glacier + Station==\"Wolverine990\":\n",
    "    dat.loc[(dat.Instrument=='WD') & (dat.index<'2015-09-06 17:15'), 'Instrument']='WindDir' #before this date, \"WD\" was simply wind direction; after, is vector-averaged\n",
    "    dat.loc[(dat.Instrument=='WD') & (dat.index>='2015-09-06 17:15'), 'Instrument']='WDSA' \n",
    "    \n",
    "if Glacier + Station==\"Gulkana1480\":\n",
    "    dat.loc[(dat.Instrument=='WD') & (dat.index<'2015-09-28 12:00'), 'Instrument']='WindDir' #before this date, \"WD\" was simply wind direction; after, is vector-averaged\n",
    "    dat.loc[(dat.Instrument=='WD') & (dat.index>='2015-09-28 12:00'), 'Instrument']='WDSA' \n",
    "    \n",
    "#Gulkana 1725 has had consistent variable naming throughout"
   ]
  },
  {
   "cell_type": "markdown",
   "metadata": {},
   "source": [
    "## Consolidate Sensor Naming\n",
    "#### Has varied thru time"
   ]
  },
  {
   "cell_type": "code",
   "execution_count": 11,
   "metadata": {
    "collapsed": true
   },
   "outputs": [],
   "source": [
    "#If site does NOT have a given sensor, leave label, create empty list\n",
    "\n",
    "if Glacier + Station =='Wolverine990':  \n",
    "    #Name recorded on the logger changed thru time; indicate which are grouped (i.e. logging same variable) here\n",
    "    wind_gust_labels=['WindGusts', 'WG', 'WSG']\n",
    "    wind_speed_labels=['AvgWind', 'WS'] #this is NOT vector-averaged wind speed\n",
    "    vec_avg_wind_speed=['WDSA']\n",
    "    wind_dir_labels=['WindDir']\n",
    "    temp_unasp1_labels=['AirTemp1', 'T1', 'T']\n",
    "    temp_unasp2_labels=['AirTemp2', 'T2']\n",
    "    temp_asp1_labels=['AirTempAsp', 'AspT', 'AT']\n",
    "    temp_asp2_labels=['ASPTRH', 'AT2']\n",
    "    precip_stage_labels=['PR']\n",
    "    precip_weighing_labels=['TPG', 'PC']\n",
    "    rel_hum_labels=['RH']\n",
    "    barometer_labels=['B']\n",
    "    logger_bat_label=['BV']\n",
    "    logger_temp_label=['Tinternal']\n",
    "    bad_labels=['PrecipStage', 'AirTemp3', 'Air Temp w/FanN', 'AirTemp w/Fan', 'VectorAvgWindDir', 'PS', 'MWD', 'WDA'] #labels containing only bad data; introduced during maintenence etc.\n",
    "    radiation_up_labels=[]\n",
    "    radiation_down_labels=[]\n",
    "    snow_depth_labels=[] \n",
    "    \n",
    "if Glacier + Station =='Gulkana1480':  \n",
    "    #Name recorded on the logger changed thru time; indicate which are grouped (i.e. logging same variable) here\n",
    "    wind_gust_labels=['WSG']\n",
    "    wind_speed_labels=['WindSpeed', 'WS']\n",
    "    vec_avg_wind_speed=['WDSA']\n",
    "    wind_dir_labels=['WindDir'] #this is NOT-vector average wind direction\n",
    "    temp_unasp1_labels=['AirTemp1', 'T1', 'T']\n",
    "    temp_unasp2_labels=['AirTemp2', 'T2']\n",
    "    temp_asp1_labels=['AspT', 'AT']\n",
    "    temp_asp2_labels=['AT2']\n",
    "    precip_stage_labels=['PR'] #precip doesn't begin until 2010-07; before this, is recording, but logger only has 0 precip\n",
    "    precip_weighing_labels=['TPG', 'PC']\n",
    "    rel_hum_labels=['RH']\n",
    "    barometer_labels=[] #no barometer at this station\n",
    "    logger_bat_label=['BV']\n",
    "    logger_temp_label=['Tinternal']\n",
    "    bad_labels=['PrecipStage', 'AirTemp3'] #labels containing only bad data; introduced during maintenence etc.\n",
    "    radiation_up_labels=[]\n",
    "    radiation_down_labels=[]\n",
    "    snow_depth_labels=[]    \n",
    "    \n",
    "if Glacier + Station=='Gulkana1725':\n",
    "    #Only a single name thru time; no changes @ 1725\n",
    "    wind_gust_labels=[]#no wind gust recorded\n",
    "    wind_speed_labels=['MS']\n",
    "    vec_avg_wind_speed=['MD']\n",
    "    wind_dir_labels=[] #this is NOT-vector average wind direction\n",
    "    temp_unasp1_labels=['T']\n",
    "    temp_unasp2_labels=[]\n",
    "    temp_asp1_labels=['TA']\n",
    "    temp_asp2_labels=[]\n",
    "    precip_stage_labels=[]\n",
    "    precip_weighing_labels=['PC']\n",
    "    rel_hum_labels=[]\n",
    "    barometer_labels=[] #no barometer at this station\n",
    "    logger_bat_label=['VB']\n",
    "    logger_temp_label=[]\n",
    "    bad_labels=[]\n",
    "    radiation_up_labels=['RU']\n",
    "    radiation_down_labels=['RD']\n",
    "    snow_depth_labels=['DS']\n",
    "    \n",
    "if (Glacier + Station=='Gulkana1920') | (Glacier + Station=='Wolverine1420'): #same program and same variable naming at JWS stations\n",
    "    wind_gust_labels=[]#no wind gust recorded\n",
    "    wind_speed_labels=['WS_ms_S_WVT']\n",
    "    vec_avg_wind_speed=['WindDir_D1_WVT'] #I am guessing this is vec acerage; should come back and check program before using\n",
    "    wind_dir_labels=[] #this is NOT-vector average wind direction\n",
    "    temp_unasp1_labels=['AirTempC_Avg']\n",
    "    temp_unasp2_labels=[]\n",
    "    temp_asp1_labels=[]\n",
    "    temp_asp2_labels=[]\n",
    "    precip_stage_labels=[]\n",
    "    precip_weighing_labels=[]\n",
    "    rel_hum_labels=['RH']\n",
    "    barometer_labels=['BP_inHg_Avg']\n",
    "    logger_bat_label=['BattV_Avg']\n",
    "    logger_temp_label=[]\n",
    "    bad_labels=[]\n",
    "    radiation_up_labels=['PyrnUp_Avg']\n",
    "    radiation_down_labels=['PyrnDn_Avg']\n",
    "    snow_depth_labels=[]"
   ]
  },
  {
   "cell_type": "code",
   "execution_count": 12,
   "metadata": {
    "collapsed": false
   },
   "outputs": [],
   "source": [
    "#Rename instruments \n",
    "dat.loc[dat.Instrument.isin(wind_gust_labels), \"Instrument\"]='WindGustSpeed'\n",
    "dat.loc[dat.Instrument.isin(wind_speed_labels), \"Instrument\"]='WindSpeed'\n",
    "dat.loc[dat.Instrument.isin(wind_dir_labels), \"Instrument\"]='WindDir'\n",
    "dat.loc[dat.Instrument.isin(vec_avg_wind_speed), \"Instrument\"]='VecAvgWindDir'\n",
    "dat.loc[dat.Instrument.isin(temp_unasp1_labels), \"Instrument\"]='Tpassive1'\n",
    "dat.loc[dat.Instrument.isin(temp_unasp2_labels), \"Instrument\"]='Tpassive2'\n",
    "dat.loc[dat.Instrument.isin(temp_asp1_labels), \"Instrument\"]='TAspirated1'\n",
    "dat.loc[dat.Instrument.isin(temp_asp2_labels), \"Instrument\"]='TAspirated2'\n",
    "dat.loc[dat.Instrument.isin(precip_stage_labels), \"Instrument\"]='StageCumulative'\n",
    "dat.loc[dat.Instrument.isin(precip_weighing_labels), \"Instrument\"]='TPGCumulative'\n",
    "dat.loc[dat.Instrument.isin(rel_hum_labels), \"Instrument\"]='RelHum'\n",
    "dat.loc[dat.Instrument.isin(barometer_labels), \"Instrument\"]='Barom'\n",
    "dat.loc[dat.Instrument.isin(logger_bat_label), \"Instrument\"]='LoggerBattery'\n",
    "dat.loc[dat.Instrument.isin(logger_temp_label), \"Instrument\"]='LoggerTemp'\n",
    "dat.loc[dat.Instrument.isin(radiation_up_labels), \"Instrument\"]='RadiationIn'\n",
    "dat.loc[dat.Instrument.isin(radiation_down_labels), \"Instrument\"]='RadiationOut'\n",
    "dat.loc[dat.Instrument.isin(snow_depth_labels), \"Instrument\"]='SnowDepth'\n",
    "\n",
    "#Remove rows with bad data\n",
    "dat=dat[~dat.Instrument.isin(bad_labels)] #Remove where labels are bad; introduced during maintenance"
   ]
  },
  {
   "cell_type": "code",
   "execution_count": 13,
   "metadata": {
    "collapsed": false
   },
   "outputs": [],
   "source": [
    "#Cast the data from long -> wide format\n",
    "dat=dat.reset_index() #reset index so all unique\n",
    "wide_dat=dat.pivot_table(columns='Instrument', values='Value', index='local_time')"
   ]
  },
  {
   "cell_type": "code",
   "execution_count": 14,
   "metadata": {
    "collapsed": true
   },
   "outputs": [],
   "source": [
    "#List columns desired in output\n",
    "out_columns=['UTC_time', 'local_time', 'Tpassive1', 'Tpassive2',\n",
    "       'TAspirated1', 'TAspirated2', 'RelHum', 'StageCumulative',\n",
    "       'TPGCumulative', 'WindSpeed', 'WindGustSpeed', 'WindDir', 'Barom',\n",
    "        'VecAvgWindDir', 'RadiationIn', 'RadiationOut', 'SnowDepth', 'LoggerTemp', 'LoggerBattery']"
   ]
  },
  {
   "cell_type": "code",
   "execution_count": 15,
   "metadata": {
    "collapsed": true
   },
   "outputs": [],
   "source": [
    "#If this columns is not in dataframe, create\n",
    "for col in out_columns:\n",
    "    if col not in wide_dat.columns:\n",
    "        wide_dat[col]=np.nan #create the column; fill with NANs"
   ]
  },
  {
   "cell_type": "code",
   "execution_count": 16,
   "metadata": {
    "collapsed": false
   },
   "outputs": [],
   "source": [
    "#Set output format of time\n",
    "wide_dat['UTC_time']=wide_dat.index.tz_convert('UTC').strftime(out_date_format)#Create column for true local time (as string, not UTC - X hrs)\n",
    "wide_dat['local_time']=wide_dat.index.tz_convert(timezone).strftime(out_date_format)#Create column for true local time (as string, not UTC - X hrs)"
   ]
  },
  {
   "cell_type": "code",
   "execution_count": 17,
   "metadata": {
    "collapsed": false
   },
   "outputs": [
    {
     "data": {
      "text/html": [
       "<div>\n",
       "<table border=\"1\" class=\"dataframe\">\n",
       "  <thead>\n",
       "    <tr style=\"text-align: right;\">\n",
       "      <th>Instrument</th>\n",
       "      <th>UTC_time</th>\n",
       "      <th>local_time</th>\n",
       "      <th>Tpassive1</th>\n",
       "      <th>Tpassive2</th>\n",
       "      <th>TAspirated1</th>\n",
       "      <th>TAspirated2</th>\n",
       "      <th>RelHum</th>\n",
       "      <th>StageCumulative</th>\n",
       "      <th>TPGCumulative</th>\n",
       "      <th>WindSpeed</th>\n",
       "      <th>WindGustSpeed</th>\n",
       "      <th>WindDir</th>\n",
       "      <th>Barom</th>\n",
       "      <th>VecAvgWindDir</th>\n",
       "      <th>RadiationIn</th>\n",
       "      <th>RadiationOut</th>\n",
       "      <th>SnowDepth</th>\n",
       "      <th>LoggerTemp</th>\n",
       "      <th>LoggerBattery</th>\n",
       "    </tr>\n",
       "    <tr>\n",
       "      <th>local_time</th>\n",
       "      <th></th>\n",
       "      <th></th>\n",
       "      <th></th>\n",
       "      <th></th>\n",
       "      <th></th>\n",
       "      <th></th>\n",
       "      <th></th>\n",
       "      <th></th>\n",
       "      <th></th>\n",
       "      <th></th>\n",
       "      <th></th>\n",
       "      <th></th>\n",
       "      <th></th>\n",
       "      <th></th>\n",
       "      <th></th>\n",
       "      <th></th>\n",
       "      <th></th>\n",
       "      <th></th>\n",
       "      <th></th>\n",
       "    </tr>\n",
       "  </thead>\n",
       "  <tbody>\n",
       "    <tr>\n",
       "      <th>2017-09-10 17:00:00-08:00</th>\n",
       "      <td>2017/09/11 01:00</td>\n",
       "      <td>2017/09/10 17:00</td>\n",
       "      <td>5.1</td>\n",
       "      <td>NaN</td>\n",
       "      <td>5.1</td>\n",
       "      <td>5.0</td>\n",
       "      <td>94.0</td>\n",
       "      <td>NaN</td>\n",
       "      <td>0.566</td>\n",
       "      <td>2.0</td>\n",
       "      <td>3.0</td>\n",
       "      <td>NaN</td>\n",
       "      <td>-0.601</td>\n",
       "      <td>57.0</td>\n",
       "      <td>NaN</td>\n",
       "      <td>NaN</td>\n",
       "      <td>NaN</td>\n",
       "      <td>9.1</td>\n",
       "      <td>13.9</td>\n",
       "    </tr>\n",
       "    <tr>\n",
       "      <th>2017-09-10 17:15:00-08:00</th>\n",
       "      <td>2017/09/11 01:15</td>\n",
       "      <td>2017/09/10 17:15</td>\n",
       "      <td>5.2</td>\n",
       "      <td>NaN</td>\n",
       "      <td>5.2</td>\n",
       "      <td>5.2</td>\n",
       "      <td>93.0</td>\n",
       "      <td>NaN</td>\n",
       "      <td>0.566</td>\n",
       "      <td>2.0</td>\n",
       "      <td>3.0</td>\n",
       "      <td>NaN</td>\n",
       "      <td>-0.594</td>\n",
       "      <td>67.0</td>\n",
       "      <td>NaN</td>\n",
       "      <td>NaN</td>\n",
       "      <td>NaN</td>\n",
       "      <td>9.1</td>\n",
       "      <td>13.9</td>\n",
       "    </tr>\n",
       "    <tr>\n",
       "      <th>2017-09-10 17:30:00-08:00</th>\n",
       "      <td>2017/09/11 01:30</td>\n",
       "      <td>2017/09/10 17:30</td>\n",
       "      <td>5.0</td>\n",
       "      <td>NaN</td>\n",
       "      <td>5.2</td>\n",
       "      <td>5.1</td>\n",
       "      <td>93.0</td>\n",
       "      <td>NaN</td>\n",
       "      <td>0.566</td>\n",
       "      <td>2.0</td>\n",
       "      <td>3.0</td>\n",
       "      <td>NaN</td>\n",
       "      <td>-0.582</td>\n",
       "      <td>90.0</td>\n",
       "      <td>NaN</td>\n",
       "      <td>NaN</td>\n",
       "      <td>NaN</td>\n",
       "      <td>10.2</td>\n",
       "      <td>13.8</td>\n",
       "    </tr>\n",
       "  </tbody>\n",
       "</table>\n",
       "</div>"
      ],
      "text/plain": [
       "Instrument                         UTC_time        local_time  Tpassive1  \\\n",
       "local_time                                                                 \n",
       "2017-09-10 17:00:00-08:00  2017/09/11 01:00  2017/09/10 17:00        5.1   \n",
       "2017-09-10 17:15:00-08:00  2017/09/11 01:15  2017/09/10 17:15        5.2   \n",
       "2017-09-10 17:30:00-08:00  2017/09/11 01:30  2017/09/10 17:30        5.0   \n",
       "\n",
       "Instrument                 Tpassive2  TAspirated1  TAspirated2  RelHum  \\\n",
       "local_time                                                               \n",
       "2017-09-10 17:00:00-08:00        NaN          5.1          5.0    94.0   \n",
       "2017-09-10 17:15:00-08:00        NaN          5.2          5.2    93.0   \n",
       "2017-09-10 17:30:00-08:00        NaN          5.2          5.1    93.0   \n",
       "\n",
       "Instrument                 StageCumulative  TPGCumulative  WindSpeed  \\\n",
       "local_time                                                             \n",
       "2017-09-10 17:00:00-08:00              NaN          0.566        2.0   \n",
       "2017-09-10 17:15:00-08:00              NaN          0.566        2.0   \n",
       "2017-09-10 17:30:00-08:00              NaN          0.566        2.0   \n",
       "\n",
       "Instrument                 WindGustSpeed  WindDir  Barom  VecAvgWindDir  \\\n",
       "local_time                                                                \n",
       "2017-09-10 17:00:00-08:00            3.0      NaN -0.601           57.0   \n",
       "2017-09-10 17:15:00-08:00            3.0      NaN -0.594           67.0   \n",
       "2017-09-10 17:30:00-08:00            3.0      NaN -0.582           90.0   \n",
       "\n",
       "Instrument                 RadiationIn  RadiationOut  SnowDepth  LoggerTemp  \\\n",
       "local_time                                                                    \n",
       "2017-09-10 17:00:00-08:00          NaN           NaN        NaN         9.1   \n",
       "2017-09-10 17:15:00-08:00          NaN           NaN        NaN         9.1   \n",
       "2017-09-10 17:30:00-08:00          NaN           NaN        NaN        10.2   \n",
       "\n",
       "Instrument                 LoggerBattery  \n",
       "local_time                                \n",
       "2017-09-10 17:00:00-08:00           13.9  \n",
       "2017-09-10 17:15:00-08:00           13.9  \n",
       "2017-09-10 17:30:00-08:00           13.8  "
      ]
     },
     "execution_count": 17,
     "metadata": {},
     "output_type": "execute_result"
    }
   ],
   "source": [
    "wide_dat[out_columns].tail(3)"
   ]
  },
  {
   "cell_type": "code",
   "execution_count": 18,
   "metadata": {
    "collapsed": false
   },
   "outputs": [],
   "source": [
    "wide_dat=wide_dat.reset_index(drop=True).copy() #drop index in output dataframe"
   ]
  },
  {
   "cell_type": "code",
   "execution_count": 19,
   "metadata": {
    "collapsed": true
   },
   "outputs": [],
   "source": [
    "save_dat=wide_dat[out_columns]"
   ]
  },
  {
   "cell_type": "code",
   "execution_count": 20,
   "metadata": {
    "collapsed": true
   },
   "outputs": [],
   "source": [
    "#directory to save output data\n",
    "save_pth=r\"Q:/Project Data/GlacierData/Benchmark_Program/Data/\" +Glacier+ r\"/AllYears/Wx/LVL0/emily/\"\n",
    "out_nm=Glacier.lower()+ Station + file_label+yr+\".csv\""
   ]
  },
  {
   "cell_type": "code",
   "execution_count": 22,
   "metadata": {
    "collapsed": false
   },
   "outputs": [
    {
     "name": "stdout",
     "output_type": "stream",
     "text": [
      "saved to:  Q:/Project Data/GlacierData/Benchmark_Program/Data/Wolverine/AllYears/Wx/LVL0/emily/wolverine990_15min_all.csv\n"
     ]
    }
   ],
   "source": [
    "save_dat.to_csv(os.path.join(save_pth, out_nm), index=False, float_format='%g')\n",
    "print(\"saved to: \", os.path.join(save_pth, out_nm))"
   ]
  },
  {
   "cell_type": "code",
   "execution_count": 23,
   "metadata": {
    "collapsed": false
   },
   "outputs": [],
   "source": [
    "#wide_dat[['TAspirated1', 'Tpassive1']].plot()"
   ]
  },
  {
   "cell_type": "code",
   "execution_count": 24,
   "metadata": {
    "collapsed": false
   },
   "outputs": [],
   "source": [
    "#If this is the Nunatak station, fill gaps with Irridium telemetry\n",
    "if Glacier + Station=='Gulkana1725':\n",
    "    %run \"Q:\\Project Data\\GlacierData\\Benchmark_Program\\Code\\Weather\\LVL_0\\Gulkana1725_FillGapsWithIrridium.py\""
   ]
  },
  {
   "cell_type": "code",
   "execution_count": 37,
   "metadata": {
    "collapsed": false
   },
   "outputs": [
    {
     "name": "stdout",
     "output_type": "stream",
     "text": [
      "1990s data added to logger from NWIS at Wolverine990\n"
     ]
    }
   ],
   "source": [
    "#If Wolv 990 or Gulkana 1480, add 1990s data from NWIS to extend record back in time\n",
    "if Glacier + Station=='Wolverine990':\n",
    "    %run \"Q:\\Project Data\\GlacierData\\Benchmark_Program\\Code\\Weather\\LVL_0\\Add1990sDataFromNWIS_Wolverine990.py\""
   ]
  },
  {
   "cell_type": "code",
   "execution_count": 38,
   "metadata": {
    "collapsed": false
   },
   "outputs": [],
   "source": [
    "if Glacier + Station=='Gulkana1480':\n",
    "    %run \"Q:\\Project Data\\GlacierData\\Benchmark_Program\\Code\\Weather\\LVL_0\\Add1990sDataFromNWIS_Gulkana1480.py\""
   ]
  },
  {
   "cell_type": "code",
   "execution_count": 36,
   "metadata": {
    "collapsed": false
   },
   "outputs": [
    {
     "data": {
      "text/plain": [
       "'Wolverine990'"
      ]
     },
     "execution_count": 36,
     "metadata": {},
     "output_type": "execute_result"
    }
   ],
   "source": []
  },
  {
   "cell_type": "code",
   "execution_count": null,
   "metadata": {
    "collapsed": true
   },
   "outputs": [],
   "source": []
  }
 ],
 "metadata": {
  "kernelspec": {
   "display_name": "Python 3",
   "language": "python",
   "name": "python3"
  }
 },
 "nbformat": 4,
 "nbformat_minor": 2
}
