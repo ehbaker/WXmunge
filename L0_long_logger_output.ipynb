{
 "cells": [
  {
   "cell_type": "markdown",
   "metadata": {},
   "source": [
    "# L0 data clean"
   ]
  },
  {
   "cell_type": "code",
   "execution_count": 1,
   "metadata": {
    "collapsed": true
   },
   "outputs": [],
   "source": [
    "import pandas as pd\n",
    "import numpy as np\n",
    "import matplotlib.pyplot as plt\n",
    "import os\n",
    "import imp\n",
    "import datetime\n",
    "import pytz\n",
    "%matplotlib inline"
   ]
  },
  {
   "cell_type": "code",
   "execution_count": 2,
   "metadata": {
    "collapsed": true
   },
   "outputs": [],
   "source": [
    "import imp\n",
    "import LVL1"
   ]
  },
  {
   "cell_type": "code",
   "execution_count": 3,
   "metadata": {
    "collapsed": true
   },
   "outputs": [],
   "source": [
    "#Read in data\n",
    "Glacier= 'Gulkana' #Capitalized glacier name\n",
    "Station= '1725' #elevation of station\n",
    "folder=r\"Q:/Project Data/GlacierData/Benchmark_Program/Data/\" + Glacier+ \"/AllYears/Wx/Raw\" #folder cont\n",
    "file_label='_15min_' #used for importting and output name\n",
    "yr='all'\n",
    "file=Glacier.lower()+Station+file_label+yr+\".csv\" #filename; change if yours different\n",
    "pth=os.path.join(folder, file) #path to data file"
   ]
  },
  {
   "cell_type": "code",
   "execution_count": 4,
   "metadata": {
    "collapsed": true
   },
   "outputs": [],
   "source": [
    "#Set constants\n",
    "date_format='%m/%d/%Y %H:%M:%S' #input date format (change if yours is different)\n",
    "out_date_format='%Y/%m/%d %H:%M'\n",
    "timezone='America/Anchorage' #choose from pytz.all_timezones"
   ]
  },
  {
   "cell_type": "code",
   "execution_count": 5,
   "metadata": {
    "collapsed": false
   },
   "outputs": [
    {
     "name": "stdout",
     "output_type": "stream",
     "text": [
      "read file: Q:/Project Data/GlacierData/Benchmark_Program/Data/Gulkana/AllYears/Wx/Raw\\gulkana1725_15min_all.csv\n"
     ]
    }
   ],
   "source": [
    "dat=pd.read_csv(pth)\n",
    "print(\"read file: \" + pth)"
   ]
  },
  {
   "cell_type": "code",
   "execution_count": 6,
   "metadata": {
    "collapsed": false
   },
   "outputs": [
    {
     "data": {
      "text/html": [
       "<div>\n",
       "<table border=\"1\" class=\"dataframe\">\n",
       "  <thead>\n",
       "    <tr style=\"text-align: right;\">\n",
       "      <th></th>\n",
       "      <th>Date</th>\n",
       "      <th>Time</th>\n",
       "      <th>Instrument</th>\n",
       "      <th>Value</th>\n",
       "      <th>Unit</th>\n",
       "      <th>Flag</th>\n",
       "      <th>DateTime</th>\n",
       "    </tr>\n",
       "  </thead>\n",
       "  <tbody>\n",
       "    <tr>\n",
       "      <th>765411</th>\n",
       "      <td>08/23/2017</td>\n",
       "      <td>05:00:00</td>\n",
       "      <td>RD</td>\n",
       "      <td>2.7100</td>\n",
       "      <td>W/m2</td>\n",
       "      <td>G</td>\n",
       "      <td>08/23/2017 05:00:00</td>\n",
       "    </tr>\n",
       "    <tr>\n",
       "      <th>765412</th>\n",
       "      <td>08/23/2017</td>\n",
       "      <td>05:00:00</td>\n",
       "      <td>DS</td>\n",
       "      <td>2.1560</td>\n",
       "      <td>meters</td>\n",
       "      <td>G</td>\n",
       "      <td>08/23/2017 05:00:00</td>\n",
       "    </tr>\n",
       "    <tr>\n",
       "      <th>765413</th>\n",
       "      <td>08/23/2017</td>\n",
       "      <td>05:00:00</td>\n",
       "      <td>MS</td>\n",
       "      <td>1.2000</td>\n",
       "      <td>MPS</td>\n",
       "      <td>G</td>\n",
       "      <td>08/23/2017 05:00:00</td>\n",
       "    </tr>\n",
       "    <tr>\n",
       "      <th>765414</th>\n",
       "      <td>08/23/2017</td>\n",
       "      <td>05:00:00</td>\n",
       "      <td>MD</td>\n",
       "      <td>6.0000</td>\n",
       "      <td>DEG</td>\n",
       "      <td>G</td>\n",
       "      <td>08/23/2017 05:00:00</td>\n",
       "    </tr>\n",
       "    <tr>\n",
       "      <th>765415</th>\n",
       "      <td>08/23/2017</td>\n",
       "      <td>05:00:00</td>\n",
       "      <td>T</td>\n",
       "      <td>6.0000</td>\n",
       "      <td>C</td>\n",
       "      <td>G</td>\n",
       "      <td>08/23/2017 05:00:00</td>\n",
       "    </tr>\n",
       "    <tr>\n",
       "      <th>765416</th>\n",
       "      <td>08/23/2017</td>\n",
       "      <td>05:00:00</td>\n",
       "      <td>VB</td>\n",
       "      <td>12.9000</td>\n",
       "      <td>V</td>\n",
       "      <td>G</td>\n",
       "      <td>08/23/2017 05:00:00</td>\n",
       "    </tr>\n",
       "    <tr>\n",
       "      <th>765417</th>\n",
       "      <td>08/23/2017</td>\n",
       "      <td>05:00:00</td>\n",
       "      <td>TA</td>\n",
       "      <td>5.2000</td>\n",
       "      <td>C</td>\n",
       "      <td>G</td>\n",
       "      <td>08/23/2017 05:00:00</td>\n",
       "    </tr>\n",
       "    <tr>\n",
       "      <th>765418</th>\n",
       "      <td>08/23/2017</td>\n",
       "      <td>05:00:00</td>\n",
       "      <td>PC</td>\n",
       "      <td>4.2948</td>\n",
       "      <td>m</td>\n",
       "      <td>G</td>\n",
       "      <td>08/23/2017 05:00:00</td>\n",
       "    </tr>\n",
       "  </tbody>\n",
       "</table>\n",
       "</div>"
      ],
      "text/plain": [
       "              Date      Time Instrument    Value    Unit Flag  \\\n",
       "765411  08/23/2017  05:00:00         RD   2.7100    W/m2    G   \n",
       "765412  08/23/2017  05:00:00         DS   2.1560  meters    G   \n",
       "765413  08/23/2017  05:00:00         MS   1.2000     MPS    G   \n",
       "765414  08/23/2017  05:00:00         MD   6.0000     DEG    G   \n",
       "765415  08/23/2017  05:00:00          T   6.0000       C    G   \n",
       "765416  08/23/2017  05:00:00         VB  12.9000       V    G   \n",
       "765417  08/23/2017  05:00:00         TA   5.2000       C    G   \n",
       "765418  08/23/2017  05:00:00         PC   4.2948       m    G   \n",
       "\n",
       "                   DateTime  \n",
       "765411  08/23/2017 05:00:00  \n",
       "765412  08/23/2017 05:00:00  \n",
       "765413  08/23/2017 05:00:00  \n",
       "765414  08/23/2017 05:00:00  \n",
       "765415  08/23/2017 05:00:00  \n",
       "765416  08/23/2017 05:00:00  \n",
       "765417  08/23/2017 05:00:00  \n",
       "765418  08/23/2017 05:00:00  "
      ]
     },
     "execution_count": 6,
     "metadata": {},
     "output_type": "execute_result"
    }
   ],
   "source": [
    "dat.tail(8)"
   ]
  },
  {
   "cell_type": "markdown",
   "metadata": {},
   "source": [
    "## Convert Logger time to UTC and Local Time"
   ]
  },
  {
   "cell_type": "code",
   "execution_count": 7,
   "metadata": {
    "collapsed": false
   },
   "outputs": [],
   "source": [
    "#Logger records on UTC -8; convert to local time\n",
    "#Create date-time column\n",
    "#dat['DateTime']=dat.Date+ \" \" + dat.Time #this is needed for non-cumulative processing\n",
    "dat.loc[:,'DateTime']=pd.to_datetime(dat['DateTime'], format=date_format) #set to date-time from string\n",
    "\n",
    "#Correct for time slips\n",
    "dat['DateTime']=dat['DateTime'].dt.round('15min') #round time to the nearest 15 minute value\n",
    "\n",
    "#Convert to UTC time, if logger is logging in UTC-8 (true at some stations)\n",
    "if (Glacier+Station=='Wolverine990') | (Glacier+Station=='Gulkana1480') | (Glacier+Station=='Gulkana1920') | (Glacier+Station=='Wolverine1420'):\n",
    "    dat['UTC_col']=dat.DateTime + datetime.timedelta(hours=8)\n",
    "if (Glacier+Station=='Gulkana1725'):\n",
    "    dat['UTC_col']=dat.DateTime #logger is already in UTC time\n",
    "    \n",
    "#Set timezone of known UTC column\n",
    "dat['UTC_col'].timezone='UTC'\n",
    "#Create column for local time\n",
    "local_timezone=pytz.timezone(timezone) #create local timezone object (e.g. AK time)\n",
    "\n",
    "dat=dat.set_index('UTC_col')\n",
    "#Create column for local time\n",
    "local_timezone=pytz.timezone(timezone) #create local timezone object (e.g. AK time)\n",
    "\n",
    "#Create local time\n",
    "dat['local_time'] = dat.index.tz_localize('UTC').tz_convert(local_timezone)\n",
    "\n",
    "dat['index_local_time']=dat.local_time.copy()"
   ]
  },
  {
   "cell_type": "code",
   "execution_count": 8,
   "metadata": {
    "collapsed": false
   },
   "outputs": [],
   "source": [
    "#Set index to local time\n",
    "dat=dat.set_index('index_local_time')"
   ]
  },
  {
   "cell_type": "code",
   "execution_count": 9,
   "metadata": {
    "collapsed": false
   },
   "outputs": [],
   "source": [
    "#Drop duplicates that have same instrument name and date/time stamp (from multiple downloads of same portion of data)\n",
    "dat=dat.drop_duplicates(subset=['DateTime', 'Instrument'], keep='first') #gets rid of overlaps (i.e. multiple downloads of same bit of data)"
   ]
  },
  {
   "cell_type": "code",
   "execution_count": 10,
   "metadata": {
    "collapsed": false
   },
   "outputs": [],
   "source": [
    "#Instrument Label Change - if same label has been used for different quantities thru time: separate into 2 distinct labels.\n",
    "if Glacier + Station==\"Wolverine990\":\n",
    "    dat.loc[(dat.Instrument=='WD') & (dat.index<'2015-09-06 17:15'), 'Instrument']='WindDir' #before this date, \"WD\" was simply wind direction; after, is vector-averaged\n",
    "    dat.loc[(dat.Instrument=='WD') & (dat.index>='2015-09-06 17:15'), 'Instrument']='WDSA' \n",
    "    \n",
    "if Glacier + Station==\"Gulkana1480\":\n",
    "    dat.loc[(dat.Instrument=='WD') & (dat.index<'2015-09-28 12:00'), 'Instrument']='WindDir' #before this date, \"WD\" was simply wind direction; after, is vector-averaged\n",
    "    dat.loc[(dat.Instrument=='WD') & (dat.index>='2015-09-28 12:00'), 'Instrument']='WDSA' \n",
    "    \n",
    "#Gulkana 1725 has had consistent variable naming throughout"
   ]
  },
  {
   "cell_type": "markdown",
   "metadata": {},
   "source": [
    "## Consolidate Sensor Naming\n",
    "#### Has varied thru time"
   ]
  },
  {
   "cell_type": "code",
   "execution_count": 11,
   "metadata": {
    "collapsed": true
   },
   "outputs": [],
   "source": [
    "#If site does NOT have a given sensor, leave label, create empty list\n",
    "\n",
    "if Glacier + Station =='Wolverine990':  \n",
    "    #Name recorded on the logger changed thru time; indicate which are grouped (i.e. logging same variable) here\n",
    "    wind_gust_labels=['WindGusts', 'WG', 'WSG']\n",
    "    wind_speed_labels=['AvgWind', 'WS'] #this is NOT vector-averaged wind speed\n",
    "    vec_avg_wind_speed=['WDSA']\n",
    "    wind_dir_labels=['WindDir']\n",
    "    temp_unasp1_labels=['AirTemp1', 'T1', 'T']\n",
    "    temp_unasp2_labels=['AirTemp2', 'T2']\n",
    "    temp_asp1_labels=['AirTempAsp', 'AspT', 'AT']\n",
    "    temp_asp2_labels=['ASPTRH', 'AT2']\n",
    "    precip_stage_labels=['PR']\n",
    "    precip_weighing_labels=['TPG', 'PC']\n",
    "    rel_hum_labels=['RH']\n",
    "    barometer_labels=['B']\n",
    "    logger_bat_label=['BV']\n",
    "    logger_temp_label=['Tinternal']\n",
    "    bad_labels=['PrecipStage', 'AirTemp3', 'Air Temp w/FanN', 'AirTemp w/Fan', 'VectorAvgWindDir', 'PS', 'MWD', 'WDA'] #labels containing only bad data; introduced during maintenence etc.\n",
    "    radiation_up_labels=[]\n",
    "    radiation_down_labels=[]\n",
    "    snow_depth_labels=[] \n",
    "    \n",
    "if Glacier + Station =='Gulkana1480':  \n",
    "    #Name recorded on the logger changed thru time; indicate which are grouped (i.e. logging same variable) here\n",
    "    wind_gust_labels=['WSG']\n",
    "    wind_speed_labels=['WindSpeed', 'WS']\n",
    "    vec_avg_wind_speed=['WDSA']\n",
    "    wind_dir_labels=['WindDir'] #this is NOT-vector average wind direction\n",
    "    temp_unasp1_labels=['AirTemp1', 'T1', 'T']\n",
    "    temp_unasp2_labels=['AirTemp2', 'T2']\n",
    "    temp_asp1_labels=['AspT', 'AT']\n",
    "    temp_asp2_labels=['AT2']\n",
    "    precip_stage_labels=['PR'] #precip doesn't begin until 2010-07; before this, is recording, but logger only has 0 precip\n",
    "    precip_weighing_labels=['TPG', 'PC']\n",
    "    rel_hum_labels=['RH']\n",
    "    barometer_labels=[] #no barometer at this station\n",
    "    logger_bat_label=['BV']\n",
    "    logger_temp_label=['Tinternal']\n",
    "    bad_labels=['PrecipStage', 'AirTemp3'] #labels containing only bad data; introduced during maintenence etc.\n",
    "    radiation_up_labels=[]\n",
    "    radiation_down_labels=[]\n",
    "    snow_depth_labels=[]    \n",
    "    \n",
    "if Glacier + Station=='Gulkana1725':\n",
    "    #Only a single name thru time; no changes @ 1725\n",
    "    wind_gust_labels=[]#no wind gust recorded\n",
    "    wind_speed_labels=['MS']\n",
    "    vec_avg_wind_speed=['MD']\n",
    "    wind_dir_labels=[] #this is NOT-vector average wind direction\n",
    "    temp_unasp1_labels=['T']\n",
    "    temp_unasp2_labels=[]\n",
    "    temp_asp1_labels=['TA']\n",
    "    temp_asp2_labels=[]\n",
    "    precip_stage_labels=[]\n",
    "    precip_weighing_labels=['PC']\n",
    "    rel_hum_labels=[]\n",
    "    barometer_labels=[] #no barometer at this station\n",
    "    logger_bat_label=['VB']\n",
    "    logger_temp_label=[]\n",
    "    bad_labels=[]\n",
    "    radiation_up_labels=['RU']\n",
    "    radiation_down_labels=['RD']\n",
    "    snow_depth_labels=['DS']\n",
    "    \n",
    "if (Glacier + Station=='Gulkana1920') | (Glacier + Station=='Wolverine1420'): #same program and same variable naming at JWS stations\n",
    "    wind_gust_labels=[]#no wind gust recorded\n",
    "    wind_speed_labels=['WS_ms_S_WVT']\n",
    "    vec_avg_wind_speed=['WindDir_D1_WVT'] #I am guessing this is vec acerage; should come back and check program before using\n",
    "    wind_dir_labels=[] #this is NOT-vector average wind direction\n",
    "    temp_unasp1_labels=['AirTempC_Avg']\n",
    "    temp_unasp2_labels=[]\n",
    "    temp_asp1_labels=[]\n",
    "    temp_asp2_labels=[]\n",
    "    precip_stage_labels=[]\n",
    "    precip_weighing_labels=[]\n",
    "    rel_hum_labels=['RH']\n",
    "    barometer_labels=['BP_inHg_Avg']\n",
    "    logger_bat_label=['BattV_Avg']\n",
    "    logger_temp_label=[]\n",
    "    bad_labels=[]\n",
    "    radiation_up_labels=['PyrnUp_Avg']\n",
    "    radiation_down_labels=['PyrnDn_Avg']\n",
    "    snow_depth_labels=[]"
   ]
  },
  {
   "cell_type": "code",
   "execution_count": 12,
   "metadata": {
    "collapsed": false
   },
   "outputs": [],
   "source": [
    "#Rename instruments \n",
    "dat.loc[dat.Instrument.isin(wind_gust_labels), \"Instrument\"]='WindGustSpeed'\n",
    "dat.loc[dat.Instrument.isin(wind_speed_labels), \"Instrument\"]='WindSpeed'\n",
    "dat.loc[dat.Instrument.isin(wind_dir_labels), \"Instrument\"]='WindDir'\n",
    "dat.loc[dat.Instrument.isin(vec_avg_wind_speed), \"Instrument\"]='VecAvgWindDir'\n",
    "dat.loc[dat.Instrument.isin(temp_unasp1_labels), \"Instrument\"]='Tpassive1'\n",
    "dat.loc[dat.Instrument.isin(temp_unasp2_labels), \"Instrument\"]='Tpassive2'\n",
    "dat.loc[dat.Instrument.isin(temp_asp1_labels), \"Instrument\"]='TAspirated1'\n",
    "dat.loc[dat.Instrument.isin(temp_asp2_labels), \"Instrument\"]='TAspirated2'\n",
    "dat.loc[dat.Instrument.isin(precip_stage_labels), \"Instrument\"]='StageCumulative'\n",
    "dat.loc[dat.Instrument.isin(precip_weighing_labels), \"Instrument\"]='TPGCumulative'\n",
    "dat.loc[dat.Instrument.isin(rel_hum_labels), \"Instrument\"]='RelHum'\n",
    "dat.loc[dat.Instrument.isin(barometer_labels), \"Instrument\"]='Barom'\n",
    "dat.loc[dat.Instrument.isin(logger_bat_label), \"Instrument\"]='LoggerBattery'\n",
    "dat.loc[dat.Instrument.isin(logger_temp_label), \"Instrument\"]='LoggerTemp'\n",
    "dat.loc[dat.Instrument.isin(radiation_up_labels), \"Instrument\"]='RadiationIn'\n",
    "dat.loc[dat.Instrument.isin(radiation_down_labels), \"Instrument\"]='RadiationOut'\n",
    "dat.loc[dat.Instrument.isin(snow_depth_labels), \"Instrument\"]='SnowDepth'\n",
    "\n",
    "#Remove rows with bad data\n",
    "dat=dat[~dat.Instrument.isin(bad_labels)] #Remove where labels are bad; introduced during maintenance"
   ]
  },
  {
   "cell_type": "code",
   "execution_count": 13,
   "metadata": {
    "collapsed": false
   },
   "outputs": [],
   "source": [
    "#Cast the data from long -> wide format\n",
    "dat=dat.reset_index() #reset index so all unique\n",
    "wide_dat=dat.pivot_table(columns='Instrument', values='Value', index='local_time')"
   ]
  },
  {
   "cell_type": "code",
   "execution_count": 14,
   "metadata": {
    "collapsed": true
   },
   "outputs": [],
   "source": [
    "#List columns desired in output\n",
    "out_columns=['UTC_time', 'local_time', 'Tpassive1', 'Tpassive2',\n",
    "       'TAspirated1', 'TAspirated2', 'RelHum', 'StageCumulative',\n",
    "       'TPGCumulative', 'WindSpeed', 'WindGustSpeed', 'WindDir', 'Barom',\n",
    "        'VecAvgWindDir', 'RadiationIn', 'RadiationOut', 'SnowDepth', 'LoggerTemp', 'LoggerBattery']"
   ]
  },
  {
   "cell_type": "code",
   "execution_count": 15,
   "metadata": {
    "collapsed": true
   },
   "outputs": [],
   "source": [
    "#If this columns is not in dataframe, create\n",
    "for col in out_columns:\n",
    "    if col not in wide_dat.columns:\n",
    "        wide_dat[col]=np.nan #create the column; fill with NANs"
   ]
  },
  {
   "cell_type": "code",
   "execution_count": 16,
   "metadata": {
    "collapsed": false
   },
   "outputs": [],
   "source": [
    "#Set output format of time\n",
    "wide_dat['UTC_time']=wide_dat.index.tz_convert('UTC').strftime(out_date_format)#Create column for true local time (as string, not UTC - X hrs)\n",
    "wide_dat['local_time']=wide_dat.index.tz_convert(timezone).strftime(out_date_format)#Create column for true local time (as string, not UTC - X hrs)"
   ]
  },
  {
   "cell_type": "code",
   "execution_count": 17,
   "metadata": {
    "collapsed": false
   },
   "outputs": [
    {
     "data": {
      "text/html": [
       "<div>\n",
       "<table border=\"1\" class=\"dataframe\">\n",
       "  <thead>\n",
       "    <tr style=\"text-align: right;\">\n",
       "      <th>Instrument</th>\n",
       "      <th>UTC_time</th>\n",
       "      <th>local_time</th>\n",
       "      <th>Tpassive1</th>\n",
       "      <th>Tpassive2</th>\n",
       "      <th>TAspirated1</th>\n",
       "      <th>TAspirated2</th>\n",
       "      <th>RelHum</th>\n",
       "      <th>StageCumulative</th>\n",
       "      <th>TPGCumulative</th>\n",
       "      <th>WindSpeed</th>\n",
       "      <th>WindGustSpeed</th>\n",
       "      <th>WindDir</th>\n",
       "      <th>Barom</th>\n",
       "      <th>VecAvgWindDir</th>\n",
       "      <th>RadiationIn</th>\n",
       "      <th>RadiationOut</th>\n",
       "      <th>SnowDepth</th>\n",
       "      <th>LoggerTemp</th>\n",
       "      <th>LoggerBattery</th>\n",
       "    </tr>\n",
       "    <tr>\n",
       "      <th>local_time</th>\n",
       "      <th></th>\n",
       "      <th></th>\n",
       "      <th></th>\n",
       "      <th></th>\n",
       "      <th></th>\n",
       "      <th></th>\n",
       "      <th></th>\n",
       "      <th></th>\n",
       "      <th></th>\n",
       "      <th></th>\n",
       "      <th></th>\n",
       "      <th></th>\n",
       "      <th></th>\n",
       "      <th></th>\n",
       "      <th></th>\n",
       "      <th></th>\n",
       "      <th></th>\n",
       "      <th></th>\n",
       "      <th></th>\n",
       "    </tr>\n",
       "  </thead>\n",
       "  <tbody>\n",
       "    <tr>\n",
       "      <th>2017-08-22 20:30:00-08:00</th>\n",
       "      <td>2017/08/23 04:30</td>\n",
       "      <td>2017/08/22 20:30</td>\n",
       "      <td>6.0</td>\n",
       "      <td>NaN</td>\n",
       "      <td>5.2</td>\n",
       "      <td>NaN</td>\n",
       "      <td>NaN</td>\n",
       "      <td>NaN</td>\n",
       "      <td>4.2530</td>\n",
       "      <td>1.2</td>\n",
       "      <td>NaN</td>\n",
       "      <td>NaN</td>\n",
       "      <td>NaN</td>\n",
       "      <td>357.0</td>\n",
       "      <td>20.50</td>\n",
       "      <td>3.88</td>\n",
       "      <td>2.150</td>\n",
       "      <td>NaN</td>\n",
       "      <td>12.9</td>\n",
       "    </tr>\n",
       "    <tr>\n",
       "      <th>2017-08-22 20:45:00-08:00</th>\n",
       "      <td>2017/08/23 04:45</td>\n",
       "      <td>2017/08/22 20:45</td>\n",
       "      <td>5.8</td>\n",
       "      <td>NaN</td>\n",
       "      <td>5.1</td>\n",
       "      <td>NaN</td>\n",
       "      <td>NaN</td>\n",
       "      <td>NaN</td>\n",
       "      <td>4.1699</td>\n",
       "      <td>1.4</td>\n",
       "      <td>NaN</td>\n",
       "      <td>NaN</td>\n",
       "      <td>NaN</td>\n",
       "      <td>19.0</td>\n",
       "      <td>11.74</td>\n",
       "      <td>3.10</td>\n",
       "      <td>2.150</td>\n",
       "      <td>NaN</td>\n",
       "      <td>12.8</td>\n",
       "    </tr>\n",
       "    <tr>\n",
       "      <th>2017-08-22 21:00:00-08:00</th>\n",
       "      <td>2017/08/23 05:00</td>\n",
       "      <td>2017/08/22 21:00</td>\n",
       "      <td>6.0</td>\n",
       "      <td>NaN</td>\n",
       "      <td>5.2</td>\n",
       "      <td>NaN</td>\n",
       "      <td>NaN</td>\n",
       "      <td>NaN</td>\n",
       "      <td>4.2948</td>\n",
       "      <td>1.2</td>\n",
       "      <td>NaN</td>\n",
       "      <td>NaN</td>\n",
       "      <td>NaN</td>\n",
       "      <td>6.0</td>\n",
       "      <td>4.03</td>\n",
       "      <td>2.71</td>\n",
       "      <td>2.156</td>\n",
       "      <td>NaN</td>\n",
       "      <td>12.9</td>\n",
       "    </tr>\n",
       "  </tbody>\n",
       "</table>\n",
       "</div>"
      ],
      "text/plain": [
       "Instrument                         UTC_time        local_time  Tpassive1  \\\n",
       "local_time                                                                 \n",
       "2017-08-22 20:30:00-08:00  2017/08/23 04:30  2017/08/22 20:30        6.0   \n",
       "2017-08-22 20:45:00-08:00  2017/08/23 04:45  2017/08/22 20:45        5.8   \n",
       "2017-08-22 21:00:00-08:00  2017/08/23 05:00  2017/08/22 21:00        6.0   \n",
       "\n",
       "Instrument                 Tpassive2  TAspirated1  TAspirated2  RelHum  \\\n",
       "local_time                                                               \n",
       "2017-08-22 20:30:00-08:00        NaN          5.2          NaN     NaN   \n",
       "2017-08-22 20:45:00-08:00        NaN          5.1          NaN     NaN   \n",
       "2017-08-22 21:00:00-08:00        NaN          5.2          NaN     NaN   \n",
       "\n",
       "Instrument                 StageCumulative  TPGCumulative  WindSpeed  \\\n",
       "local_time                                                             \n",
       "2017-08-22 20:30:00-08:00              NaN         4.2530        1.2   \n",
       "2017-08-22 20:45:00-08:00              NaN         4.1699        1.4   \n",
       "2017-08-22 21:00:00-08:00              NaN         4.2948        1.2   \n",
       "\n",
       "Instrument                 WindGustSpeed  WindDir  Barom  VecAvgWindDir  \\\n",
       "local_time                                                                \n",
       "2017-08-22 20:30:00-08:00            NaN      NaN    NaN          357.0   \n",
       "2017-08-22 20:45:00-08:00            NaN      NaN    NaN           19.0   \n",
       "2017-08-22 21:00:00-08:00            NaN      NaN    NaN            6.0   \n",
       "\n",
       "Instrument                 RadiationIn  RadiationOut  SnowDepth  LoggerTemp  \\\n",
       "local_time                                                                    \n",
       "2017-08-22 20:30:00-08:00        20.50          3.88      2.150         NaN   \n",
       "2017-08-22 20:45:00-08:00        11.74          3.10      2.150         NaN   \n",
       "2017-08-22 21:00:00-08:00         4.03          2.71      2.156         NaN   \n",
       "\n",
       "Instrument                 LoggerBattery  \n",
       "local_time                                \n",
       "2017-08-22 20:30:00-08:00           12.9  \n",
       "2017-08-22 20:45:00-08:00           12.8  \n",
       "2017-08-22 21:00:00-08:00           12.9  "
      ]
     },
     "execution_count": 17,
     "metadata": {},
     "output_type": "execute_result"
    }
   ],
   "source": [
    "wide_dat[out_columns].tail(3)"
   ]
  },
  {
   "cell_type": "code",
   "execution_count": 18,
   "metadata": {
    "collapsed": false
   },
   "outputs": [],
   "source": [
    "wide_dat=wide_dat.reset_index(drop=True).copy() #drop index in output dataframe"
   ]
  },
  {
   "cell_type": "code",
   "execution_count": 19,
   "metadata": {
    "collapsed": true
   },
   "outputs": [],
   "source": [
    "save_dat=wide_dat[out_columns]"
   ]
  },
  {
   "cell_type": "code",
   "execution_count": 20,
   "metadata": {
    "collapsed": true
   },
   "outputs": [],
   "source": [
    "#directory to save output data\n",
    "save_pth=r\"Q:/Project Data/GlacierData/Benchmark_Program/Data/\" +Glacier+ r\"/AllYears/Wx/LVL0/emily/\""
   ]
  },
  {
   "cell_type": "code",
   "execution_count": 21,
   "metadata": {
    "collapsed": true
   },
   "outputs": [],
   "source": [
    "out_nm=Glacier.lower()+ Station + file_label+yr+\".csv\""
   ]
  },
  {
   "cell_type": "code",
   "execution_count": 22,
   "metadata": {
    "collapsed": false
   },
   "outputs": [
    {
     "name": "stdout",
     "output_type": "stream",
     "text": [
      "saved to:  Q:/Project Data/GlacierData/Benchmark_Program/Data/Gulkana/AllYears/Wx/LVL0/emily/gulkana1725_15min_all.csv\n"
     ]
    }
   ],
   "source": [
    "save_dat.to_csv(os.path.join(save_pth, out_nm), index=False, float_format='%g')\n",
    "print(\"saved to: \", os.path.join(save_pth, out_nm))"
   ]
  },
  {
   "cell_type": "code",
   "execution_count": 23,
   "metadata": {
    "collapsed": false
   },
   "outputs": [],
   "source": [
    "#wide_dat[['TAspirated1', 'Tpassive1']].plot()"
   ]
  },
  {
   "cell_type": "code",
   "execution_count": 24,
   "metadata": {
    "collapsed": false
   },
   "outputs": [
    {
     "name": "stdout",
     "output_type": "stream",
     "text": [
      "Gaps in data at Gulkana 1725 filled with Irridium telemetry data\n"
     ]
    }
   ],
   "source": [
    "#If this is the Nunatak station, fill gaps with Irridium telemetry\n",
    "if Glacier + Station=='Gulkana1725':\n",
    "    %run \"Q:\\Project Data\\GlacierData\\Benchmark_Program\\Code\\Weather\\LVL_0\\Gulkana1725_FillGapsWithIrridium.py\""
   ]
  },
  {
   "cell_type": "code",
   "execution_count": null,
   "metadata": {
    "collapsed": false
   },
   "outputs": [],
   "source": []
  },
  {
   "cell_type": "code",
   "execution_count": 26,
   "metadata": {
    "collapsed": false
   },
   "outputs": [],
   "source": [
    "#wide_dat[['Tpassive1']].plot()"
   ]
  },
  {
   "cell_type": "code",
   "execution_count": null,
   "metadata": {
    "collapsed": true
   },
   "outputs": [],
   "source": []
  }
 ],
 "metadata": {
  "kernelspec": {
   "display_name": "Python 3",
   "language": "python",
   "name": "python3"
  },
  "language_info": {
   "codemirror_mode": {
    "name": "ipython",
    "version": 3
   },
   "file_extension": ".py",
   "mimetype": "text/x-python",
   "name": "python",
   "nbconvert_exporter": "python",
   "pygments_lexer": "ipython3",
   "version": "3.6.0"
  }
 },
 "nbformat": 4,
 "nbformat_minor": 2
}
