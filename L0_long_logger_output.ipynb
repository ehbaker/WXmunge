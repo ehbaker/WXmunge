{
 "cells": [
  {
   "cell_type": "markdown",
   "metadata": {},
   "source": [
    "# L0 data clean"
   ]
  },
  {
   "cell_type": "code",
   "execution_count": 1,
   "metadata": {
    "collapsed": true
   },
   "outputs": [],
   "source": [
    "import pandas as pd\n",
    "import numpy as np\n",
    "import matplotlib.pyplot as plt\n",
    "import os\n",
    "import imp\n",
    "import datetime\n",
    "import pytz\n",
    "%matplotlib notebook"
   ]
  },
  {
   "cell_type": "code",
   "execution_count": 2,
   "metadata": {
    "collapsed": false
   },
   "outputs": [],
   "source": [
    "#import self-written libraries\n",
    "import imp\n",
    "import LVL1\n",
    "from settings import Glacier, Station, base_path"
   ]
  },
  {
   "cell_type": "code",
   "execution_count": 3,
   "metadata": {
    "collapsed": true
   },
   "outputs": [],
   "source": [
    "#Are there newly downloaded data?\n",
    "new_data=True"
   ]
  },
  {
   "cell_type": "code",
   "execution_count": 4,
   "metadata": {
    "collapsed": false
   },
   "outputs": [
    {
     "name": "stdout",
     "output_type": "stream",
     "text": [
      " concatinating Q:/Project Data/GlacierData/Benchmark_Program/Data/Gulkana\\2013\\Wx\\gulkana1725_2013_0827.txt\n",
      " concatinating Q:/Project Data/GlacierData/Benchmark_Program/Data/Gulkana\\2014\\Wx\\gulkana1725_2014_0826.txt\n",
      " concatinating Q:/Project Data/GlacierData/Benchmark_Program/Data/Gulkana\\2015\\Wx\\gulkana1725_2015_0415.txt\n",
      " concatinating Q:/Project Data/GlacierData/Benchmark_Program/Data/Gulkana\\2015\\Wx\\gulkana1725_2015_0924.txt\n",
      " concatinating Q:/Project Data/GlacierData/Benchmark_Program/Data/Gulkana\\2016\\Wx\\gulkana1725_2016_0828.txt\n",
      " concatinating Q:/Project Data/GlacierData/Benchmark_Program/Data/Gulkana\\2017\\Wx\\gulkana1725_20170421.txt\n",
      " concatinating Q:/Project Data/GlacierData/Benchmark_Program/Data/Gulkana\\2017\\Wx\\gulkana1725_20170822.txt\n",
      " concatinating Q:/Project Data/GlacierData/Benchmark_Program/Data/Gulkana\\2018\\Wx\\gulkana1725_20180423.txt\n",
      "stripping whitespace from Date\n",
      "stripping whitespace from Time\n",
      "stripping whitespace from Instrument\n",
      "stripping whitespace from Value\n",
      "stripping whitespace from Unit\n",
      "stripping whitespace from Flag\n",
      "wrote output file\n"
     ]
    }
   ],
   "source": [
    "if new_data:\n",
    "    add_new_logger_data_script_pth='\"' + base_path + 'Code/Weather/LVL_0/ConcatenateRawWxData.py'+ '\"'\n",
    "    %run $add_new_logger_data_script_pth"
   ]
  },
  {
   "cell_type": "code",
   "execution_count": 5,
   "metadata": {
    "collapsed": false
   },
   "outputs": [],
   "source": [
    "if Glacier + Station =='Wolverine370':\n",
    "    print ('STOP: not needed here; start at L1. All data from NWIS')"
   ]
  },
  {
   "cell_type": "code",
   "execution_count": 6,
   "metadata": {
    "collapsed": false
   },
   "outputs": [],
   "source": [
    "if (Glacier + Station== 'Wolverine1420') | (Glacier + Station== 'Gulkana1920'): #If a JWS station, which logs @ 5 minutes\n",
    "    if new_data:\n",
    "        convert5minto15min_script_pth='\"' + base_path + 'Code/Weather/LVL_0/ConvertFrom5minTo15minData_JWS.py'+ '\"'\n",
    "\n",
    "        %run $convert5minto15min_script_pth"
   ]
  },
  {
   "cell_type": "code",
   "execution_count": 7,
   "metadata": {
    "collapsed": true
   },
   "outputs": [],
   "source": [
    "#Read in data\n",
    "folder=base_path+ r\"Data/\" + Glacier+ \"/AllYears/Wx/Raw\" #folder cont\n",
    "file_label='_15min_' #used for importting and output name\n",
    "yr='all'\n",
    "file=Glacier.lower()+Station+file_label+yr+\".csv\" #filename; change if yours different\n",
    "pth=os.path.join(folder, file) #path to data file"
   ]
  },
  {
   "cell_type": "code",
   "execution_count": 8,
   "metadata": {
    "collapsed": true
   },
   "outputs": [],
   "source": [
    "#Set constants\n",
    "date_format='%m/%d/%Y %H:%M:%S' #input date format (change if yours is different)\n",
    "out_date_format='%Y/%m/%d %H:%M'\n",
    "timezone='America/Anchorage' #choose from pytz.all_timezones"
   ]
  },
  {
   "cell_type": "code",
   "execution_count": 9,
   "metadata": {
    "collapsed": false
   },
   "outputs": [
    {
     "name": "stdout",
     "output_type": "stream",
     "text": [
      "read file: gulkana1725_15min_all.csv\n"
     ]
    }
   ],
   "source": [
    "dat=pd.read_csv(pth)\n",
    "print(\"read file: \" + file)"
   ]
  },
  {
   "cell_type": "code",
   "execution_count": 10,
   "metadata": {
    "collapsed": false
   },
   "outputs": [
    {
     "data": {
      "text/html": [
       "<div>\n",
       "<table border=\"1\" class=\"dataframe\">\n",
       "  <thead>\n",
       "    <tr style=\"text-align: right;\">\n",
       "      <th></th>\n",
       "      <th>Date</th>\n",
       "      <th>Time</th>\n",
       "      <th>Instrument</th>\n",
       "      <th>Value</th>\n",
       "      <th>Unit</th>\n",
       "      <th>Flag</th>\n",
       "      <th>DateTime</th>\n",
       "    </tr>\n",
       "  </thead>\n",
       "  <tbody>\n",
       "    <tr>\n",
       "      <th>975849</th>\n",
       "      <td>04/23/2018</td>\n",
       "      <td>18:30:00</td>\n",
       "      <td>RD</td>\n",
       "      <td>225.1700</td>\n",
       "      <td>W/m2</td>\n",
       "      <td>G</td>\n",
       "      <td>04/23/2018 18:30:00</td>\n",
       "    </tr>\n",
       "    <tr>\n",
       "      <th>975850</th>\n",
       "      <td>04/23/2018</td>\n",
       "      <td>18:30:00</td>\n",
       "      <td>DS</td>\n",
       "      <td>1.9340</td>\n",
       "      <td>meters</td>\n",
       "      <td>G</td>\n",
       "      <td>04/23/2018 18:30:00</td>\n",
       "    </tr>\n",
       "    <tr>\n",
       "      <th>975851</th>\n",
       "      <td>04/23/2018</td>\n",
       "      <td>18:30:00</td>\n",
       "      <td>MS</td>\n",
       "      <td>0.7000</td>\n",
       "      <td>MPS</td>\n",
       "      <td>G</td>\n",
       "      <td>04/23/2018 18:30:00</td>\n",
       "    </tr>\n",
       "    <tr>\n",
       "      <th>975852</th>\n",
       "      <td>04/23/2018</td>\n",
       "      <td>18:30:00</td>\n",
       "      <td>MD</td>\n",
       "      <td>182.0000</td>\n",
       "      <td>DEG</td>\n",
       "      <td>G</td>\n",
       "      <td>04/23/2018 18:30:00</td>\n",
       "    </tr>\n",
       "    <tr>\n",
       "      <th>975853</th>\n",
       "      <td>04/23/2018</td>\n",
       "      <td>18:30:00</td>\n",
       "      <td>T</td>\n",
       "      <td>-1.1000</td>\n",
       "      <td>C</td>\n",
       "      <td>G</td>\n",
       "      <td>04/23/2018 18:30:00</td>\n",
       "    </tr>\n",
       "    <tr>\n",
       "      <th>975854</th>\n",
       "      <td>04/23/2018</td>\n",
       "      <td>18:30:00</td>\n",
       "      <td>VB</td>\n",
       "      <td>14.0000</td>\n",
       "      <td>V</td>\n",
       "      <td>G</td>\n",
       "      <td>04/23/2018 18:30:00</td>\n",
       "    </tr>\n",
       "    <tr>\n",
       "      <th>975855</th>\n",
       "      <td>04/23/2018</td>\n",
       "      <td>18:30:00</td>\n",
       "      <td>TA</td>\n",
       "      <td>-3.9000</td>\n",
       "      <td>C</td>\n",
       "      <td>G</td>\n",
       "      <td>04/23/2018 18:30:00</td>\n",
       "    </tr>\n",
       "    <tr>\n",
       "      <th>975856</th>\n",
       "      <td>04/23/2018</td>\n",
       "      <td>18:30:00</td>\n",
       "      <td>PC</td>\n",
       "      <td>0.8031</td>\n",
       "      <td>m</td>\n",
       "      <td>G</td>\n",
       "      <td>04/23/2018 18:30:00</td>\n",
       "    </tr>\n",
       "  </tbody>\n",
       "</table>\n",
       "</div>"
      ],
      "text/plain": [
       "              Date      Time Instrument     Value    Unit Flag  \\\n",
       "975849  04/23/2018  18:30:00         RD  225.1700    W/m2    G   \n",
       "975850  04/23/2018  18:30:00         DS    1.9340  meters    G   \n",
       "975851  04/23/2018  18:30:00         MS    0.7000     MPS    G   \n",
       "975852  04/23/2018  18:30:00         MD  182.0000     DEG    G   \n",
       "975853  04/23/2018  18:30:00          T   -1.1000       C    G   \n",
       "975854  04/23/2018  18:30:00         VB   14.0000       V    G   \n",
       "975855  04/23/2018  18:30:00         TA   -3.9000       C    G   \n",
       "975856  04/23/2018  18:30:00         PC    0.8031       m    G   \n",
       "\n",
       "                   DateTime  \n",
       "975849  04/23/2018 18:30:00  \n",
       "975850  04/23/2018 18:30:00  \n",
       "975851  04/23/2018 18:30:00  \n",
       "975852  04/23/2018 18:30:00  \n",
       "975853  04/23/2018 18:30:00  \n",
       "975854  04/23/2018 18:30:00  \n",
       "975855  04/23/2018 18:30:00  \n",
       "975856  04/23/2018 18:30:00  "
      ]
     },
     "execution_count": 10,
     "metadata": {},
     "output_type": "execute_result"
    }
   ],
   "source": [
    "dat.tail(8)"
   ]
  },
  {
   "cell_type": "markdown",
   "metadata": {},
   "source": [
    "## Convert Logger time to UTC and Local Time"
   ]
  },
  {
   "cell_type": "code",
   "execution_count": 11,
   "metadata": {
    "collapsed": false
   },
   "outputs": [],
   "source": [
    "#Logger records on UTC -8; convert to local time\n",
    "#Create date-time column\n",
    "#dat['DateTime']=dat.Date+ \" \" + dat.Time #this is needed for non-cumulative processing\n",
    "dat.loc[:,'DateTime']=pd.to_datetime(dat['DateTime'], format=date_format) #set to date-time from string\n",
    "\n",
    "#Correct for time slips\n",
    "dat['DateTime']=dat['DateTime'].dt.round('15min') #round time to the nearest 15 minute value\n",
    "\n",
    "#Convert to UTC time, if logger is logging in UTC-8 (true at some stations)\n",
    "if (Glacier+Station=='Wolverine990') | (Glacier+Station=='Gulkana1480') | (Glacier+Station=='Gulkana1920') | (Glacier+Station=='Wolverine1420'):\n",
    "    dat['UTC_col']=dat.DateTime + datetime.timedelta(hours=8)\n",
    "if (Glacier+Station=='Gulkana1725'):\n",
    "    dat['UTC_col']=dat.DateTime #logger is already in UTC time\n",
    "    \n",
    "#Set timezone of known UTC column\n",
    "dat['UTC_col'].timezone='UTC'\n",
    "#Create column for local time\n",
    "local_timezone=pytz.timezone(timezone) #create local timezone object (e.g. AK time)\n",
    "\n",
    "dat=dat.set_index('UTC_col')\n",
    "#Create column for local time\n",
    "local_timezone=pytz.timezone(timezone) #create local timezone object (e.g. AK time)\n",
    "\n",
    "#Create local time\n",
    "dat['local_time'] = dat.index.tz_localize('UTC').tz_convert(local_timezone)\n",
    "\n",
    "dat['index_local_time']=dat.local_time.copy()\n",
    "\n",
    "#Set index to local time\n",
    "dat=dat.set_index('index_local_time')"
   ]
  },
  {
   "cell_type": "code",
   "execution_count": 12,
   "metadata": {
    "collapsed": false
   },
   "outputs": [],
   "source": [
    "#Drop duplicates that have same instrument name and date/time stamp (from multiple downloads of same portion of data)\n",
    "dat=dat.drop_duplicates(subset=['DateTime', 'Instrument'], keep='first') #gets rid of overlaps (i.e. multiple downloads of same bit of data)"
   ]
  },
  {
   "cell_type": "code",
   "execution_count": 13,
   "metadata": {
    "collapsed": false
   },
   "outputs": [
    {
     "data": {
      "text/html": [
       "<div>\n",
       "<table border=\"1\" class=\"dataframe\">\n",
       "  <thead>\n",
       "    <tr style=\"text-align: right;\">\n",
       "      <th></th>\n",
       "      <th>Date</th>\n",
       "      <th>Time</th>\n",
       "      <th>Instrument</th>\n",
       "      <th>Value</th>\n",
       "      <th>Unit</th>\n",
       "      <th>Flag</th>\n",
       "      <th>DateTime</th>\n",
       "      <th>local_time</th>\n",
       "    </tr>\n",
       "    <tr>\n",
       "      <th>index_local_time</th>\n",
       "      <th></th>\n",
       "      <th></th>\n",
       "      <th></th>\n",
       "      <th></th>\n",
       "      <th></th>\n",
       "      <th></th>\n",
       "      <th></th>\n",
       "      <th></th>\n",
       "    </tr>\n",
       "  </thead>\n",
       "  <tbody>\n",
       "    <tr>\n",
       "      <th>2013-03-19 16:45:00-08:00</th>\n",
       "      <td>03/20/2013</td>\n",
       "      <td>00:45:00</td>\n",
       "      <td>MS</td>\n",
       "      <td>7.6</td>\n",
       "      <td>MPS</td>\n",
       "      <td>G</td>\n",
       "      <td>2013-03-20 00:45:00</td>\n",
       "      <td>2013-03-19 16:45:00-08:00</td>\n",
       "    </tr>\n",
       "  </tbody>\n",
       "</table>\n",
       "</div>"
      ],
      "text/plain": [
       "                                 Date      Time Instrument  Value Unit Flag  \\\n",
       "index_local_time                                                              \n",
       "2013-03-19 16:45:00-08:00  03/20/2013  00:45:00         MS    7.6  MPS    G   \n",
       "\n",
       "                                     DateTime                local_time  \n",
       "index_local_time                                                         \n",
       "2013-03-19 16:45:00-08:00 2013-03-20 00:45:00 2013-03-19 16:45:00-08:00  "
      ]
     },
     "execution_count": 13,
     "metadata": {},
     "output_type": "execute_result"
    }
   ],
   "source": [
    "dat.head(1)"
   ]
  },
  {
   "cell_type": "code",
   "execution_count": 14,
   "metadata": {
    "collapsed": false
   },
   "outputs": [],
   "source": [
    "#Instrument Label Change - if same label has been used for different quantities thru time: separate into 2 distinct labels.\n",
    "if Glacier + Station==\"Wolverine990\":\n",
    "    dat.loc[(dat.Instrument=='WD') & (dat.index<'2015-09-06 17:15'), 'Instrument']='WindDir' #before this date, \"WD\" was simply wind direction; after, is vector-averaged\n",
    "    dat.loc[(dat.Instrument=='WD') & (dat.index>='2015-09-06 17:15'), 'Instrument']='WDSA' \n",
    "    \n",
    "if Glacier + Station==\"Gulkana1480\":\n",
    "    dat.loc[(dat.Instrument=='WD') & (dat.index<'2015-09-28 12:00'), 'Instrument']='WindDir' #before this date, \"WD\" was simply wind direction; after, is vector-averaged\n",
    "    dat.loc[(dat.Instrument=='WD') & (dat.index>='2015-09-28 12:00'), 'Instrument']='WDSA' \n",
    "    \n",
    "#Gulkana 1725 has had consistent variable naming throughout"
   ]
  },
  {
   "cell_type": "markdown",
   "metadata": {},
   "source": [
    "## Consolidate Sensor Naming\n",
    "#### Has varied thru time"
   ]
  },
  {
   "cell_type": "code",
   "execution_count": 15,
   "metadata": {
    "collapsed": true
   },
   "outputs": [],
   "source": [
    "#If site does NOT have a given sensor, leave label, create empty list\n",
    "\n",
    "if Glacier + Station =='Wolverine990':  \n",
    "    #Name recorded on the logger changed thru time; indicate which are grouped (i.e. logging same variable) here\n",
    "    wind_gust_labels=['WindGusts', 'WG', 'WSG']\n",
    "    wind_speed_labels=['AvgWind', 'WS'] #this is NOT vector-averaged wind speed\n",
    "    vec_avg_wind_dir=['WDSA']\n",
    "    wind_dir_labels=['WindDir']\n",
    "    temp_unasp1_labels=['AirTemp1', 'T1', 'T']\n",
    "    temp_unasp2_labels=['AirTemp2', 'T2']\n",
    "    temp_asp1_labels=['AirTempAsp', 'AspT', 'AT']\n",
    "    temp_asp2_labels=['ASPTRH', 'AT2']\n",
    "    precip_stage_labels=['PR']\n",
    "    precip_weighing_labels=['TPG', 'PC']\n",
    "    rel_hum_labels=['RH']\n",
    "    barometer_labels=['B']\n",
    "    logger_bat_label=['BV']\n",
    "    logger_temp_label=['Tinternal']\n",
    "    bad_labels=['PrecipStage', 'AirTemp3', 'Air Temp w/FanN', 'AirTemp w/Fan', 'VectorAvgWindDir', 'PS', 'MWD', 'WDA'] #labels containing only bad data; introduced during maintenence etc.\n",
    "    radiation_up_labels=[]\n",
    "    radiation_down_labels=[]\n",
    "    snow_depth_labels=[] \n",
    "    \n",
    "if Glacier + Station =='Gulkana1480':  \n",
    "    #Name recorded on the logger changed thru time; indicate which are grouped (i.e. logging same variable) here\n",
    "    wind_gust_labels=['WSG']\n",
    "    wind_speed_labels=['WindSpeed', 'WS']\n",
    "    vec_avg_wind_dir=['WDSA']\n",
    "    wind_dir_labels=['WindDir'] #this is NOT-vector average wind direction\n",
    "    temp_unasp1_labels=['AirTemp1', 'T1', 'T']\n",
    "    temp_unasp2_labels=['AirTemp2', 'T2']\n",
    "    temp_asp1_labels=['AspT', 'AT']\n",
    "    temp_asp2_labels=['AT2']\n",
    "    precip_stage_labels=['PR'] #precip doesn't begin until 2010-07; before this, is recording, but logger only has 0 precip\n",
    "    precip_weighing_labels=['TPG', 'PC']\n",
    "    rel_hum_labels=['RH']\n",
    "    barometer_labels=[] #no barometer at this station\n",
    "    logger_bat_label=['BV']\n",
    "    logger_temp_label=['Tinternal']\n",
    "    bad_labels=['PrecipStage', 'AirTemp3', 'Stage'] #labels containing only bad data; introduced during maintenence etc.\n",
    "    radiation_up_labels=[]\n",
    "    radiation_down_labels=[]\n",
    "    snow_depth_labels=[]    \n",
    "    \n",
    "if Glacier + Station=='Gulkana1725':\n",
    "    #Only a single name thru time; no changes @ 1725\n",
    "    wind_gust_labels=[]#no wind gust recorded\n",
    "    wind_speed_labels=['MS']\n",
    "    vec_avg_wind_dir=['MD']\n",
    "    wind_dir_labels=[] #this is NOT-vector average wind direction\n",
    "    temp_unasp1_labels=['T']\n",
    "    temp_unasp2_labels=[]\n",
    "    temp_asp1_labels=['TA']\n",
    "    temp_asp2_labels=[]\n",
    "    precip_stage_labels=[]\n",
    "    precip_weighing_labels=['PC']\n",
    "    rel_hum_labels=[]\n",
    "    barometer_labels=[] #no barometer at this station\n",
    "    logger_bat_label=['VB']\n",
    "    logger_temp_label=[]\n",
    "    bad_labels=[]\n",
    "    radiation_up_labels=['RU']\n",
    "    radiation_down_labels=['RD']\n",
    "    snow_depth_labels=['DS']\n",
    "    \n",
    "if (Glacier + Station=='Gulkana1920') | (Glacier + Station=='Wolverine1420'): #same program and same variable naming at JWS stations\n",
    "    wind_gust_labels=[]#no wind gust recorded\n",
    "    wind_speed_labels=['WS_ms_S_WVT']\n",
    "    vec_avg_wind_dir=['WindDir_D1_WVT'] #I am guessing this is vec acerage; should come back and check program before using\n",
    "    wind_dir_labels=[] #this is NOT-vector average wind direction\n",
    "    temp_unasp1_labels=['AirTempC_Avg']\n",
    "    temp_unasp2_labels=[]\n",
    "    temp_asp1_labels=[]\n",
    "    temp_asp2_labels=[]\n",
    "    precip_stage_labels=[]\n",
    "    precip_weighing_labels=[]\n",
    "    rel_hum_labels=['RH']\n",
    "    barometer_labels=['BP_inHg_Avg']\n",
    "    logger_bat_label=['BattV_Avg']\n",
    "    logger_temp_label=[]\n",
    "    bad_labels=[]\n",
    "    radiation_up_labels=['PyrnUp_Avg']\n",
    "    radiation_down_labels=['PyrnDn_Avg']\n",
    "    snow_depth_labels=[]"
   ]
  },
  {
   "cell_type": "code",
   "execution_count": 16,
   "metadata": {
    "collapsed": false
   },
   "outputs": [],
   "source": [
    "#Rename instruments \n",
    "dat.loc[dat.Instrument.isin(wind_gust_labels), \"Instrument\"]='WindGustSpeed'\n",
    "dat.loc[dat.Instrument.isin(wind_speed_labels), \"Instrument\"]='WindSpeed'\n",
    "dat.loc[dat.Instrument.isin(wind_dir_labels), \"Instrument\"]='WindDir'\n",
    "dat.loc[dat.Instrument.isin(vec_avg_wind_dir), \"Instrument\"]='VecAvgWindDir'\n",
    "dat.loc[dat.Instrument.isin(temp_unasp1_labels), \"Instrument\"]='Tpassive1'\n",
    "dat.loc[dat.Instrument.isin(temp_unasp2_labels), \"Instrument\"]='Tpassive2'\n",
    "dat.loc[dat.Instrument.isin(temp_asp1_labels), \"Instrument\"]='TAspirated1'\n",
    "dat.loc[dat.Instrument.isin(temp_asp2_labels), \"Instrument\"]='TAspirated2'\n",
    "dat.loc[dat.Instrument.isin(precip_stage_labels), \"Instrument\"]='StageCumulative'\n",
    "dat.loc[dat.Instrument.isin(precip_weighing_labels), \"Instrument\"]='TPGCumulative'\n",
    "dat.loc[dat.Instrument.isin(rel_hum_labels), \"Instrument\"]='RelHum'\n",
    "dat.loc[dat.Instrument.isin(barometer_labels), \"Instrument\"]='Barom'\n",
    "dat.loc[dat.Instrument.isin(logger_bat_label), \"Instrument\"]='LoggerBattery'\n",
    "dat.loc[dat.Instrument.isin(logger_temp_label), \"Instrument\"]='LoggerTemp'\n",
    "dat.loc[dat.Instrument.isin(radiation_up_labels), \"Instrument\"]='RadiationIn'\n",
    "dat.loc[dat.Instrument.isin(radiation_down_labels), \"Instrument\"]='RadiationOut'\n",
    "dat.loc[dat.Instrument.isin(snow_depth_labels), \"Instrument\"]='SnowDepth'\n",
    "\n",
    "#Remove rows with bad data\n",
    "dat=dat[~dat.Instrument.isin(bad_labels)] #Remove where labels are bad; introduced during maintenance"
   ]
  },
  {
   "cell_type": "code",
   "execution_count": 17,
   "metadata": {
    "collapsed": false
   },
   "outputs": [],
   "source": [
    "#Cast the data from long -> wide format\n",
    "dat=dat.reset_index() #reset index so all unique\n",
    "wide_dat=dat.pivot_table(columns='Instrument', values='Value', index='local_time')"
   ]
  },
  {
   "cell_type": "code",
   "execution_count": 18,
   "metadata": {
    "collapsed": false
   },
   "outputs": [
    {
     "data": {
      "text/html": [
       "<div>\n",
       "<table border=\"1\" class=\"dataframe\">\n",
       "  <thead>\n",
       "    <tr style=\"text-align: right;\">\n",
       "      <th>Instrument</th>\n",
       "      <th>LoggerBattery</th>\n",
       "      <th>RadiationIn</th>\n",
       "      <th>RadiationOut</th>\n",
       "      <th>SnowDepth</th>\n",
       "      <th>TAspirated1</th>\n",
       "      <th>TPGCumulative</th>\n",
       "      <th>Tpassive1</th>\n",
       "      <th>VecAvgWindDir</th>\n",
       "      <th>WindSpeed</th>\n",
       "    </tr>\n",
       "    <tr>\n",
       "      <th>local_time</th>\n",
       "      <th></th>\n",
       "      <th></th>\n",
       "      <th></th>\n",
       "      <th></th>\n",
       "      <th></th>\n",
       "      <th></th>\n",
       "      <th></th>\n",
       "      <th></th>\n",
       "      <th></th>\n",
       "    </tr>\n",
       "  </thead>\n",
       "  <tbody>\n",
       "    <tr>\n",
       "      <th>2013-03-19 16:45:00-08:00</th>\n",
       "      <td>14.2</td>\n",
       "      <td>NaN</td>\n",
       "      <td>NaN</td>\n",
       "      <td>NaN</td>\n",
       "      <td>-24.1</td>\n",
       "      <td>NaN</td>\n",
       "      <td>NaN</td>\n",
       "      <td>253.0</td>\n",
       "      <td>7.6</td>\n",
       "    </tr>\n",
       "  </tbody>\n",
       "</table>\n",
       "</div>"
      ],
      "text/plain": [
       "Instrument                 LoggerBattery  RadiationIn  RadiationOut  \\\n",
       "local_time                                                            \n",
       "2013-03-19 16:45:00-08:00           14.2          NaN           NaN   \n",
       "\n",
       "Instrument                 SnowDepth  TAspirated1  TPGCumulative  Tpassive1  \\\n",
       "local_time                                                                    \n",
       "2013-03-19 16:45:00-08:00        NaN        -24.1            NaN        NaN   \n",
       "\n",
       "Instrument                 VecAvgWindDir  WindSpeed  \n",
       "local_time                                           \n",
       "2013-03-19 16:45:00-08:00          253.0        7.6  "
      ]
     },
     "execution_count": 18,
     "metadata": {},
     "output_type": "execute_result"
    }
   ],
   "source": [
    "wide_dat.head(1)"
   ]
  },
  {
   "cell_type": "code",
   "execution_count": 19,
   "metadata": {
    "collapsed": false
   },
   "outputs": [
    {
     "data": {
      "text/plain": [
       "Index(['LoggerBattery', 'RadiationIn', 'RadiationOut', 'SnowDepth',\n",
       "       'TAspirated1', 'TPGCumulative', 'Tpassive1', 'VecAvgWindDir',\n",
       "       'WindSpeed'],\n",
       "      dtype='object', name='Instrument')"
      ]
     },
     "execution_count": 19,
     "metadata": {},
     "output_type": "execute_result"
    }
   ],
   "source": [
    "wide_dat.columns"
   ]
  },
  {
   "cell_type": "code",
   "execution_count": 20,
   "metadata": {
    "collapsed": false
   },
   "outputs": [
    {
     "data": {
      "text/plain": [
       "False"
      ]
     },
     "execution_count": 20,
     "metadata": {},
     "output_type": "execute_result"
    }
   ],
   "source": [
    "wide_dat.index.duplicated().any()"
   ]
  },
  {
   "cell_type": "code",
   "execution_count": 21,
   "metadata": {
    "collapsed": true
   },
   "outputs": [],
   "source": [
    "#List columns desired in output\n",
    "# out_columns=['UTC_time', 'local_time', 'Tpassive1', 'Tpassive2',\n",
    "#        'TAspirated1', 'TAspirated2', 'RelHum', 'StageCumulative',\n",
    "#        'TPGCumulative', 'WindSpeed', 'WindGustSpeed', 'WindDir', 'Barom',\n",
    "#         'VecAvgWindDir', 'RadiationIn', 'RadiationOut', 'SnowDepth', 'LoggerTemp', 'LoggerBattery']"
   ]
  },
  {
   "cell_type": "code",
   "execution_count": 22,
   "metadata": {
    "collapsed": true
   },
   "outputs": [],
   "source": [
    "#This should NO LONGER be neccessary (~4/18/18); future processing can eliminate the all NAN columns\n",
    "#If this columns is not in dataframe, create\n",
    "# for col in out_columns:\n",
    "#     if col not in wide_dat.columns:\n",
    "#         wide_dat[col]=np.nan #create the column; fill with NANs"
   ]
  },
  {
   "cell_type": "code",
   "execution_count": 23,
   "metadata": {
    "collapsed": true
   },
   "outputs": [],
   "source": [
    "#Reindex to 15min to ensure no timesteps are skipped\n",
    "full_range_15_min = pd.date_range(wide_dat.index[0], wide_dat.index[-1], freq='15min')"
   ]
  },
  {
   "cell_type": "code",
   "execution_count": 24,
   "metadata": {
    "collapsed": true
   },
   "outputs": [],
   "source": [
    "wide_dat=wide_dat.reindex(index=full_range_15_min, fill_value=pd.np.nan)"
   ]
  },
  {
   "cell_type": "code",
   "execution_count": 25,
   "metadata": {
    "collapsed": false
   },
   "outputs": [],
   "source": [
    "#Set output format of time\n",
    "wide_dat['UTC_time']=wide_dat.index.tz_convert('UTC').strftime(out_date_format)#Create column for true local time (as string, not UTC - X hrs)\n",
    "wide_dat['local_time']=wide_dat.index.tz_convert(timezone).strftime(out_date_format)#Create column for true local time (as string, not UTC - X hrs)"
   ]
  },
  {
   "cell_type": "code",
   "execution_count": 26,
   "metadata": {
    "collapsed": false
   },
   "outputs": [],
   "source": [
    "wide_dat=wide_dat.reset_index(drop=True).copy() #drop index in output dataframe"
   ]
  },
  {
   "cell_type": "code",
   "execution_count": 27,
   "metadata": {
    "collapsed": false
   },
   "outputs": [],
   "source": [
    "save_dat=wide_dat"
   ]
  },
  {
   "cell_type": "code",
   "execution_count": 28,
   "metadata": {
    "collapsed": true
   },
   "outputs": [],
   "source": [
    "#directory to save output data\n",
    "save_pth=base_path+ r\"Data/\" +Glacier+ r\"/AllYears/Wx/LVL0/\"\n",
    "out_nm=Glacier.lower()+ Station + file_label+yr+\".csv\""
   ]
  },
  {
   "cell_type": "code",
   "execution_count": 29,
   "metadata": {
    "collapsed": false
   },
   "outputs": [
    {
     "name": "stdout",
     "output_type": "stream",
     "text": [
      "saved to:  gulkana1725_15min_all.csv\n"
     ]
    }
   ],
   "source": [
    "save_dat.to_csv(os.path.join(save_pth, out_nm), index=False, float_format='%g')\n",
    "print(\"saved to: \", out_nm)"
   ]
  },
  {
   "cell_type": "code",
   "execution_count": 30,
   "metadata": {
    "collapsed": false
   },
   "outputs": [
    {
     "name": "stdout",
     "output_type": "stream",
     "text": [
      "Gaps in data at Gulkana 1725 filled with Irridium telemetry data\n"
     ]
    }
   ],
   "source": [
    "#If this is the Nunatak station, fill gaps with Irridium telemetry\n",
    "if Glacier + Station=='Gulkana1725':\n",
    "    %run \"./Gulkana1725_FillGapsWithIrridium.py\""
   ]
  },
  {
   "cell_type": "code",
   "execution_count": 31,
   "metadata": {
    "collapsed": false
   },
   "outputs": [],
   "source": [
    "#If Wolv 990 or Gulkana 1480, add 1990s data from NWIS to extend record back in time\n",
    "if (Glacier + Station=='Wolverine990') | (Glacier + Station=='Gulkana1480'):    \n",
    "    %run \"./Add1990sDataFromNWIS.py\""
   ]
  },
  {
   "cell_type": "code",
   "execution_count": 32,
   "metadata": {
    "collapsed": false
   },
   "outputs": [
    {
     "data": {
      "text/html": [
       "<div>\n",
       "<table border=\"1\" class=\"dataframe\">\n",
       "  <thead>\n",
       "    <tr style=\"text-align: right;\">\n",
       "      <th>Instrument</th>\n",
       "      <th>LoggerBattery</th>\n",
       "      <th>RadiationIn</th>\n",
       "      <th>RadiationOut</th>\n",
       "      <th>SnowDepth</th>\n",
       "      <th>TAspirated1</th>\n",
       "      <th>TPGCumulative</th>\n",
       "      <th>Tpassive1</th>\n",
       "      <th>VecAvgWindDir</th>\n",
       "      <th>WindSpeed</th>\n",
       "      <th>UTC_time</th>\n",
       "      <th>local_time</th>\n",
       "    </tr>\n",
       "  </thead>\n",
       "  <tbody>\n",
       "    <tr>\n",
       "      <th>178627</th>\n",
       "      <td>13.5</td>\n",
       "      <td>278.13</td>\n",
       "      <td>182.93</td>\n",
       "      <td>1.911</td>\n",
       "      <td>-3.4</td>\n",
       "      <td>0.7940</td>\n",
       "      <td>-2.4</td>\n",
       "      <td>258.0</td>\n",
       "      <td>0.7</td>\n",
       "      <td>2018/04/23 17:30</td>\n",
       "      <td>2018/04/23 09:30</td>\n",
       "    </tr>\n",
       "    <tr>\n",
       "      <th>178628</th>\n",
       "      <td>13.7</td>\n",
       "      <td>324.75</td>\n",
       "      <td>210.64</td>\n",
       "      <td>1.921</td>\n",
       "      <td>-3.1</td>\n",
       "      <td>0.7941</td>\n",
       "      <td>-1.2</td>\n",
       "      <td>172.0</td>\n",
       "      <td>0.3</td>\n",
       "      <td>2018/04/23 17:45</td>\n",
       "      <td>2018/04/23 09:45</td>\n",
       "    </tr>\n",
       "    <tr>\n",
       "      <th>178629</th>\n",
       "      <td>13.8</td>\n",
       "      <td>314.23</td>\n",
       "      <td>203.86</td>\n",
       "      <td>1.918</td>\n",
       "      <td>-4.2</td>\n",
       "      <td>0.7947</td>\n",
       "      <td>-2.3</td>\n",
       "      <td>193.0</td>\n",
       "      <td>0.6</td>\n",
       "      <td>2018/04/23 18:00</td>\n",
       "      <td>2018/04/23 10:00</td>\n",
       "    </tr>\n",
       "    <tr>\n",
       "      <th>178630</th>\n",
       "      <td>13.9</td>\n",
       "      <td>365.76</td>\n",
       "      <td>226.92</td>\n",
       "      <td>1.917</td>\n",
       "      <td>-4.5</td>\n",
       "      <td>0.7945</td>\n",
       "      <td>-2.5</td>\n",
       "      <td>200.0</td>\n",
       "      <td>2.1</td>\n",
       "      <td>2018/04/23 18:15</td>\n",
       "      <td>2018/04/23 10:15</td>\n",
       "    </tr>\n",
       "    <tr>\n",
       "      <th>178631</th>\n",
       "      <td>14.0</td>\n",
       "      <td>352.79</td>\n",
       "      <td>225.17</td>\n",
       "      <td>1.934</td>\n",
       "      <td>-3.9</td>\n",
       "      <td>0.8031</td>\n",
       "      <td>-1.1</td>\n",
       "      <td>182.0</td>\n",
       "      <td>0.7</td>\n",
       "      <td>2018/04/23 18:30</td>\n",
       "      <td>2018/04/23 10:30</td>\n",
       "    </tr>\n",
       "  </tbody>\n",
       "</table>\n",
       "</div>"
      ],
      "text/plain": [
       "Instrument  LoggerBattery  RadiationIn  RadiationOut  SnowDepth  TAspirated1  \\\n",
       "178627               13.5       278.13        182.93      1.911         -3.4   \n",
       "178628               13.7       324.75        210.64      1.921         -3.1   \n",
       "178629               13.8       314.23        203.86      1.918         -4.2   \n",
       "178630               13.9       365.76        226.92      1.917         -4.5   \n",
       "178631               14.0       352.79        225.17      1.934         -3.9   \n",
       "\n",
       "Instrument  TPGCumulative  Tpassive1  VecAvgWindDir  WindSpeed  \\\n",
       "178627             0.7940       -2.4          258.0        0.7   \n",
       "178628             0.7941       -1.2          172.0        0.3   \n",
       "178629             0.7947       -2.3          193.0        0.6   \n",
       "178630             0.7945       -2.5          200.0        2.1   \n",
       "178631             0.8031       -1.1          182.0        0.7   \n",
       "\n",
       "Instrument          UTC_time        local_time  \n",
       "178627      2018/04/23 17:30  2018/04/23 09:30  \n",
       "178628      2018/04/23 17:45  2018/04/23 09:45  \n",
       "178629      2018/04/23 18:00  2018/04/23 10:00  \n",
       "178630      2018/04/23 18:15  2018/04/23 10:15  \n",
       "178631      2018/04/23 18:30  2018/04/23 10:30  "
      ]
     },
     "execution_count": 32,
     "metadata": {},
     "output_type": "execute_result"
    }
   ],
   "source": [
    "save_dat.tail()"
   ]
  },
  {
   "cell_type": "code",
   "execution_count": null,
   "metadata": {
    "collapsed": true
   },
   "outputs": [],
   "source": []
  }
 ],
 "metadata": {
  "kernelspec": {
   "display_name": "Python 3",
   "language": "python",
   "name": "python3"
  },
  "language_info": {
   "codemirror_mode": {
    "name": "ipython",
    "version": 3
   },
   "file_extension": ".py",
   "mimetype": "text/x-python",
   "name": "python",
   "nbconvert_exporter": "python",
   "pygments_lexer": "ipython3",
   "version": "3.6.0"
  }
 },
 "nbformat": 4,
 "nbformat_minor": 2
}
