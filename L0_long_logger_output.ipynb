{
 "cells": [
  {
   "cell_type": "markdown",
   "metadata": {},
   "source": [
    "# L0 data clean"
   ]
  },
  {
   "cell_type": "code",
   "execution_count": 1,
   "metadata": {
    "collapsed": true
   },
   "outputs": [],
   "source": [
    "import settings"
   ]
  },
  {
   "cell_type": "code",
   "execution_count": 2,
   "metadata": {
    "collapsed": true
   },
   "outputs": [],
   "source": [
    "import pandas as pd\n",
    "import numpy as np\n",
    "import matplotlib.pyplot as plt\n",
    "import os\n",
    "import imp\n",
    "import datetime\n",
    "import pytz\n",
    "%matplotlib notebook"
   ]
  },
  {
   "cell_type": "code",
   "execution_count": 3,
   "metadata": {
    "collapsed": false
   },
   "outputs": [],
   "source": [
    "#import self-written libraries\n",
    "import LVL1\n",
    "import settings\n",
    "from settings import Glacier, Station, base_path"
   ]
  },
  {
   "cell_type": "markdown",
   "metadata": {},
   "source": [
    "## Define Glacier and Station"
   ]
  },
  {
   "cell_type": "code",
   "execution_count": 4,
   "metadata": {
    "collapsed": false
   },
   "outputs": [
    {
     "name": "stdout",
     "output_type": "stream",
     "text": [
      "Wolverine\n",
      "990\n"
     ]
    }
   ],
   "source": [
    "data_columns, general_data_columns, out_date_format, precip_columns, precip_gage_change, primary_temp_column, temp_columns, timezone, wind_col, wind_dir_columns = settings.get_settings(settings.Glacier, settings.Station)\n",
    "print(Glacier)\n",
    "print(Station)"
   ]
  },
  {
   "cell_type": "code",
   "execution_count": 5,
   "metadata": {
    "collapsed": true
   },
   "outputs": [],
   "source": [
    "#Are there newly downloaded data?\n",
    "new_data=False"
   ]
  },
  {
   "cell_type": "code",
   "execution_count": 6,
   "metadata": {
    "collapsed": false
   },
   "outputs": [],
   "source": [
    "if new_data:\n",
    "    add_new_logger_data_script_pth='\"' + base_path + 'Code/Weather/LVL_0/ConcatenateRawWxData.py'+ '\"'\n",
    "    %run $add_new_logger_data_script_pth\n",
    "    if (Glacier + Station== 'Wolverine1420') | (Glacier + Station== 'Gulkana1920'): #If a JWS station, which logs @ 5 minutes\n",
    "        jws_add_new_data_pth='\"' + base_path + 'Code/Weather/LVL_0/ConcatenateRawJWSWxData.py'+ '\"'\n",
    "        %run $jws_add_new_data_pth"
   ]
  },
  {
   "cell_type": "code",
   "execution_count": 7,
   "metadata": {
    "collapsed": false
   },
   "outputs": [],
   "source": [
    "if (Glacier + Station =='Wolverine370')| (Glacier =='SouthCascade'):\n",
    "    print ('STOP: not needed here; start at L1. All data from NWIS')\n",
    "    print('Ensure that Add1990sDataFromNWIS.py has been run')"
   ]
  },
  {
   "cell_type": "code",
   "execution_count": 8,
   "metadata": {
    "collapsed": false
   },
   "outputs": [],
   "source": [
    "if (Glacier + Station== 'Wolverine1420') | (Glacier + Station== 'Gulkana1920'): #If a JWS station, which logs @ 5 minutes\n",
    "    if new_data:\n",
    "        convert5minto15min_script_pth='\"' + base_path + 'Code/Weather/LVL_0/ConvertFrom5minTo15minData_JWS.py'+ '\"'\n",
    "\n",
    "        %run $convert5minto15min_script_pth"
   ]
  },
  {
   "cell_type": "code",
   "execution_count": 9,
   "metadata": {
    "collapsed": false
   },
   "outputs": [],
   "source": [
    "#At the Wolverine high JWS site, add TPG (was logged internally, never wired in to logger direclty before moving).\n",
    "if (Glacier + Station== 'Wolverine1420'): #add TPG log to the high wolverine station, during the time which it existed there.\n",
    "    addTPGdata_script_pth='\"' + base_path + 'Code/Weather/LVL_0/AddWolverineTPGData.py'+ '\"'\n",
    "    \n",
    "    %run $addTPGdata_script_pth"
   ]
  },
  {
   "cell_type": "code",
   "execution_count": 10,
   "metadata": {
    "collapsed": true
   },
   "outputs": [],
   "source": [
    "#Read in data\n",
    "folder=base_path+ r\"Data/\" + Glacier+ \"/AllYears/Wx/Raw\" #folder cont\n",
    "file_label='_15min_all' #used for importting and output name\n",
    "file=Glacier.lower()+Station+file_label+\".csv\" #filename; change if yours different\n",
    "pth=os.path.join(folder, file) #path to data file"
   ]
  },
  {
   "cell_type": "code",
   "execution_count": 11,
   "metadata": {
    "collapsed": true
   },
   "outputs": [],
   "source": [
    "#Set constants for input data\n",
    "date_format='%m/%d/%Y %H:%M:%S' #input date format (change if yours is different)"
   ]
  },
  {
   "cell_type": "code",
   "execution_count": 12,
   "metadata": {
    "collapsed": false
   },
   "outputs": [
    {
     "name": "stderr",
     "output_type": "stream",
     "text": [
      "C:\\Users\\ehbaker\\AppData\\Local\\Continuum\\Anaconda3\\lib\\site-packages\\IPython\\core\\interactiveshell.py:2717: DtypeWarning: Columns (4,5) have mixed types. Specify dtype option on import or set low_memory=False.\n",
      "  interactivity=interactivity, compiler=compiler, result=result)\n"
     ]
    },
    {
     "name": "stdout",
     "output_type": "stream",
     "text": [
      "read file: Q:/Project Data/GlacierData/Benchmark_Program/Data/Wolverine/AllYears/Wx/Raw\\wolverine990_15min_all.csv\n"
     ]
    },
    {
     "data": {
      "text/html": [
       "<div>\n",
       "<table border=\"1\" class=\"dataframe\">\n",
       "  <thead>\n",
       "    <tr style=\"text-align: right;\">\n",
       "      <th></th>\n",
       "      <th>Date</th>\n",
       "      <th>Time</th>\n",
       "      <th>Instrument</th>\n",
       "      <th>Value</th>\n",
       "      <th>Unit</th>\n",
       "      <th>Flag</th>\n",
       "      <th>DateTime</th>\n",
       "    </tr>\n",
       "  </thead>\n",
       "  <tbody>\n",
       "    <tr>\n",
       "      <th>0</th>\n",
       "      <td>03/01/2010</td>\n",
       "      <td>23:15:00</td>\n",
       "      <td>WindDir</td>\n",
       "      <td>900.0</td>\n",
       "      <td>Deg</td>\n",
       "      <td>G</td>\n",
       "      <td>03/01/2010 23:15:00</td>\n",
       "    </tr>\n",
       "    <tr>\n",
       "      <th>1</th>\n",
       "      <td>03/01/2010</td>\n",
       "      <td>23:15:00</td>\n",
       "      <td>PrecipStage</td>\n",
       "      <td>0.0</td>\n",
       "      <td>M</td>\n",
       "      <td>B</td>\n",
       "      <td>03/01/2010 23:15:00</td>\n",
       "    </tr>\n",
       "    <tr>\n",
       "      <th>2</th>\n",
       "      <td>03/01/2010</td>\n",
       "      <td>23:15:00</td>\n",
       "      <td>WindSpeed</td>\n",
       "      <td>0.9</td>\n",
       "      <td>m/s</td>\n",
       "      <td>G</td>\n",
       "      <td>03/01/2010 23:15:00</td>\n",
       "    </tr>\n",
       "    <tr>\n",
       "      <th>3</th>\n",
       "      <td>03/01/2010</td>\n",
       "      <td>23:28:00</td>\n",
       "      <td>WindSpeed</td>\n",
       "      <td>0.4</td>\n",
       "      <td>m/s</td>\n",
       "      <td>G</td>\n",
       "      <td>03/01/2010 23:28:00</td>\n",
       "    </tr>\n",
       "    <tr>\n",
       "      <th>4</th>\n",
       "      <td>03/01/2010</td>\n",
       "      <td>23:28:00</td>\n",
       "      <td>WindDir</td>\n",
       "      <td>914.0</td>\n",
       "      <td>Deg</td>\n",
       "      <td>G</td>\n",
       "      <td>03/01/2010 23:28:00</td>\n",
       "    </tr>\n",
       "  </tbody>\n",
       "</table>\n",
       "</div>"
      ],
      "text/plain": [
       "         Date      Time   Instrument  Value Unit Flag             DateTime\n",
       "0  03/01/2010  23:15:00      WindDir  900.0  Deg    G  03/01/2010 23:15:00\n",
       "1  03/01/2010  23:15:00  PrecipStage    0.0    M    B  03/01/2010 23:15:00\n",
       "2  03/01/2010  23:15:00    WindSpeed    0.9  m/s    G  03/01/2010 23:15:00\n",
       "3  03/01/2010  23:28:00    WindSpeed    0.4  m/s    G  03/01/2010 23:28:00\n",
       "4  03/01/2010  23:28:00      WindDir  914.0  Deg    G  03/01/2010 23:28:00"
      ]
     },
     "execution_count": 12,
     "metadata": {},
     "output_type": "execute_result"
    }
   ],
   "source": [
    "dat=pd.read_csv(pth)\n",
    "print(\"read file: \" + pth)\n",
    "dat.head()"
   ]
  },
  {
   "cell_type": "markdown",
   "metadata": {},
   "source": [
    "## Convert Logger time to UTC and Local Time"
   ]
  },
  {
   "cell_type": "code",
   "execution_count": 13,
   "metadata": {
    "collapsed": false
   },
   "outputs": [],
   "source": [
    "#Logger records on UTC -8; convert to local time\n",
    "#Create date-time column\n",
    "#dat['DateTime']=dat.Date+ \" \" + dat.Time #this is needed for non-cumulative processing\n",
    "dat.loc[:,'DateTime']=pd.to_datetime(dat['DateTime'], format=date_format) #set to date-time from string"
   ]
  },
  {
   "cell_type": "code",
   "execution_count": 14,
   "metadata": {
    "collapsed": false
   },
   "outputs": [
    {
     "data": {
      "text/html": [
       "<div>\n",
       "<table border=\"1\" class=\"dataframe\">\n",
       "  <thead>\n",
       "    <tr style=\"text-align: right;\">\n",
       "      <th></th>\n",
       "      <th>Date</th>\n",
       "      <th>Time</th>\n",
       "      <th>Instrument</th>\n",
       "      <th>Value</th>\n",
       "      <th>Unit</th>\n",
       "      <th>Flag</th>\n",
       "      <th>DateTime</th>\n",
       "    </tr>\n",
       "  </thead>\n",
       "  <tbody>\n",
       "    <tr>\n",
       "      <th>3333157</th>\n",
       "      <td>09/06/2018</td>\n",
       "      <td>13:45:00</td>\n",
       "      <td>PC</td>\n",
       "      <td>1.3193</td>\n",
       "      <td>m</td>\n",
       "      <td>G</td>\n",
       "      <td>2018-09-06 13:45:00</td>\n",
       "    </tr>\n",
       "    <tr>\n",
       "      <th>3333158</th>\n",
       "      <td>09/06/2018</td>\n",
       "      <td>13:45:00</td>\n",
       "      <td>RH</td>\n",
       "      <td>49.0000</td>\n",
       "      <td>%</td>\n",
       "      <td>G</td>\n",
       "      <td>2018-09-06 13:45:00</td>\n",
       "    </tr>\n",
       "    <tr>\n",
       "      <th>3333159</th>\n",
       "      <td>09/06/2018</td>\n",
       "      <td>13:45:00</td>\n",
       "      <td>AT</td>\n",
       "      <td>10.6000</td>\n",
       "      <td>C</td>\n",
       "      <td>G</td>\n",
       "      <td>2018-09-06 13:45:00</td>\n",
       "    </tr>\n",
       "    <tr>\n",
       "      <th>3333160</th>\n",
       "      <td>09/06/2018</td>\n",
       "      <td>13:45:00</td>\n",
       "      <td>AT2</td>\n",
       "      <td>10.7000</td>\n",
       "      <td>C</td>\n",
       "      <td>G</td>\n",
       "      <td>2018-09-06 13:45:00</td>\n",
       "    </tr>\n",
       "    <tr>\n",
       "      <th>3333161</th>\n",
       "      <td>09/06/2018</td>\n",
       "      <td>13:45:00</td>\n",
       "      <td>BAROMETER</td>\n",
       "      <td>90.1900</td>\n",
       "      <td>NaN</td>\n",
       "      <td>G</td>\n",
       "      <td>2018-09-06 13:45:00</td>\n",
       "    </tr>\n",
       "  </tbody>\n",
       "</table>\n",
       "</div>"
      ],
      "text/plain": [
       "               Date      Time Instrument    Value Unit Flag  \\\n",
       "3333157  09/06/2018  13:45:00         PC   1.3193    m    G   \n",
       "3333158  09/06/2018  13:45:00         RH  49.0000    %    G   \n",
       "3333159  09/06/2018  13:45:00         AT  10.6000    C    G   \n",
       "3333160  09/06/2018  13:45:00        AT2  10.7000    C    G   \n",
       "3333161  09/06/2018  13:45:00  BAROMETER  90.1900  NaN    G   \n",
       "\n",
       "                   DateTime  \n",
       "3333157 2018-09-06 13:45:00  \n",
       "3333158 2018-09-06 13:45:00  \n",
       "3333159 2018-09-06 13:45:00  \n",
       "3333160 2018-09-06 13:45:00  \n",
       "3333161 2018-09-06 13:45:00  "
      ]
     },
     "execution_count": 14,
     "metadata": {},
     "output_type": "execute_result"
    }
   ],
   "source": [
    "dat.tail()"
   ]
  },
  {
   "cell_type": "code",
   "execution_count": 15,
   "metadata": {
    "collapsed": false
   },
   "outputs": [
    {
     "data": {
      "text/plain": [
       "array(['WindDir', 'PrecipStage', 'WindSpeed', 'AirTemp1', 'AirTemp2',\n",
       "       'AirTemp3', 'Air Temp w/FanN', 'AirTemp w/Fan', 'AirTempAsp',\n",
       "       'WindGusts', 'AvgWind', 'VectorAvgWindDir', 'WG', 'WS', 'WD',\n",
       "       'AspT', 'PS', 'T1', 'T2', 'MWD', 'PR', 'WDA', 'WSG', 'WDSA', 'BV',\n",
       "       'Tinternal', 'Stage', 'TPG', 'ASPTRH', 'RH', 'PC', 'AT', 'T', 'AT2',\n",
       "       'B', 'BAROMETER'], dtype=object)"
      ]
     },
     "execution_count": 15,
     "metadata": {},
     "output_type": "execute_result"
    }
   ],
   "source": [
    "dat.Instrument.unique()"
   ]
  },
  {
   "cell_type": "code",
   "execution_count": 16,
   "metadata": {
    "collapsed": true
   },
   "outputs": [],
   "source": [
    "#Correct for time slips\n",
    "dat['DateTime']=dat['DateTime'].dt.round('15min') #round time to the nearest 15 minute value\n",
    "\n",
    "#Convert to UTC time, if logger is logging in UTC-8 (true at some stations)\n",
    "if (Glacier+Station=='Wolverine990') | (Glacier+Station=='Gulkana1480') | (Glacier+Station=='Gulkana1920') | (Glacier+Station=='Wolverine1420'):\n",
    "    dat['UTC_col']=dat.DateTime + datetime.timedelta(hours=8)\n",
    "if (Glacier+Station=='Gulkana1725'):\n",
    "    dat['UTC_col']=dat.DateTime #logger is already in UTC time\n",
    "if Glacier + Station=='Sperry2440':\n",
    "    dat['UTC_col']=dat.UTC_time.copy()"
   ]
  },
  {
   "cell_type": "code",
   "execution_count": 17,
   "metadata": {
    "collapsed": true
   },
   "outputs": [],
   "source": [
    "dat['UTC_col']=pd.to_datetime(dat['UTC_col'], format=date_format)"
   ]
  },
  {
   "cell_type": "code",
   "execution_count": 18,
   "metadata": {
    "collapsed": false
   },
   "outputs": [],
   "source": [
    "#Set timezone of known UTC column\n",
    "dat['UTC_col'].timezone='UTC'\n",
    "#Create column for local time\n",
    "local_timezone=pytz.timezone(timezone) #create local timezone object (e.g. AK time)"
   ]
  },
  {
   "cell_type": "code",
   "execution_count": 19,
   "metadata": {
    "collapsed": false
   },
   "outputs": [],
   "source": [
    "dat=dat.set_index('UTC_col')\n",
    "#Create column for local time\n",
    "local_timezone=pytz.timezone(timezone) #create local timezone object (e.g. AK time)\n",
    "\n",
    "#Create local time\n",
    "dat['local_time'] = dat.index.tz_localize('UTC').tz_convert(local_timezone)\n",
    "\n",
    "dat['index_local_time']=dat.local_time.copy()\n",
    "\n",
    "#Set index to local time\n",
    "dat=dat.set_index('index_local_time')"
   ]
  },
  {
   "cell_type": "code",
   "execution_count": 20,
   "metadata": {
    "collapsed": false
   },
   "outputs": [],
   "source": [
    "#Drop duplicates that have same instrument name and date/time stamp (from multiple downloads of same portion of data)\n",
    "dat=dat.drop_duplicates(subset=['DateTime', 'Instrument'], keep='first') #gets rid of overlaps (i.e. multiple downloads of same bit of data)"
   ]
  },
  {
   "cell_type": "code",
   "execution_count": 21,
   "metadata": {
    "collapsed": false
   },
   "outputs": [
    {
     "data": {
      "text/html": [
       "<div>\n",
       "<table border=\"1\" class=\"dataframe\">\n",
       "  <thead>\n",
       "    <tr style=\"text-align: right;\">\n",
       "      <th></th>\n",
       "      <th>Date</th>\n",
       "      <th>Time</th>\n",
       "      <th>Instrument</th>\n",
       "      <th>Value</th>\n",
       "      <th>Unit</th>\n",
       "      <th>Flag</th>\n",
       "      <th>DateTime</th>\n",
       "      <th>local_time</th>\n",
       "    </tr>\n",
       "    <tr>\n",
       "      <th>index_local_time</th>\n",
       "      <th></th>\n",
       "      <th></th>\n",
       "      <th></th>\n",
       "      <th></th>\n",
       "      <th></th>\n",
       "      <th></th>\n",
       "      <th></th>\n",
       "      <th></th>\n",
       "    </tr>\n",
       "  </thead>\n",
       "  <tbody>\n",
       "    <tr>\n",
       "      <th>2010-03-01 22:15:00-09:00</th>\n",
       "      <td>03/01/2010</td>\n",
       "      <td>23:15:00</td>\n",
       "      <td>WindDir</td>\n",
       "      <td>900.0</td>\n",
       "      <td>Deg</td>\n",
       "      <td>G</td>\n",
       "      <td>2010-03-01 23:15:00</td>\n",
       "      <td>2010-03-01 22:15:00-09:00</td>\n",
       "    </tr>\n",
       "  </tbody>\n",
       "</table>\n",
       "</div>"
      ],
      "text/plain": [
       "                                 Date      Time Instrument  Value Unit Flag  \\\n",
       "index_local_time                                                              \n",
       "2010-03-01 22:15:00-09:00  03/01/2010  23:15:00    WindDir  900.0  Deg    G   \n",
       "\n",
       "                                     DateTime                local_time  \n",
       "index_local_time                                                         \n",
       "2010-03-01 22:15:00-09:00 2010-03-01 23:15:00 2010-03-01 22:15:00-09:00  "
      ]
     },
     "execution_count": 21,
     "metadata": {},
     "output_type": "execute_result"
    }
   ],
   "source": [
    "dat.head(1)"
   ]
  },
  {
   "cell_type": "code",
   "execution_count": null,
   "metadata": {
    "collapsed": true
   },
   "outputs": [],
   "source": []
  },
  {
   "cell_type": "code",
   "execution_count": 22,
   "metadata": {
    "collapsed": false
   },
   "outputs": [],
   "source": [
    "#Instrument Label Change - if same label has been used for different quantities thru time: separate into 2 distinct labels.\n",
    "if Glacier + Station==\"Wolverine990\":\n",
    "    dat.loc[(dat.Instrument=='WD') & (dat.index<'2015-09-06 17:15'), 'Instrument']='WindDir' #before this date, \"WD\" was simply wind direction; after, is vector-averaged\n",
    "    dat.loc[(dat.Instrument=='WD') & (dat.index>='2015-09-06 17:15'), 'Instrument']='WDSA' \n",
    "    \n",
    "if Glacier + Station==\"Gulkana1480\":\n",
    "    dat.loc[(dat.Instrument=='WD') & (dat.index<'2015-09-28 12:00'), 'Instrument']='WindDir' #before this date, \"WD\" was simply wind direction; after, is vector-averaged\n",
    "    dat.loc[(dat.Instrument=='WD') & (dat.index>='2015-09-28 12:00'), 'Instrument']='WDSA' \n",
    "    \n",
    "#Gulkana 1725 has had consistent variable naming throughout"
   ]
  },
  {
   "cell_type": "markdown",
   "metadata": {},
   "source": [
    "## Consolidate Sensor Naming\n",
    "#### Has varied thru time"
   ]
  },
  {
   "cell_type": "code",
   "execution_count": 23,
   "metadata": {
    "collapsed": true
   },
   "outputs": [],
   "source": [
    "#If site does NOT have a given sensor, leave label, create empty list\n",
    "\n",
    "if Glacier + Station =='Wolverine990':  \n",
    "    #Name recorded on the logger changed thru time; indicate which are grouped (i.e. logging same variable) here\n",
    "    wind_gust_labels=['WindGusts', 'WG', 'WSG']\n",
    "    wind_speed_labels=['AvgWind', 'WS'] #this is NOT vector-averaged wind speed\n",
    "    vec_avg_wind_dir=['WDSA']\n",
    "    wind_dir_labels=['WindDir']\n",
    "    temp_unasp1_labels=['AirTemp1', 'T1', 'T']\n",
    "    temp_unasp2_labels=['AirTemp2', 'T2']\n",
    "    temp_asp1_labels=['AirTempAsp', 'AspT', 'AT']\n",
    "    temp_asp2_labels=['ASPTRH', 'AT2']\n",
    "    precip_stage_labels=['PR']\n",
    "    precip_weighing_labels=['TPG', 'PC']\n",
    "    precip_incremental_labels=[]\n",
    "    rel_hum_labels=['RH']\n",
    "    barometer_labels=['B', 'BAROMETER']\n",
    "    logger_bat_label=['BV']\n",
    "    logger_temp_label=['Tinternal']\n",
    "    bad_labels=['PrecipStage', 'AirTemp3', 'Air Temp w/FanN', 'AirTemp w/Fan', 'VectorAvgWindDir', 'PS', 'MWD', 'WDA'] #labels containing only bad data; introduced during maintenence etc.\n",
    "    radiation_up_labels=[]\n",
    "    radiation_down_labels=[]\n",
    "    snow_depth_labels=[] \n",
    "    \n",
    "if Glacier + Station =='Gulkana1480':  \n",
    "    #Name recorded on the logger changed thru time; indicate which are grouped (i.e. logging same variable) here\n",
    "    wind_gust_labels=['WSG']\n",
    "    wind_speed_labels=['WindSpeed', 'WS']\n",
    "    vec_avg_wind_dir=['WDSA']\n",
    "    wind_dir_labels=['WindDir'] #this is NOT-vector average wind direction\n",
    "    temp_unasp1_labels=['AirTemp1', 'T1', 'T']\n",
    "    temp_unasp2_labels=['AirTemp2', 'T2']\n",
    "    temp_asp1_labels=['AspT', 'AT']\n",
    "    temp_asp2_labels=['AT2']\n",
    "    precip_stage_labels=['PR'] #precip doesn't begin until 2010-07; before this, is recording, but logger only has 0 precip\n",
    "    precip_weighing_labels=['TPG', 'PC']\n",
    "    precip_incremental_labels=[]\n",
    "    rel_hum_labels=['RH']\n",
    "    barometer_labels=[] #no barometer at this station\n",
    "    logger_bat_label=['BV']\n",
    "    logger_temp_label=['Tinternal']\n",
    "    bad_labels=['PrecipStage', 'AirTemp3', 'Stage'] #labels containing only bad data; introduced during maintenence etc.\n",
    "    radiation_up_labels=[]\n",
    "    radiation_down_labels=[]\n",
    "    snow_depth_labels=[]    \n",
    "    \n",
    "if Glacier + Station=='Gulkana1725':\n",
    "    #Only a single name thru time; no changes @ 1725\n",
    "    wind_gust_labels=[]#no wind gust recorded\n",
    "    wind_speed_labels=['MS']\n",
    "    vec_avg_wind_dir=['MD']\n",
    "    wind_dir_labels=[] #this is NOT-vector average wind direction\n",
    "    temp_unasp1_labels=['TA'] #TA is NOT Aspriated; it's Temperature, Air\n",
    "    temp_unasp2_labels=['T']\n",
    "    temp_asp1_labels=[]\n",
    "    temp_asp2_labels=[]\n",
    "    precip_stage_labels=[]\n",
    "    precip_weighing_labels=['PC']\n",
    "    precip_incremental_labels=[]\n",
    "    rel_hum_labels=[]\n",
    "    barometer_labels=[] #no barometer at this station\n",
    "    logger_bat_label=['VB']\n",
    "    logger_temp_label=[]\n",
    "    bad_labels=[]\n",
    "    radiation_up_labels=['RU']\n",
    "    radiation_down_labels=['RD']\n",
    "    snow_depth_labels=['DS']\n",
    "    \n",
    "if (Glacier + Station=='Gulkana1920') | (Glacier + Station=='Wolverine1420'): #same program and same variable naming at JWS stations\n",
    "    wind_gust_labels=[]#no wind gust recorded\n",
    "    wind_speed_labels=['WS_ms_S_WVT']\n",
    "    vec_avg_wind_dir=['WindDir_D1_WVT'] #I am guessing this is vec acerage; should come back and check program before using\n",
    "    wind_dir_labels=[] #this is NOT-vector average wind direction\n",
    "    temp_unasp1_labels=['AirTempC_Avg']\n",
    "    temp_unasp2_labels=[]\n",
    "    temp_asp1_labels=[]\n",
    "    temp_asp2_labels=[]\n",
    "    precip_stage_labels=[]\n",
    "    precip_weighing_labels=[]\n",
    "    precip_incremental_labels=[]\n",
    "    if Station=='Wolverine1420':#only true at Wolverine\n",
    "        precip_weighing_labels=['TPGCumulative']\n",
    "    rel_hum_labels=['RH']\n",
    "    barometer_labels=['BP_inHg_Avg']\n",
    "    logger_bat_label=['BattV_Avg']\n",
    "    logger_temp_label=[]\n",
    "    bad_labels=[]\n",
    "    radiation_up_labels=['PyrnUp_Avg']\n",
    "    radiation_down_labels=['PyrnDn_Avg']\n",
    "    snow_depth_labels=[]\n",
    "\n",
    "    \n",
    "    #COME BACK AND START HERE AFTER FIELDWORK WITH AVO!!\n",
    "if Glacier =='JuneauIcefield' and \"AWS\" in Station: #differentiate between 3 AWS stations, vs. jirp hobo loggers\n",
    "    wind_gust_labels=['WindSpMax', 'WindSpGust', 'WindSP_Gust']#no wind gust recorded\n",
    "    wind_speed_labels=['WS_ms_S_WVT', 'WindSpeed', 'WindSp', 'WindSP']\n",
    "    vec_avg_wind_dir=['WindDir_D1_WVT', 'WindDir_VecAvg'] #I am guessing this is vec acerage; should come back and check program before using\n",
    "    wind_dir_labels=['WindDir'] #this is NOT-vector average wind direction\n",
    "    temp_unasp1_labels=['AirTC_Avg', 'AirTemp']\n",
    "    temp_unasp2_labels=[]\n",
    "    temp_asp1_labels=[]\n",
    "    temp_asp2_labels=[]\n",
    "    precip_stage_labels=[]\n",
    "    precip_weighing_labels=[]\n",
    "    precip_incremental_labels=['Precip_m']\n",
    "    rel_hum_labels=['RH']\n",
    "    barometer_labels=['BP_mbar', 'BP_kPa_Avg', 'Baro_Kpa', 'Baro']\n",
    "    logger_bat_label=['BattV_Avg']\n",
    "    logger_temp_label=[]\n",
    "    bad_labels=['Time']\n",
    "    radiation_up_labels=['PyrnUp_Avg', 'SolRad']\n",
    "    radiation_down_labels=['PyrnDn_Avg']\n",
    "    snow_depth_labels=['TCDT', 'SnowDep1']\n"
   ]
  },
  {
   "cell_type": "code",
   "execution_count": 24,
   "metadata": {
    "collapsed": false
   },
   "outputs": [],
   "source": [
    "#Rename instruments \n",
    "dat.loc[dat.Instrument.isin(wind_gust_labels), \"Instrument\"]='WindGustSpeed'\n",
    "dat.loc[dat.Instrument.isin(wind_speed_labels), \"Instrument\"]='WindSpeed'\n",
    "dat.loc[dat.Instrument.isin(wind_dir_labels), \"Instrument\"]='WindDir'\n",
    "dat.loc[dat.Instrument.isin(vec_avg_wind_dir), \"Instrument\"]='VecAvgWindDir'\n",
    "dat.loc[dat.Instrument.isin(temp_unasp1_labels), \"Instrument\"]='Tpassive1'\n",
    "dat.loc[dat.Instrument.isin(temp_unasp2_labels), \"Instrument\"]='Tpassive2'\n",
    "dat.loc[dat.Instrument.isin(temp_asp1_labels), \"Instrument\"]='TAspirated1'\n",
    "dat.loc[dat.Instrument.isin(temp_asp2_labels), \"Instrument\"]='TAspirated2'\n",
    "dat.loc[dat.Instrument.isin(precip_stage_labels), \"Instrument\"]='StageCumulative'\n",
    "dat.loc[dat.Instrument.isin(precip_weighing_labels), \"Instrument\"]='TPGCumulative'\n",
    "dat.loc[dat.Instrument.isin(precip_incremental_labels), \"Instrument\"]='IncrementalPrecip'\n",
    "dat.loc[dat.Instrument.isin(rel_hum_labels), \"Instrument\"]='RelHum'\n",
    "dat.loc[dat.Instrument.isin(barometer_labels), \"Instrument\"]='Barom'\n",
    "dat.loc[dat.Instrument.isin(logger_bat_label), \"Instrument\"]='LoggerBattery'\n",
    "dat.loc[dat.Instrument.isin(logger_temp_label), \"Instrument\"]='LoggerTemp'\n",
    "dat.loc[dat.Instrument.isin(radiation_up_labels), \"Instrument\"]='RadiationIn'\n",
    "dat.loc[dat.Instrument.isin(radiation_down_labels), \"Instrument\"]='RadiationOut'\n",
    "dat.loc[dat.Instrument.isin(snow_depth_labels), \"Instrument\"]='SnowDepth'\n",
    "\n",
    "#Remove rows with bad data\n",
    "dat=dat[~dat.Instrument.isin(bad_labels)] #Remove where labels are bad; introduced during maintenance"
   ]
  },
  {
   "cell_type": "code",
   "execution_count": 25,
   "metadata": {
    "collapsed": false
   },
   "outputs": [
    {
     "name": "stdout",
     "output_type": "stream",
     "text": [
      "['WindDir' 'WindSpeed' 'Tpassive1' 'Tpassive2' 'TAspirated1'\n",
      " 'WindGustSpeed' 'StageCumulative' 'VecAvgWindDir' 'LoggerBattery'\n",
      " 'LoggerTemp' 'Stage' 'TPGCumulative' 'TAspirated2' 'RelHum' 'Barom']\n"
     ]
    },
    {
     "data": {
      "text/html": [
       "<div>\n",
       "<table border=\"1\" class=\"dataframe\">\n",
       "  <thead>\n",
       "    <tr style=\"text-align: right;\">\n",
       "      <th></th>\n",
       "      <th>Date</th>\n",
       "      <th>Time</th>\n",
       "      <th>Instrument</th>\n",
       "      <th>Value</th>\n",
       "      <th>Unit</th>\n",
       "      <th>Flag</th>\n",
       "      <th>DateTime</th>\n",
       "      <th>local_time</th>\n",
       "    </tr>\n",
       "    <tr>\n",
       "      <th>index_local_time</th>\n",
       "      <th></th>\n",
       "      <th></th>\n",
       "      <th></th>\n",
       "      <th></th>\n",
       "      <th></th>\n",
       "      <th></th>\n",
       "      <th></th>\n",
       "      <th></th>\n",
       "    </tr>\n",
       "  </thead>\n",
       "  <tbody>\n",
       "    <tr>\n",
       "      <th>2010-03-01 22:15:00-09:00</th>\n",
       "      <td>03/01/2010</td>\n",
       "      <td>23:15:00</td>\n",
       "      <td>WindDir</td>\n",
       "      <td>900.0</td>\n",
       "      <td>Deg</td>\n",
       "      <td>G</td>\n",
       "      <td>2010-03-01 23:15:00</td>\n",
       "      <td>2010-03-01 22:15:00-09:00</td>\n",
       "    </tr>\n",
       "    <tr>\n",
       "      <th>2010-03-01 22:15:00-09:00</th>\n",
       "      <td>03/01/2010</td>\n",
       "      <td>23:15:00</td>\n",
       "      <td>WindSpeed</td>\n",
       "      <td>0.9</td>\n",
       "      <td>m/s</td>\n",
       "      <td>G</td>\n",
       "      <td>2010-03-01 23:15:00</td>\n",
       "      <td>2010-03-01 22:15:00-09:00</td>\n",
       "    </tr>\n",
       "    <tr>\n",
       "      <th>2010-03-01 22:30:00-09:00</th>\n",
       "      <td>03/01/2010</td>\n",
       "      <td>23:28:00</td>\n",
       "      <td>WindSpeed</td>\n",
       "      <td>0.4</td>\n",
       "      <td>m/s</td>\n",
       "      <td>G</td>\n",
       "      <td>2010-03-01 23:30:00</td>\n",
       "      <td>2010-03-01 22:30:00-09:00</td>\n",
       "    </tr>\n",
       "    <tr>\n",
       "      <th>2010-03-01 22:30:00-09:00</th>\n",
       "      <td>03/01/2010</td>\n",
       "      <td>23:28:00</td>\n",
       "      <td>WindDir</td>\n",
       "      <td>914.0</td>\n",
       "      <td>Deg</td>\n",
       "      <td>G</td>\n",
       "      <td>2010-03-01 23:30:00</td>\n",
       "      <td>2010-03-01 22:30:00-09:00</td>\n",
       "    </tr>\n",
       "    <tr>\n",
       "      <th>2010-03-01 22:45:00-09:00</th>\n",
       "      <td>03/01/2010</td>\n",
       "      <td>23:42:00</td>\n",
       "      <td>Tpassive1</td>\n",
       "      <td>21.1</td>\n",
       "      <td>C</td>\n",
       "      <td>G</td>\n",
       "      <td>2010-03-01 23:45:00</td>\n",
       "      <td>2010-03-01 22:45:00-09:00</td>\n",
       "    </tr>\n",
       "  </tbody>\n",
       "</table>\n",
       "</div>"
      ],
      "text/plain": [
       "                                 Date      Time Instrument  Value Unit Flag  \\\n",
       "index_local_time                                                              \n",
       "2010-03-01 22:15:00-09:00  03/01/2010  23:15:00    WindDir  900.0  Deg    G   \n",
       "2010-03-01 22:15:00-09:00  03/01/2010  23:15:00  WindSpeed    0.9  m/s    G   \n",
       "2010-03-01 22:30:00-09:00  03/01/2010  23:28:00  WindSpeed    0.4  m/s    G   \n",
       "2010-03-01 22:30:00-09:00  03/01/2010  23:28:00    WindDir  914.0  Deg    G   \n",
       "2010-03-01 22:45:00-09:00  03/01/2010  23:42:00  Tpassive1   21.1    C    G   \n",
       "\n",
       "                                     DateTime                local_time  \n",
       "index_local_time                                                         \n",
       "2010-03-01 22:15:00-09:00 2010-03-01 23:15:00 2010-03-01 22:15:00-09:00  \n",
       "2010-03-01 22:15:00-09:00 2010-03-01 23:15:00 2010-03-01 22:15:00-09:00  \n",
       "2010-03-01 22:30:00-09:00 2010-03-01 23:30:00 2010-03-01 22:30:00-09:00  \n",
       "2010-03-01 22:30:00-09:00 2010-03-01 23:30:00 2010-03-01 22:30:00-09:00  \n",
       "2010-03-01 22:45:00-09:00 2010-03-01 23:45:00 2010-03-01 22:45:00-09:00  "
      ]
     },
     "execution_count": 25,
     "metadata": {},
     "output_type": "execute_result"
    }
   ],
   "source": [
    "print(dat.Instrument.unique())\n",
    "dat.head()"
   ]
  },
  {
   "cell_type": "code",
   "execution_count": 26,
   "metadata": {
    "collapsed": false
   },
   "outputs": [],
   "source": [
    "#Cast the data from long -> wide format\n",
    "#dat=dat.reset_index() #reset index so all unique\n",
    "wide_dat=dat.pivot_table(columns='Instrument', values='Value', index='local_time')"
   ]
  },
  {
   "cell_type": "code",
   "execution_count": 27,
   "metadata": {
    "collapsed": false
   },
   "outputs": [
    {
     "data": {
      "text/html": [
       "<div>\n",
       "<table border=\"1\" class=\"dataframe\">\n",
       "  <thead>\n",
       "    <tr style=\"text-align: right;\">\n",
       "      <th>Instrument</th>\n",
       "      <th>Barom</th>\n",
       "      <th>LoggerBattery</th>\n",
       "      <th>LoggerTemp</th>\n",
       "      <th>RelHum</th>\n",
       "      <th>Stage</th>\n",
       "      <th>StageCumulative</th>\n",
       "      <th>TAspirated1</th>\n",
       "      <th>TAspirated2</th>\n",
       "      <th>TPGCumulative</th>\n",
       "      <th>Tpassive1</th>\n",
       "      <th>Tpassive2</th>\n",
       "      <th>VecAvgWindDir</th>\n",
       "      <th>WindDir</th>\n",
       "      <th>WindGustSpeed</th>\n",
       "      <th>WindSpeed</th>\n",
       "    </tr>\n",
       "    <tr>\n",
       "      <th>local_time</th>\n",
       "      <th></th>\n",
       "      <th></th>\n",
       "      <th></th>\n",
       "      <th></th>\n",
       "      <th></th>\n",
       "      <th></th>\n",
       "      <th></th>\n",
       "      <th></th>\n",
       "      <th></th>\n",
       "      <th></th>\n",
       "      <th></th>\n",
       "      <th></th>\n",
       "      <th></th>\n",
       "      <th></th>\n",
       "      <th></th>\n",
       "    </tr>\n",
       "  </thead>\n",
       "  <tbody>\n",
       "    <tr>\n",
       "      <th>2018-09-06 13:45:00-08:00</th>\n",
       "      <td>90.19</td>\n",
       "      <td>14.2</td>\n",
       "      <td>16.9</td>\n",
       "      <td>49.0</td>\n",
       "      <td>NaN</td>\n",
       "      <td>NaN</td>\n",
       "      <td>10.6</td>\n",
       "      <td>10.7</td>\n",
       "      <td>1.3193</td>\n",
       "      <td>11.3</td>\n",
       "      <td>NaN</td>\n",
       "      <td>57.0</td>\n",
       "      <td>NaN</td>\n",
       "      <td>6.0</td>\n",
       "      <td>4.0</td>\n",
       "    </tr>\n",
       "  </tbody>\n",
       "</table>\n",
       "</div>"
      ],
      "text/plain": [
       "Instrument                 Barom  LoggerBattery  LoggerTemp  RelHum  Stage  \\\n",
       "local_time                                                                   \n",
       "2018-09-06 13:45:00-08:00  90.19           14.2        16.9    49.0    NaN   \n",
       "\n",
       "Instrument                 StageCumulative  TAspirated1  TAspirated2  \\\n",
       "local_time                                                             \n",
       "2018-09-06 13:45:00-08:00              NaN         10.6         10.7   \n",
       "\n",
       "Instrument                 TPGCumulative  Tpassive1  Tpassive2  VecAvgWindDir  \\\n",
       "local_time                                                                      \n",
       "2018-09-06 13:45:00-08:00         1.3193       11.3        NaN           57.0   \n",
       "\n",
       "Instrument                 WindDir  WindGustSpeed  WindSpeed  \n",
       "local_time                                                    \n",
       "2018-09-06 13:45:00-08:00      NaN            6.0        4.0  "
      ]
     },
     "execution_count": 27,
     "metadata": {},
     "output_type": "execute_result"
    }
   ],
   "source": [
    "wide_dat.tail(1)"
   ]
  },
  {
   "cell_type": "code",
   "execution_count": 28,
   "metadata": {
    "collapsed": true
   },
   "outputs": [],
   "source": [
    "#Reindex to 15min to ensure no timesteps are skipped\n",
    "wide_dat.sort_index(inplace=True)\n",
    "full_range_15_min = pd.date_range(wide_dat.index[0], wide_dat.index[-1], freq='15min')"
   ]
  },
  {
   "cell_type": "code",
   "execution_count": 29,
   "metadata": {
    "collapsed": false
   },
   "outputs": [],
   "source": [
    "wide_dat=wide_dat.reindex(index=full_range_15_min, fill_value=pd.np.nan)"
   ]
  },
  {
   "cell_type": "code",
   "execution_count": 30,
   "metadata": {
    "collapsed": false
   },
   "outputs": [
    {
     "data": {
      "text/plain": [
       "'%Y/%m/%d %H:%M'"
      ]
     },
     "execution_count": 30,
     "metadata": {},
     "output_type": "execute_result"
    }
   ],
   "source": [
    "out_date_format"
   ]
  },
  {
   "cell_type": "code",
   "execution_count": 31,
   "metadata": {
    "collapsed": false
   },
   "outputs": [],
   "source": [
    "#Set output format of time\n",
    "wide_dat['UTC_time']=wide_dat.index.tz_convert('UTC').strftime(out_date_format)#Create column for true local time (as string, not UTC - X hrs)\n",
    "wide_dat['local_time']=wide_dat.index.tz_convert(timezone).strftime(out_date_format)#Create column for true local time (as string, not UTC - X hrs)"
   ]
  },
  {
   "cell_type": "code",
   "execution_count": 32,
   "metadata": {
    "collapsed": false
   },
   "outputs": [],
   "source": [
    "save_dat=wide_dat"
   ]
  },
  {
   "cell_type": "markdown",
   "metadata": {},
   "source": [
    "** Adjust for size of stage gage orifice (x5) **\n",
    "- this is a legacy issue; gage orifice used is bigger than instrument design. Thus, precip recorded on logger is 1/5 of true"
   ]
  },
  {
   "cell_type": "code",
   "execution_count": 33,
   "metadata": {
    "collapsed": false
   },
   "outputs": [
    {
     "name": "stdout",
     "output_type": "stream",
     "text": [
      "adjusted legacy data\n"
     ]
    }
   ],
   "source": [
    "precip_present=len(precip_columns)>0\n",
    "if precip_present:\n",
    "    if 'StageCumulative' in save_dat.columns:\n",
    "        print('adjusted legacy data')\n",
    "        save_dat['StageCumulative']=save_dat.StageCumulative*5 #legacy issue; see comment above"
   ]
  },
  {
   "cell_type": "code",
   "execution_count": 34,
   "metadata": {
    "collapsed": false
   },
   "outputs": [
    {
     "data": {
      "text/plain": [
       "'wolverine990_15min_all_LVL0.csv'"
      ]
     },
     "execution_count": 34,
     "metadata": {},
     "output_type": "execute_result"
    }
   ],
   "source": [
    "#directory to save output data\n",
    "save_pth=base_path+ r\"Data/\" +Glacier+ r\"/AllYears/Wx/LVL0/\"\n",
    "out_nm=Glacier.lower()+ Station + file_label+ \"_LVL0.csv\"\n",
    "out_nm"
   ]
  },
  {
   "cell_type": "code",
   "execution_count": 38,
   "metadata": {
    "collapsed": false
   },
   "outputs": [
    {
     "name": "stdout",
     "output_type": "stream",
     "text": [
      "saved to:  Q:/Project Data/GlacierData/Benchmark_Program/Data/Wolverine/AllYears/Wx/LVL0/wolverine990_15min_all_LVL0.csv\n"
     ]
    }
   ],
   "source": [
    "save_dat[['local_time', 'UTC_time'] +data_columns].to_csv(os.path.join(save_pth, out_nm), index=False, float_format='%g')\n",
    "print( \"saved to: \", save_pth+out_nm)"
   ]
  },
  {
   "cell_type": "code",
   "execution_count": 39,
   "metadata": {
    "collapsed": false
   },
   "outputs": [],
   "source": [
    "#If this is the Nunatak station, fill gaps with Irridium telemetry\n",
    "if Glacier + Station=='Gulkana1725':\n",
    "    %run \"./Gulkana1725_FillGapsWithIrridium.py\""
   ]
  },
  {
   "cell_type": "code",
   "execution_count": 40,
   "metadata": {
    "collapsed": false
   },
   "outputs": [
    {
     "name": "stdout",
     "output_type": "stream",
     "text": [
      "1990s data added to logger from NWIS at Wolverine990\n",
      "wrote data to Q:/Project Data/GlacierData/Benchmark_Program/Data/Wolverine/AllYears/Wx/LVL0/telemetry_added/wolverine990_15min_all_LVL0.csv\n"
     ]
    }
   ],
   "source": [
    "#If Wolv 990 or Gulkana 1480, add 1990s data from NWIS to extend record back in time\n",
    "if (Glacier + Station=='Wolverine990') | (Glacier + Station=='Gulkana1480'):    \n",
    "    %run \"./Add1990sDataFromNWIS.py\""
   ]
  },
  {
   "cell_type": "code",
   "execution_count": 41,
   "metadata": {
    "collapsed": false
   },
   "outputs": [
    {
     "name": "stdout",
     "output_type": "stream",
     "text": [
      "hey\n"
     ]
    }
   ],
   "source": [
    "print('hey')"
   ]
  },
  {
   "cell_type": "code",
   "execution_count": 42,
   "metadata": {
    "collapsed": false
   },
   "outputs": [
    {
     "data": {
      "text/html": [
       "<div>\n",
       "<table border=\"1\" class=\"dataframe\">\n",
       "  <thead>\n",
       "    <tr style=\"text-align: right;\">\n",
       "      <th></th>\n",
       "      <th>local_time</th>\n",
       "      <th>UTC_time</th>\n",
       "      <th>Tpassive1</th>\n",
       "      <th>Tpassive2</th>\n",
       "      <th>TAspirated1</th>\n",
       "      <th>TAspirated2</th>\n",
       "      <th>TPGCumulative</th>\n",
       "      <th>StageCumulative</th>\n",
       "      <th>WindSpeed</th>\n",
       "      <th>WindDir</th>\n",
       "      <th>VecAvgWindDir</th>\n",
       "      <th>RelHum</th>\n",
       "      <th>WindGustSpeed</th>\n",
       "    </tr>\n",
       "  </thead>\n",
       "  <tbody>\n",
       "    <tr>\n",
       "      <th>2018-09-06 20:45:00+00:00</th>\n",
       "      <td>2018/09/06 12:45</td>\n",
       "      <td>2018/09/06 20:45</td>\n",
       "      <td>11.8</td>\n",
       "      <td>NaN</td>\n",
       "      <td>11.2</td>\n",
       "      <td>11.2</td>\n",
       "      <td>1.3204</td>\n",
       "      <td>NaN</td>\n",
       "      <td>2.0</td>\n",
       "      <td>NaN</td>\n",
       "      <td>242.0</td>\n",
       "      <td>52.0</td>\n",
       "      <td>3.0</td>\n",
       "    </tr>\n",
       "    <tr>\n",
       "      <th>2018-09-06 21:00:00+00:00</th>\n",
       "      <td>2018/09/06 13:00</td>\n",
       "      <td>2018/09/06 21:00</td>\n",
       "      <td>12.5</td>\n",
       "      <td>NaN</td>\n",
       "      <td>11.9</td>\n",
       "      <td>11.9</td>\n",
       "      <td>1.3197</td>\n",
       "      <td>NaN</td>\n",
       "      <td>2.0</td>\n",
       "      <td>NaN</td>\n",
       "      <td>196.0</td>\n",
       "      <td>51.0</td>\n",
       "      <td>3.0</td>\n",
       "    </tr>\n",
       "    <tr>\n",
       "      <th>2018-09-06 21:15:00+00:00</th>\n",
       "      <td>2018/09/06 13:15</td>\n",
       "      <td>2018/09/06 21:15</td>\n",
       "      <td>12.0</td>\n",
       "      <td>NaN</td>\n",
       "      <td>11.7</td>\n",
       "      <td>11.9</td>\n",
       "      <td>1.3194</td>\n",
       "      <td>NaN</td>\n",
       "      <td>2.0</td>\n",
       "      <td>NaN</td>\n",
       "      <td>83.0</td>\n",
       "      <td>44.0</td>\n",
       "      <td>3.0</td>\n",
       "    </tr>\n",
       "    <tr>\n",
       "      <th>2018-09-06 21:30:00+00:00</th>\n",
       "      <td>2018/09/06 13:30</td>\n",
       "      <td>2018/09/06 21:30</td>\n",
       "      <td>11.3</td>\n",
       "      <td>NaN</td>\n",
       "      <td>10.9</td>\n",
       "      <td>11.0</td>\n",
       "      <td>1.3193</td>\n",
       "      <td>NaN</td>\n",
       "      <td>3.0</td>\n",
       "      <td>NaN</td>\n",
       "      <td>65.0</td>\n",
       "      <td>47.0</td>\n",
       "      <td>4.0</td>\n",
       "    </tr>\n",
       "    <tr>\n",
       "      <th>2018-09-06 21:45:00+00:00</th>\n",
       "      <td>2018/09/06 13:45</td>\n",
       "      <td>2018/09/06 21:45</td>\n",
       "      <td>11.3</td>\n",
       "      <td>NaN</td>\n",
       "      <td>10.6</td>\n",
       "      <td>10.7</td>\n",
       "      <td>1.3193</td>\n",
       "      <td>NaN</td>\n",
       "      <td>4.0</td>\n",
       "      <td>NaN</td>\n",
       "      <td>57.0</td>\n",
       "      <td>49.0</td>\n",
       "      <td>6.0</td>\n",
       "    </tr>\n",
       "  </tbody>\n",
       "</table>\n",
       "</div>"
      ],
      "text/plain": [
       "                                 local_time          UTC_time  Tpassive1  \\\n",
       "2018-09-06 20:45:00+00:00  2018/09/06 12:45  2018/09/06 20:45       11.8   \n",
       "2018-09-06 21:00:00+00:00  2018/09/06 13:00  2018/09/06 21:00       12.5   \n",
       "2018-09-06 21:15:00+00:00  2018/09/06 13:15  2018/09/06 21:15       12.0   \n",
       "2018-09-06 21:30:00+00:00  2018/09/06 13:30  2018/09/06 21:30       11.3   \n",
       "2018-09-06 21:45:00+00:00  2018/09/06 13:45  2018/09/06 21:45       11.3   \n",
       "\n",
       "                           Tpassive2  TAspirated1  TAspirated2  TPGCumulative  \\\n",
       "2018-09-06 20:45:00+00:00        NaN         11.2         11.2         1.3204   \n",
       "2018-09-06 21:00:00+00:00        NaN         11.9         11.9         1.3197   \n",
       "2018-09-06 21:15:00+00:00        NaN         11.7         11.9         1.3194   \n",
       "2018-09-06 21:30:00+00:00        NaN         10.9         11.0         1.3193   \n",
       "2018-09-06 21:45:00+00:00        NaN         10.6         10.7         1.3193   \n",
       "\n",
       "                           StageCumulative  WindSpeed  WindDir  VecAvgWindDir  \\\n",
       "2018-09-06 20:45:00+00:00              NaN        2.0      NaN          242.0   \n",
       "2018-09-06 21:00:00+00:00              NaN        2.0      NaN          196.0   \n",
       "2018-09-06 21:15:00+00:00              NaN        2.0      NaN           83.0   \n",
       "2018-09-06 21:30:00+00:00              NaN        3.0      NaN           65.0   \n",
       "2018-09-06 21:45:00+00:00              NaN        4.0      NaN           57.0   \n",
       "\n",
       "                           RelHum  WindGustSpeed  \n",
       "2018-09-06 20:45:00+00:00    52.0            3.0  \n",
       "2018-09-06 21:00:00+00:00    51.0            3.0  \n",
       "2018-09-06 21:15:00+00:00    44.0            3.0  \n",
       "2018-09-06 21:30:00+00:00    47.0            4.0  \n",
       "2018-09-06 21:45:00+00:00    49.0            6.0  "
      ]
     },
     "execution_count": 42,
     "metadata": {},
     "output_type": "execute_result"
    }
   ],
   "source": [
    "save_dat[['local_time', 'UTC_time'] +data_columns].tail()"
   ]
  },
  {
   "cell_type": "code",
   "execution_count": null,
   "metadata": {
    "collapsed": true
   },
   "outputs": [],
   "source": []
  },
  {
   "cell_type": "code",
   "execution_count": null,
   "metadata": {
    "collapsed": true
   },
   "outputs": [],
   "source": []
  }
 ],
 "metadata": {
  "kernelspec": {
   "display_name": "Python 3",
   "language": "python",
   "name": "python3"
  },
  "language_info": {
   "codemirror_mode": {
    "name": "ipython",
    "version": 3
   },
   "file_extension": ".py",
   "mimetype": "text/x-python",
   "name": "python",
   "nbconvert_exporter": "python",
   "pygments_lexer": "ipython3",
   "version": "3.6.0"
  }
 },
 "nbformat": 4,
 "nbformat_minor": 2
}
