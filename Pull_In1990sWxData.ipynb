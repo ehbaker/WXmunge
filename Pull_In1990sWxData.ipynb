{
 "cells": [
  {
   "cell_type": "code",
   "execution_count": 34,
   "metadata": {
    "collapsed": true
   },
   "outputs": [],
   "source": [
    "import pandas as pd\n",
    "import glob\n",
    "import os\n",
    "import pytz"
   ]
  },
  {
   "cell_type": "code",
   "execution_count": 35,
   "metadata": {
    "collapsed": true
   },
   "outputs": [],
   "source": [
    "Glacier='Wolverine'\n",
    "Station='990'"
   ]
  },
  {
   "cell_type": "code",
   "execution_count": 40,
   "metadata": {
    "collapsed": false
   },
   "outputs": [],
   "source": [
    "if Glacier + Station== \"Gulkana1480\":\n",
    "    par_dir=r\"Q:\\Project Data\\GlacierData\\Benchmark_Program\\Data/\" +Glacier+ r'/AllYears/Wx/Raw/telemeteredNWIS'\n",
    "if Glacier + Station ==\"Wolverine990\":\n",
    "    par_dir=r\"Q:\\Project Data\\GlacierData\\Benchmark_Program\\Data\\Wolverine\\AllYears\\Wx\\Raw\\telemeteredNWIS\\Historical_1995to2017\""
   ]
  },
  {
   "cell_type": "code",
   "execution_count": 41,
   "metadata": {
    "collapsed": false
   },
   "outputs": [],
   "source": [
    "os.chdir(par_dir)\n",
    "fls=glob.glob('*.csv')"
   ]
  },
  {
   "cell_type": "code",
   "execution_count": 42,
   "metadata": {
    "collapsed": false
   },
   "outputs": [],
   "source": [
    "#Remove the summary file if already made previously\n",
    "fls.remove(\"NWIS_data_\"+Glacier + \".csv\")"
   ]
  },
  {
   "cell_type": "code",
   "execution_count": 43,
   "metadata": {
    "collapsed": false
   },
   "outputs": [
    {
     "name": "stdout",
     "output_type": "stream",
     "text": [
      "StageCumulative\n",
      "TAspirated1\n",
      "TAspirated2\n",
      "Tpassive1\n",
      "Tpassive2\n",
      "WindDir\n",
      "WindGustSpeed\n",
      "WindSpeed\n"
     ]
    }
   ],
   "source": [
    "alldat=pd.DataFrame()\n",
    "for fl in fls:\n",
    "    dat=pd.read_csv(fl, header=14)\n",
    "    var_name=fl.replace(\".csv\", \"\")\n",
    "    print(var_name)\n",
    "    dat=dat[['ISO 8601 UTC', ' Value']]\n",
    "    dat.rename(columns = {' Value': var_name}, inplace = True)\n",
    "    if fl==fls[0]:\n",
    "        alldat=alldat.append(dat)\n",
    "        continue\n",
    "    alldat=alldat.merge(dat, on='ISO 8601 UTC', how='outer')"
   ]
  },
  {
   "cell_type": "code",
   "execution_count": 44,
   "metadata": {
    "collapsed": false
   },
   "outputs": [],
   "source": [
    "alldat=alldat.rename(columns={'ISO 8601 UTC': \"UTC_time\"})"
   ]
  },
  {
   "cell_type": "code",
   "execution_count": 45,
   "metadata": {
    "collapsed": false
   },
   "outputs": [
    {
     "data": {
      "text/html": [
       "<div>\n",
       "<table border=\"1\" class=\"dataframe\">\n",
       "  <thead>\n",
       "    <tr style=\"text-align: right;\">\n",
       "      <th></th>\n",
       "      <th>UTC_time</th>\n",
       "      <th>StageCumulative</th>\n",
       "      <th>TAspirated1</th>\n",
       "      <th>TAspirated2</th>\n",
       "      <th>Tpassive1</th>\n",
       "      <th>Tpassive2</th>\n",
       "      <th>WindDir</th>\n",
       "      <th>WindGustSpeed</th>\n",
       "      <th>WindSpeed</th>\n",
       "    </tr>\n",
       "  </thead>\n",
       "  <tbody>\n",
       "    <tr>\n",
       "      <th>0</th>\n",
       "      <td>1995-09-21T20:00:00Z</td>\n",
       "      <td>0.0</td>\n",
       "      <td>NaN</td>\n",
       "      <td>NaN</td>\n",
       "      <td>NaN</td>\n",
       "      <td>NaN</td>\n",
       "      <td>NaN</td>\n",
       "      <td>NaN</td>\n",
       "      <td>0.0</td>\n",
       "    </tr>\n",
       "    <tr>\n",
       "      <th>1</th>\n",
       "      <td>1995-09-21T20:15:00Z</td>\n",
       "      <td>0.0</td>\n",
       "      <td>NaN</td>\n",
       "      <td>NaN</td>\n",
       "      <td>NaN</td>\n",
       "      <td>NaN</td>\n",
       "      <td>NaN</td>\n",
       "      <td>NaN</td>\n",
       "      <td>0.0</td>\n",
       "    </tr>\n",
       "    <tr>\n",
       "      <th>2</th>\n",
       "      <td>1995-09-21T20:30:00Z</td>\n",
       "      <td>0.0</td>\n",
       "      <td>NaN</td>\n",
       "      <td>NaN</td>\n",
       "      <td>NaN</td>\n",
       "      <td>NaN</td>\n",
       "      <td>NaN</td>\n",
       "      <td>NaN</td>\n",
       "      <td>0.0</td>\n",
       "    </tr>\n",
       "    <tr>\n",
       "      <th>3</th>\n",
       "      <td>1995-09-21T20:45:00Z</td>\n",
       "      <td>0.0</td>\n",
       "      <td>NaN</td>\n",
       "      <td>NaN</td>\n",
       "      <td>NaN</td>\n",
       "      <td>NaN</td>\n",
       "      <td>NaN</td>\n",
       "      <td>NaN</td>\n",
       "      <td>0.0</td>\n",
       "    </tr>\n",
       "    <tr>\n",
       "      <th>4</th>\n",
       "      <td>1995-09-22T00:00:00Z</td>\n",
       "      <td>4572.0</td>\n",
       "      <td>NaN</td>\n",
       "      <td>NaN</td>\n",
       "      <td>NaN</td>\n",
       "      <td>NaN</td>\n",
       "      <td>NaN</td>\n",
       "      <td>NaN</td>\n",
       "      <td>0.0</td>\n",
       "    </tr>\n",
       "  </tbody>\n",
       "</table>\n",
       "</div>"
      ],
      "text/plain": [
       "               UTC_time  StageCumulative  TAspirated1  TAspirated2  Tpassive1  \\\n",
       "0  1995-09-21T20:00:00Z              0.0          NaN          NaN        NaN   \n",
       "1  1995-09-21T20:15:00Z              0.0          NaN          NaN        NaN   \n",
       "2  1995-09-21T20:30:00Z              0.0          NaN          NaN        NaN   \n",
       "3  1995-09-21T20:45:00Z              0.0          NaN          NaN        NaN   \n",
       "4  1995-09-22T00:00:00Z           4572.0          NaN          NaN        NaN   \n",
       "\n",
       "   Tpassive2  WindDir  WindGustSpeed  WindSpeed  \n",
       "0        NaN      NaN            NaN        0.0  \n",
       "1        NaN      NaN            NaN        0.0  \n",
       "2        NaN      NaN            NaN        0.0  \n",
       "3        NaN      NaN            NaN        0.0  \n",
       "4        NaN      NaN            NaN        0.0  "
      ]
     },
     "execution_count": 45,
     "metadata": {},
     "output_type": "execute_result"
    }
   ],
   "source": [
    "alldat.head()"
   ]
  },
  {
   "cell_type": "code",
   "execution_count": 46,
   "metadata": {
    "collapsed": true
   },
   "outputs": [],
   "source": [
    "#Convert wind gust speed from mph to m/s!! (this is only @ Wolv 990)\n",
    "if Glacier + Station == 'Wolverine990':\n",
    "    alldat.WindGustSpeed=alldat.WindGustSpeed * 0.44704 #convert from mph to m/s"
   ]
  },
  {
   "cell_type": "code",
   "execution_count": 47,
   "metadata": {
    "collapsed": false
   },
   "outputs": [],
   "source": [
    "alldat['UTC_time']=pd.to_datetime(alldat.UTC_time, format='%Y-%m-%dT%H:%M:%SZ')"
   ]
  },
  {
   "cell_type": "code",
   "execution_count": 48,
   "metadata": {
    "collapsed": true
   },
   "outputs": [],
   "source": [
    "#Set timezone of known UTC column\n",
    "alldat['UTC_time'].timezone='UTC'\n",
    "#Create column for local time\n",
    "timezone='America/Anchorage'\n",
    "local_timezone=pytz.timezone(timezone) #create local timezone object (e.g. AK time)\n",
    "\n",
    "alldat=alldat.set_index('UTC_time')\n",
    "#Create column for local time\n",
    "local_timezone=pytz.timezone(timezone) #create local timezone object (e.g. AK time)\n",
    "\n",
    "#Create local time\n",
    "alldat['local_time'] = alldat.index.tz_localize('UTC').tz_convert(local_timezone)"
   ]
  },
  {
   "cell_type": "code",
   "execution_count": 49,
   "metadata": {
    "collapsed": false
   },
   "outputs": [],
   "source": [
    "#Remove UTC from index\n",
    "alldat=alldat.reset_index()"
   ]
  },
  {
   "cell_type": "code",
   "execution_count": 50,
   "metadata": {
    "collapsed": false
   },
   "outputs": [],
   "source": [
    "alldat['UTC_time']=alldat.UTC_time.dt.strftime('%Y/%m/%d %H:%M') #set as string in desired format\n",
    "alldat['local_time']=alldat.local_time.dt.strftime('%Y/%m/%d %H:%M')\n",
    "alldat.to_csv(\"NWIS_data_\" + Glacier+ Station +\".csv\", index=False, float_format='%g')"
   ]
  },
  {
   "cell_type": "code",
   "execution_count": 33,
   "metadata": {
    "collapsed": false
   },
   "outputs": [],
   "source": []
  },
  {
   "cell_type": "code",
   "execution_count": null,
   "metadata": {
    "collapsed": true
   },
   "outputs": [],
   "source": []
  }
 ],
 "metadata": {
  "kernelspec": {
   "display_name": "Python 3",
   "language": "python",
   "name": "python3"
  },
  "language_info": {
   "codemirror_mode": {
    "name": "ipython",
    "version": 3
   },
   "file_extension": ".py",
   "mimetype": "text/x-python",
   "name": "python",
   "nbconvert_exporter": "python",
   "pygments_lexer": "ipython3",
   "version": "3.6.0"
  }
 },
 "nbformat": 4,
 "nbformat_minor": 2
}
