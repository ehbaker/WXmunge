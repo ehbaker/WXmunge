{
 "cells": [
  {
   "cell_type": "markdown",
   "metadata": {},
   "source": [
    "# Weather Station Data - cleaned final version \n",
    "## Level 1 QC"
   ]
  },
  {
   "cell_type": "code",
   "execution_count": 1,
   "metadata": {
    "collapsed": false
   },
   "outputs": [],
   "source": [
    "#import external libraries\n",
    "import pandas as pd\n",
    "import os\n",
    "pd.options.mode.chained_assignment = None  # default='warn'; chained index warning\n",
    "import numpy as np\n",
    "import imp\n",
    "import datetime\n",
    "import pytz\n",
    "\n",
    "#plotting\n",
    "import matplotlib.pyplot as plt\n",
    "%matplotlib notebook\n",
    "\n",
    "#import self-written libraries\n",
    "import LVL1"
   ]
  },
  {
   "cell_type": "code",
   "execution_count": 2,
   "metadata": {
    "collapsed": true
   },
   "outputs": [],
   "source": [
    "#Do you want to display plots (slow for large datasets)\n",
    "show_plots=False #True= show plots\n",
    "frac=0.1 #fraction of data to show in plots (0.3 = 30%)"
   ]
  },
  {
   "cell_type": "markdown",
   "metadata": {},
   "source": [
    "** Define Location-Specific Baseline Settings **"
   ]
  },
  {
   "cell_type": "code",
   "execution_count": 3,
   "metadata": {
    "collapsed": false
   },
   "outputs": [],
   "source": [
    "#path to level 0 data\n",
    "Glacier=\"Wolverine\" #or \"Gulkana\"\n",
    "Station=\"990\" #or other elevations; this depends on the naming convention of input data\n",
    "file_label='_15min'\n",
    "yr='all' #either \"all\" or the year you want\n",
    "pth=r\"Q:/Project Data/GlacierData/Benchmark_Program/Data/\" +Glacier+ r\"/AllYears/Wx/LVL0/emily/\" + Glacier.lower()+ Station+ file_label+\"_\"+yr+\".csv\"\n",
    "\n",
    "#pth=r\"Q:\\Project Data\\GlacierData\\Benchmark_Program\\Data\\Wolverine\\AllYears\\Wx\\LVL0\\emily\\wolverine990_2017_15minL0.csv\"\n",
    "\n",
    "#time format and column\n",
    "UTC_time_column_name='UTC_time'\n",
    "local_time_column_name='AK_time'\n",
    "date_format='%Y/%m/%d %H:%M'\n",
    "timezone='America/Anchorage' #choose from pytz.all_timezones\n",
    "\n",
    "#directory to save output data\n",
    "save_pth=r\"Q:/Project Data/GlacierData/Benchmark_Program/Data/\" +Glacier+ r\"/AllYears/Wx/LVL1/emily/\" + Glacier.lower()+Station+file_label+yr+\".csv\"\n",
    "\n",
    "#Columns which contain precipitation data\n",
    "precip_columns=['TPGCumulative', 'StageCumulative']"
   ]
  },
  {
   "cell_type": "markdown",
   "metadata": {},
   "source": [
    "### Data import\n",
    "- read in data \n",
    "- set timezone\n",
    "- set time as index"
   ]
  },
  {
   "cell_type": "code",
   "execution_count": 4,
   "metadata": {
    "collapsed": false
   },
   "outputs": [
    {
     "name": "stdout",
     "output_type": "stream",
     "text": [
      "read data from: Q:/Project Data/GlacierData/Benchmark_Program/Data/Wolverine/AllYears/Wx/LVL0/emily/wolverine990_15min_all.csv\n"
     ]
    }
   ],
   "source": [
    "#read in level0 CSV\n",
    "dat=pd.read_csv(pth)\n",
    "print(\"read data from: \"+ pth)\n",
    "\n",
    "#Set local time to dataframe index\n",
    "dat['local_time']=pd.to_datetime(dat[local_time_column_name], format=date_format)\n",
    "dat=dat.set_index('local_time')\n",
    "dat=dat.tz_localize(timezone, ambiguous='infer')"
   ]
  },
  {
   "cell_type": "markdown",
   "metadata": {},
   "source": [
    "Station-specific Data Adjustments"
   ]
  },
  {
   "cell_type": "code",
   "execution_count": 5,
   "metadata": {
    "collapsed": false
   },
   "outputs": [],
   "source": [
    "# Wolverine990 and Gulkana 1480: Prior to April 2014, asp. temperature only aspirated on the hour; other msmts set to NAN\n",
    "if Glacier+Station==\"Wolverine990\":\n",
    "    dat.loc[(dat.index<'2014/04/24 00:00:00') & (dat.index.minute!=0), 'TAspirated1']=np.nan\n",
    "    dat.loc[(dat.index<'2014/04/24 00:00:00') & (dat.index.minute!=0), 'TAspirated2']=np.nan\n",
    "    \n",
    "if Glacier+Station==\"Gulkana1480\":\n",
    "    dat.loc[(dat.index<'2014/04/18 00:00:00') & (dat.index.minute!=0), 'TAspirated1']=np.nan\n",
    "    dat.loc[(dat.index<'2014/04/18 00:00:00') & (dat.index.minute!=0), 'TAspirated2']=np.nan"
   ]
  },
  {
   "cell_type": "code",
   "execution_count": 6,
   "metadata": {
    "collapsed": true
   },
   "outputs": [],
   "source": [
    "#Time subset for trouble-shooting\n",
    "# dat=dat['2016':]\n",
    "# for precip_col in precip_columns:\n",
    "#     dat[precip_col]=dat[precip_col]-dat[precip_col][0]"
   ]
  },
  {
   "cell_type": "markdown",
   "metadata": {
    "collapsed": true
   },
   "source": [
    "** Remove malfunctioning sensors manually **\n",
    "* done separately for each timestep entered on look-up table"
   ]
  },
  {
   "cell_type": "code",
   "execution_count": 7,
   "metadata": {
    "collapsed": false
   },
   "outputs": [
    {
     "name": "stdout",
     "output_type": "stream",
     "text": [
      "Removed:\n"
     ]
    },
    {
     "data": {
      "text/html": [
       "<div>\n",
       "<table border=\"1\" class=\"dataframe\">\n",
       "  <thead>\n",
       "    <tr style=\"text-align: right;\">\n",
       "      <th></th>\n",
       "      <th>Sensor</th>\n",
       "      <th>Start_Date</th>\n",
       "      <th>End_Date</th>\n",
       "      <th>Action</th>\n",
       "      <th>Correct_Label</th>\n",
       "      <th>Location</th>\n",
       "      <th>Comment</th>\n",
       "    </tr>\n",
       "  </thead>\n",
       "  <tbody>\n",
       "    <tr>\n",
       "      <th>0</th>\n",
       "      <td>TAspirated2</td>\n",
       "      <td>2014-04-25 06:45:00</td>\n",
       "      <td>2014-09-04 09:00:00</td>\n",
       "      <td>switch_label</td>\n",
       "      <td>Tpassive2</td>\n",
       "      <td>Wolverine990</td>\n",
       "      <td>mislabeled</td>\n",
       "    </tr>\n",
       "    <tr>\n",
       "      <th>1</th>\n",
       "      <td>Tpassive1</td>\n",
       "      <td>2013-05-07 02:15:00</td>\n",
       "      <td>2013-11-06 08:00:00</td>\n",
       "      <td>bad</td>\n",
       "      <td>NaN</td>\n",
       "      <td>Wolverine990</td>\n",
       "      <td>NaN</td>\n",
       "    </tr>\n",
       "    <tr>\n",
       "      <th>2</th>\n",
       "      <td>Tpassive2</td>\n",
       "      <td>2013-11-06 08:00:00</td>\n",
       "      <td>2014-09-04 09:15:00</td>\n",
       "      <td>bad</td>\n",
       "      <td>NaN</td>\n",
       "      <td>Wolverine990</td>\n",
       "      <td>NaN</td>\n",
       "    </tr>\n",
       "    <tr>\n",
       "      <th>3</th>\n",
       "      <td>Tpassive2</td>\n",
       "      <td>2016-07-12 16:00:00</td>\n",
       "      <td>2016-08-18 03:59:00</td>\n",
       "      <td>bad</td>\n",
       "      <td>NaN</td>\n",
       "      <td>Wolverine990</td>\n",
       "      <td>NaN</td>\n",
       "    </tr>\n",
       "    <tr>\n",
       "      <th>4</th>\n",
       "      <td>TPGCumulative</td>\n",
       "      <td>2010-01-01 00:00:00</td>\n",
       "      <td>2011-10-21 15:00:00</td>\n",
       "      <td>bad</td>\n",
       "      <td>NaN</td>\n",
       "      <td>Wolverine990</td>\n",
       "      <td>slow drain</td>\n",
       "    </tr>\n",
       "    <tr>\n",
       "      <th>5</th>\n",
       "      <td>StageCumulative</td>\n",
       "      <td>2010-09-15 00:00:00</td>\n",
       "      <td>2010-10-03 00:00:00</td>\n",
       "      <td>bad</td>\n",
       "      <td>NaN</td>\n",
       "      <td>Wolverine990</td>\n",
       "      <td>slow drain</td>\n",
       "    </tr>\n",
       "  </tbody>\n",
       "</table>\n",
       "</div>"
      ],
      "text/plain": [
       "            Sensor          Start_Date            End_Date        Action  \\\n",
       "0      TAspirated2 2014-04-25 06:45:00 2014-09-04 09:00:00  switch_label   \n",
       "1        Tpassive1 2013-05-07 02:15:00 2013-11-06 08:00:00           bad   \n",
       "2        Tpassive2 2013-11-06 08:00:00 2014-09-04 09:15:00           bad   \n",
       "3        Tpassive2 2016-07-12 16:00:00 2016-08-18 03:59:00           bad   \n",
       "4    TPGCumulative 2010-01-01 00:00:00 2011-10-21 15:00:00           bad   \n",
       "5  StageCumulative 2010-09-15 00:00:00 2010-10-03 00:00:00           bad   \n",
       "\n",
       "  Correct_Label      Location     Comment  \n",
       "0     Tpassive2  Wolverine990  mislabeled  \n",
       "1           NaN  Wolverine990         NaN  \n",
       "2           NaN  Wolverine990         NaN  \n",
       "3           NaN  Wolverine990         NaN  \n",
       "4           NaN  Wolverine990  slow drain  \n",
       "5           NaN  Wolverine990  slow drain  "
      ]
     },
     "execution_count": 7,
     "metadata": {},
     "output_type": "execute_result"
    }
   ],
   "source": [
    "#read in table listing sensors and timeperiods that need to be modified\n",
    "pth_bad_sensor_dates=r\"Q:\\Project Data\\GlacierData\\Benchmark_Program\\Metadata\\weather\"\n",
    "bad_sensor_dates_dat=pd.read_excel(os.path.join(pth_bad_sensor_dates, Glacier+Station+\"_SensorLog.xlsx\"))\n",
    "\n",
    "#Set bad data to NAN. Move sensor data to correct column, if neccessary.\n",
    "dat=LVL1.remove_malfunctioning_sensor_data(dat, bad_sensor_dates_dat)\n",
    "print(\"Removed:\")\n",
    "bad_sensor_dates_dat"
   ]
  },
  {
   "cell_type": "markdown",
   "metadata": {},
   "source": [
    "** Set hard-coded cutoff values** (station specific)"
   ]
  },
  {
   "cell_type": "code",
   "execution_count": 8,
   "metadata": {
    "collapsed": false
   },
   "outputs": [],
   "source": [
    "if Glacier+Station==\"Wolverine990\":\n",
    "    low_temp_cutoff=-40.0 #deg. C\n",
    "    high_temp_cutoff=30.0\n",
    "\n",
    "    precip_high_cutoff=0.015 *1000.#meters\n",
    "    precip_drain_cutoff=-0.015 *1000.\n",
    "    obvious_error_precip_cutoff=0.20 *1000. #if 20 cm in 15 minutes, obviously an error. (7/2016 has a drain of only 24 cm)\n",
    "    \n",
    "    noise_limit=0.0025 *1000.\n",
    "    \n",
    "    Stage_dies='2015/09/01 06:30:00' #time at which instrument was removed\n",
    "    TPG_born='2012/10/02 00:00:00' #time at which instrument was removed\n",
    "    \n",
    "if Glacier + Station== \"Gulkana1480\":\n",
    "    low_temp_cutoff=-40\n",
    "    high_temp_cutoff=30\n",
    "\n",
    "    precip_high_cutoff=0.015 *1000#in meters\n",
    "    precip_drain_cutoff=-0.015 *1000\n",
    "    obvious_error_precip_cutoff=0.15 *1000#if 15 cm in 15 minutes, obviously an error.\n",
    "    noise_limit=0.0025 *1000\n",
    "    \n",
    "    Stage_dies='2015/09/25 11:30:00' #time at which instrument was removed\n",
    "    TPG_born='2011/07/15 18:30:00' #time at which instrument was removed"
   ]
  },
  {
   "cell_type": "code",
   "execution_count": 9,
   "metadata": {
    "collapsed": true
   },
   "outputs": [],
   "source": [
    "#Convert units in precipitation columns from meters to mm\n",
    "# Neccessary to do early, due to floating-point number limitations\n",
    "for precip_col in precip_columns:\n",
    "    dat.loc[:,precip_col]=dat[precip_col]*1000"
   ]
  },
  {
   "cell_type": "code",
   "execution_count": 10,
   "metadata": {
    "collapsed": false
   },
   "outputs": [],
   "source": [
    "#Set gages to NAN, when not installed (single gauge style does not cover period of record)\n",
    "for precip_col in precip_columns:\n",
    "    if 'TPG' in precip_col.upper(): #this is the current precip gage\n",
    "        dat.loc[:TPG_born, precip_col]=np.nan\n",
    "        dat.loc[TPG_born:, precip_col]=dat[precip_col].interpolate(method='linear', limit=96) #fill short gaps in record, < 1day\n",
    "    if 'stage' in precip_col.lower(): #this is old precip gage\n",
    "        dat.loc[Stage_dies:, precip_col]=np.nan\n",
    "        dat.loc[:Stage_dies, precip_col]=dat[precip_col].interpolate(method='linear', limit=96) #fill short gaps in record, <1 day"
   ]
  },
  {
   "cell_type": "code",
   "execution_count": 11,
   "metadata": {
    "collapsed": false
   },
   "outputs": [],
   "source": [
    "#Save unaltered data for later comparrison with edits\n",
    "dat_original=dat.copy()"
   ]
  },
  {
   "cell_type": "markdown",
   "metadata": {},
   "source": [
    "** Clean Temperature Data**"
   ]
  },
  {
   "cell_type": "code",
   "execution_count": 12,
   "metadata": {
    "collapsed": false
   },
   "outputs": [],
   "source": [
    "#Temperature\n",
    "temp_columns=['Tpassive1', 'Tpassive2', 'TAspirated1', 'TAspirated2']\n",
    "for temp_col in temp_columns:\n",
    "    temps=dat.loc[:,temp_col]\n",
    "    dat.loc[:,temp_col]=LVL1.remove_error_temperature_values(temps, low_temp_cutoff, high_temp_cutoff)"
   ]
  },
  {
   "cell_type": "markdown",
   "metadata": {},
   "source": [
    "#### Plot temperature data, before and after"
   ]
  },
  {
   "cell_type": "code",
   "execution_count": 13,
   "metadata": {
    "collapsed": false
   },
   "outputs": [],
   "source": [
    "if show_plots:\n",
    "    %matplotlib notebook\n",
    "    LVL1.plot_comparrison(df_old=dat_original.sample(frac=0.2), df_new=dat.sample(frac=0.2), data_col_name='TAspirated1')"
   ]
  },
  {
   "cell_type": "markdown",
   "metadata": {},
   "source": [
    "#### Clean Wind Direction Data"
   ]
  },
  {
   "cell_type": "code",
   "execution_count": 14,
   "metadata": {
    "collapsed": false
   },
   "outputs": [],
   "source": [
    "wind_dir_columns=['WindDir', 'VecAvgWindDir']\n",
    "for col in wind_dir_columns:\n",
    "    dat.loc[dat[col]>360, col]=np.nan #Nonsensical; at wolverine990, this is only 3 days; results from mis-pogramming of logger"
   ]
  },
  {
   "cell_type": "markdown",
   "metadata": {},
   "source": [
    "** Plot original precipitation data**"
   ]
  },
  {
   "cell_type": "code",
   "execution_count": 15,
   "metadata": {
    "collapsed": false
   },
   "outputs": [],
   "source": [
    "#Precip\n",
    "if show_plots:\n",
    "    dat_original=dat_original[precip_columns] #subset to only precip columns\n",
    "    dat_original.sample(frac=frac).plot()"
   ]
  },
  {
   "cell_type": "markdown",
   "metadata": {},
   "source": [
    "** Remove Gauge Drain and Fill Maintenance **"
   ]
  },
  {
   "cell_type": "code",
   "execution_count": 16,
   "metadata": {
    "collapsed": false
   },
   "outputs": [
    {
     "name": "stdout",
     "output_type": "stream",
     "text": [
      "TPGCumulative\n",
      "Gage Drain/ Fill Event on 2013-08-28\n",
      "Gage Drain/ Fill Event on 2013-11-06\n",
      "Gage Drain/ Fill Event on 2014-06-28\n",
      "Gage Drain/ Fill Event on 2014-06-28\n",
      "Gage Drain/ Fill Event on 2014-09-04\n",
      "Gage Drain/ Fill Event on 2015-03-16\n",
      "Gage Drain/ Fill Event on 2015-03-16\n",
      "Gage Drain/ Fill Event on 2015-03-16\n",
      "Gage Drain/ Fill Event on 2015-03-17\n",
      "Gage Drain/ Fill Event on 2015-03-17\n",
      "Gage Drain/ Fill Event on 2015-03-17\n",
      "Gage Drain/ Fill Event on 2015-03-17\n",
      "Gage Drain/ Fill Event on 2015-03-18\n",
      "Gage Drain/ Fill Event on 2015-03-18\n",
      "Gage Drain/ Fill Event on 2015-09-01\n",
      "Gage Drain/ Fill Event on 2016-02-18\n",
      "Gage Drain/ Fill Event on 2016-05-10\n",
      "Gage Drain/ Fill Event on 2016-07-13\n",
      "Gage Drain/ Fill Event on 2016-07-13\n",
      "Gage Drain/ Fill Event on 2016-09-09\n",
      "Gage Drain/ Fill Event on 2016-12-21\n",
      "Gage Drain/ Fill Event on 2017-04-28\n",
      "Gage Drain/ Fill Event on 2017-04-28\n",
      "STOP! Series contains NANs, which will result in unintended jumps in cumulative timeseries!\n",
      "StageCumulative\n",
      "Gage Drain/ Fill Event on 2010-05-13\n",
      "Gage Drain/ Fill Event on 2010-05-14\n",
      "Gage Drain/ Fill Event on 2010-05-25\n",
      "Gage Drain/ Fill Event on 2010-06-04\n",
      "Gage Drain/ Fill Event on 2010-06-10\n",
      "Gage Drain/ Fill Event on 2010-06-14\n",
      "Gage Drain/ Fill Event on 2010-07-02\n",
      "Gage Drain/ Fill Event on 2010-07-02\n",
      "Gage Drain/ Fill Event on 2010-07-03\n",
      "Gage Drain/ Fill Event on 2010-07-03\n",
      "Gage Drain/ Fill Event on 2010-07-04\n",
      "Gage Drain/ Fill Event on 2010-07-04\n",
      "Gage Drain/ Fill Event on 2010-07-05\n",
      "Gage Drain/ Fill Event on 2010-07-05\n",
      "Gage Drain/ Fill Event on 2010-07-06\n",
      "Gage Drain/ Fill Event on 2010-07-06\n",
      "Gage Drain/ Fill Event on 2010-07-07\n",
      "Gage Drain/ Fill Event on 2010-07-07\n",
      "Gage Drain/ Fill Event on 2010-07-16\n",
      "Gage Drain/ Fill Event on 2010-09-14\n",
      "Gage Drain/ Fill Event on 2010-12-31\n",
      "Gage Drain/ Fill Event on 2011-04-28\n",
      "Gage Drain/ Fill Event on 2011-06-06\n",
      "Gage Drain/ Fill Event on 2011-09-22\n",
      "Gage Drain/ Fill Event on 2012-09-15\n",
      "Gage Drain/ Fill Event on 2012-09-17\n",
      "Gage Drain/ Fill Event on 2012-09-17\n",
      "Gage Drain/ Fill Event on 2013-08-28\n",
      "STOP! Series contains NANs, which will result in unintended jumps in cumulative timeseries!\n"
     ]
    }
   ],
   "source": [
    "#Remove unrealistically large instantaneous jumps; create continuous timreseries\n",
    "for precip_col in precip_columns:\n",
    "    print(precip_col)\n",
    "    dat.loc[:,precip_col]=LVL1.precip_remove_drain_and_fill(dat_original[precip_col], obvious_error_precip_cutoff=obvious_error_precip_cutoff, n_cut=4)\n",
    "dat_step0=dat[precip_columns].copy() #save for plotting"
   ]
  },
  {
   "cell_type": "code",
   "execution_count": 34,
   "metadata": {
    "collapsed": false
   },
   "outputs": [
    {
     "data": {
      "application/javascript": [
       "/* Put everything inside the global mpl namespace */\n",
       "window.mpl = {};\n",
       "\n",
       "\n",
       "mpl.get_websocket_type = function() {\n",
       "    if (typeof(WebSocket) !== 'undefined') {\n",
       "        return WebSocket;\n",
       "    } else if (typeof(MozWebSocket) !== 'undefined') {\n",
       "        return MozWebSocket;\n",
       "    } else {\n",
       "        alert('Your browser does not have WebSocket support.' +\n",
       "              'Please try Chrome, Safari or Firefox ≥ 6. ' +\n",
       "              'Firefox 4 and 5 are also supported but you ' +\n",
       "              'have to enable WebSockets in about:config.');\n",
       "    };\n",
       "}\n",
       "\n",
       "mpl.figure = function(figure_id, websocket, ondownload, parent_element) {\n",
       "    this.id = figure_id;\n",
       "\n",
       "    this.ws = websocket;\n",
       "\n",
       "    this.supports_binary = (this.ws.binaryType != undefined);\n",
       "\n",
       "    if (!this.supports_binary) {\n",
       "        var warnings = document.getElementById(\"mpl-warnings\");\n",
       "        if (warnings) {\n",
       "            warnings.style.display = 'block';\n",
       "            warnings.textContent = (\n",
       "                \"This browser does not support binary websocket messages. \" +\n",
       "                    \"Performance may be slow.\");\n",
       "        }\n",
       "    }\n",
       "\n",
       "    this.imageObj = new Image();\n",
       "\n",
       "    this.context = undefined;\n",
       "    this.message = undefined;\n",
       "    this.canvas = undefined;\n",
       "    this.rubberband_canvas = undefined;\n",
       "    this.rubberband_context = undefined;\n",
       "    this.format_dropdown = undefined;\n",
       "\n",
       "    this.image_mode = 'full';\n",
       "\n",
       "    this.root = $('<div/>');\n",
       "    this._root_extra_style(this.root)\n",
       "    this.root.attr('style', 'display: inline-block');\n",
       "\n",
       "    $(parent_element).append(this.root);\n",
       "\n",
       "    this._init_header(this);\n",
       "    this._init_canvas(this);\n",
       "    this._init_toolbar(this);\n",
       "\n",
       "    var fig = this;\n",
       "\n",
       "    this.waiting = false;\n",
       "\n",
       "    this.ws.onopen =  function () {\n",
       "            fig.send_message(\"supports_binary\", {value: fig.supports_binary});\n",
       "            fig.send_message(\"send_image_mode\", {});\n",
       "            if (mpl.ratio != 1) {\n",
       "                fig.send_message(\"set_dpi_ratio\", {'dpi_ratio': mpl.ratio});\n",
       "            }\n",
       "            fig.send_message(\"refresh\", {});\n",
       "        }\n",
       "\n",
       "    this.imageObj.onload = function() {\n",
       "            if (fig.image_mode == 'full') {\n",
       "                // Full images could contain transparency (where diff images\n",
       "                // almost always do), so we need to clear the canvas so that\n",
       "                // there is no ghosting.\n",
       "                fig.context.clearRect(0, 0, fig.canvas.width, fig.canvas.height);\n",
       "            }\n",
       "            fig.context.drawImage(fig.imageObj, 0, 0);\n",
       "        };\n",
       "\n",
       "    this.imageObj.onunload = function() {\n",
       "        this.ws.close();\n",
       "    }\n",
       "\n",
       "    this.ws.onmessage = this._make_on_message_function(this);\n",
       "\n",
       "    this.ondownload = ondownload;\n",
       "}\n",
       "\n",
       "mpl.figure.prototype._init_header = function() {\n",
       "    var titlebar = $(\n",
       "        '<div class=\"ui-dialog-titlebar ui-widget-header ui-corner-all ' +\n",
       "        'ui-helper-clearfix\"/>');\n",
       "    var titletext = $(\n",
       "        '<div class=\"ui-dialog-title\" style=\"width: 100%; ' +\n",
       "        'text-align: center; padding: 3px;\"/>');\n",
       "    titlebar.append(titletext)\n",
       "    this.root.append(titlebar);\n",
       "    this.header = titletext[0];\n",
       "}\n",
       "\n",
       "\n",
       "\n",
       "mpl.figure.prototype._canvas_extra_style = function(canvas_div) {\n",
       "\n",
       "}\n",
       "\n",
       "\n",
       "mpl.figure.prototype._root_extra_style = function(canvas_div) {\n",
       "\n",
       "}\n",
       "\n",
       "mpl.figure.prototype._init_canvas = function() {\n",
       "    var fig = this;\n",
       "\n",
       "    var canvas_div = $('<div/>');\n",
       "\n",
       "    canvas_div.attr('style', 'position: relative; clear: both; outline: 0');\n",
       "\n",
       "    function canvas_keyboard_event(event) {\n",
       "        return fig.key_event(event, event['data']);\n",
       "    }\n",
       "\n",
       "    canvas_div.keydown('key_press', canvas_keyboard_event);\n",
       "    canvas_div.keyup('key_release', canvas_keyboard_event);\n",
       "    this.canvas_div = canvas_div\n",
       "    this._canvas_extra_style(canvas_div)\n",
       "    this.root.append(canvas_div);\n",
       "\n",
       "    var canvas = $('<canvas/>');\n",
       "    canvas.addClass('mpl-canvas');\n",
       "    canvas.attr('style', \"left: 0; top: 0; z-index: 0; outline: 0\")\n",
       "\n",
       "    this.canvas = canvas[0];\n",
       "    this.context = canvas[0].getContext(\"2d\");\n",
       "\n",
       "    var backingStore = this.context.backingStorePixelRatio ||\n",
       "\tthis.context.webkitBackingStorePixelRatio ||\n",
       "\tthis.context.mozBackingStorePixelRatio ||\n",
       "\tthis.context.msBackingStorePixelRatio ||\n",
       "\tthis.context.oBackingStorePixelRatio ||\n",
       "\tthis.context.backingStorePixelRatio || 1;\n",
       "\n",
       "    mpl.ratio = (window.devicePixelRatio || 1) / backingStore;\n",
       "\n",
       "    var rubberband = $('<canvas/>');\n",
       "    rubberband.attr('style', \"position: absolute; left: 0; top: 0; z-index: 1;\")\n",
       "\n",
       "    var pass_mouse_events = true;\n",
       "\n",
       "    canvas_div.resizable({\n",
       "        start: function(event, ui) {\n",
       "            pass_mouse_events = false;\n",
       "        },\n",
       "        resize: function(event, ui) {\n",
       "            fig.request_resize(ui.size.width, ui.size.height);\n",
       "        },\n",
       "        stop: function(event, ui) {\n",
       "            pass_mouse_events = true;\n",
       "            fig.request_resize(ui.size.width, ui.size.height);\n",
       "        },\n",
       "    });\n",
       "\n",
       "    function mouse_event_fn(event) {\n",
       "        if (pass_mouse_events)\n",
       "            return fig.mouse_event(event, event['data']);\n",
       "    }\n",
       "\n",
       "    rubberband.mousedown('button_press', mouse_event_fn);\n",
       "    rubberband.mouseup('button_release', mouse_event_fn);\n",
       "    // Throttle sequential mouse events to 1 every 20ms.\n",
       "    rubberband.mousemove('motion_notify', mouse_event_fn);\n",
       "\n",
       "    rubberband.mouseenter('figure_enter', mouse_event_fn);\n",
       "    rubberband.mouseleave('figure_leave', mouse_event_fn);\n",
       "\n",
       "    canvas_div.on(\"wheel\", function (event) {\n",
       "        event = event.originalEvent;\n",
       "        event['data'] = 'scroll'\n",
       "        if (event.deltaY < 0) {\n",
       "            event.step = 1;\n",
       "        } else {\n",
       "            event.step = -1;\n",
       "        }\n",
       "        mouse_event_fn(event);\n",
       "    });\n",
       "\n",
       "    canvas_div.append(canvas);\n",
       "    canvas_div.append(rubberband);\n",
       "\n",
       "    this.rubberband = rubberband;\n",
       "    this.rubberband_canvas = rubberband[0];\n",
       "    this.rubberband_context = rubberband[0].getContext(\"2d\");\n",
       "    this.rubberband_context.strokeStyle = \"#000000\";\n",
       "\n",
       "    this._resize_canvas = function(width, height) {\n",
       "        // Keep the size of the canvas, canvas container, and rubber band\n",
       "        // canvas in synch.\n",
       "        canvas_div.css('width', width)\n",
       "        canvas_div.css('height', height)\n",
       "\n",
       "        canvas.attr('width', width * mpl.ratio);\n",
       "        canvas.attr('height', height * mpl.ratio);\n",
       "        canvas.attr('style', 'width: ' + width + 'px; height: ' + height + 'px;');\n",
       "\n",
       "        rubberband.attr('width', width);\n",
       "        rubberband.attr('height', height);\n",
       "    }\n",
       "\n",
       "    // Set the figure to an initial 600x600px, this will subsequently be updated\n",
       "    // upon first draw.\n",
       "    this._resize_canvas(600, 600);\n",
       "\n",
       "    // Disable right mouse context menu.\n",
       "    $(this.rubberband_canvas).bind(\"contextmenu\",function(e){\n",
       "        return false;\n",
       "    });\n",
       "\n",
       "    function set_focus () {\n",
       "        canvas.focus();\n",
       "        canvas_div.focus();\n",
       "    }\n",
       "\n",
       "    window.setTimeout(set_focus, 100);\n",
       "}\n",
       "\n",
       "mpl.figure.prototype._init_toolbar = function() {\n",
       "    var fig = this;\n",
       "\n",
       "    var nav_element = $('<div/>')\n",
       "    nav_element.attr('style', 'width: 100%');\n",
       "    this.root.append(nav_element);\n",
       "\n",
       "    // Define a callback function for later on.\n",
       "    function toolbar_event(event) {\n",
       "        return fig.toolbar_button_onclick(event['data']);\n",
       "    }\n",
       "    function toolbar_mouse_event(event) {\n",
       "        return fig.toolbar_button_onmouseover(event['data']);\n",
       "    }\n",
       "\n",
       "    for(var toolbar_ind in mpl.toolbar_items) {\n",
       "        var name = mpl.toolbar_items[toolbar_ind][0];\n",
       "        var tooltip = mpl.toolbar_items[toolbar_ind][1];\n",
       "        var image = mpl.toolbar_items[toolbar_ind][2];\n",
       "        var method_name = mpl.toolbar_items[toolbar_ind][3];\n",
       "\n",
       "        if (!name) {\n",
       "            // put a spacer in here.\n",
       "            continue;\n",
       "        }\n",
       "        var button = $('<button/>');\n",
       "        button.addClass('ui-button ui-widget ui-state-default ui-corner-all ' +\n",
       "                        'ui-button-icon-only');\n",
       "        button.attr('role', 'button');\n",
       "        button.attr('aria-disabled', 'false');\n",
       "        button.click(method_name, toolbar_event);\n",
       "        button.mouseover(tooltip, toolbar_mouse_event);\n",
       "\n",
       "        var icon_img = $('<span/>');\n",
       "        icon_img.addClass('ui-button-icon-primary ui-icon');\n",
       "        icon_img.addClass(image);\n",
       "        icon_img.addClass('ui-corner-all');\n",
       "\n",
       "        var tooltip_span = $('<span/>');\n",
       "        tooltip_span.addClass('ui-button-text');\n",
       "        tooltip_span.html(tooltip);\n",
       "\n",
       "        button.append(icon_img);\n",
       "        button.append(tooltip_span);\n",
       "\n",
       "        nav_element.append(button);\n",
       "    }\n",
       "\n",
       "    var fmt_picker_span = $('<span/>');\n",
       "\n",
       "    var fmt_picker = $('<select/>');\n",
       "    fmt_picker.addClass('mpl-toolbar-option ui-widget ui-widget-content');\n",
       "    fmt_picker_span.append(fmt_picker);\n",
       "    nav_element.append(fmt_picker_span);\n",
       "    this.format_dropdown = fmt_picker[0];\n",
       "\n",
       "    for (var ind in mpl.extensions) {\n",
       "        var fmt = mpl.extensions[ind];\n",
       "        var option = $(\n",
       "            '<option/>', {selected: fmt === mpl.default_extension}).html(fmt);\n",
       "        fmt_picker.append(option)\n",
       "    }\n",
       "\n",
       "    // Add hover states to the ui-buttons\n",
       "    $( \".ui-button\" ).hover(\n",
       "        function() { $(this).addClass(\"ui-state-hover\");},\n",
       "        function() { $(this).removeClass(\"ui-state-hover\");}\n",
       "    );\n",
       "\n",
       "    var status_bar = $('<span class=\"mpl-message\"/>');\n",
       "    nav_element.append(status_bar);\n",
       "    this.message = status_bar[0];\n",
       "}\n",
       "\n",
       "mpl.figure.prototype.request_resize = function(x_pixels, y_pixels) {\n",
       "    // Request matplotlib to resize the figure. Matplotlib will then trigger a resize in the client,\n",
       "    // which will in turn request a refresh of the image.\n",
       "    this.send_message('resize', {'width': x_pixels, 'height': y_pixels});\n",
       "}\n",
       "\n",
       "mpl.figure.prototype.send_message = function(type, properties) {\n",
       "    properties['type'] = type;\n",
       "    properties['figure_id'] = this.id;\n",
       "    this.ws.send(JSON.stringify(properties));\n",
       "}\n",
       "\n",
       "mpl.figure.prototype.send_draw_message = function() {\n",
       "    if (!this.waiting) {\n",
       "        this.waiting = true;\n",
       "        this.ws.send(JSON.stringify({type: \"draw\", figure_id: this.id}));\n",
       "    }\n",
       "}\n",
       "\n",
       "\n",
       "mpl.figure.prototype.handle_save = function(fig, msg) {\n",
       "    var format_dropdown = fig.format_dropdown;\n",
       "    var format = format_dropdown.options[format_dropdown.selectedIndex].value;\n",
       "    fig.ondownload(fig, format);\n",
       "}\n",
       "\n",
       "\n",
       "mpl.figure.prototype.handle_resize = function(fig, msg) {\n",
       "    var size = msg['size'];\n",
       "    if (size[0] != fig.canvas.width || size[1] != fig.canvas.height) {\n",
       "        fig._resize_canvas(size[0], size[1]);\n",
       "        fig.send_message(\"refresh\", {});\n",
       "    };\n",
       "}\n",
       "\n",
       "mpl.figure.prototype.handle_rubberband = function(fig, msg) {\n",
       "    var x0 = msg['x0'] / mpl.ratio;\n",
       "    var y0 = (fig.canvas.height - msg['y0']) / mpl.ratio;\n",
       "    var x1 = msg['x1'] / mpl.ratio;\n",
       "    var y1 = (fig.canvas.height - msg['y1']) / mpl.ratio;\n",
       "    x0 = Math.floor(x0) + 0.5;\n",
       "    y0 = Math.floor(y0) + 0.5;\n",
       "    x1 = Math.floor(x1) + 0.5;\n",
       "    y1 = Math.floor(y1) + 0.5;\n",
       "    var min_x = Math.min(x0, x1);\n",
       "    var min_y = Math.min(y0, y1);\n",
       "    var width = Math.abs(x1 - x0);\n",
       "    var height = Math.abs(y1 - y0);\n",
       "\n",
       "    fig.rubberband_context.clearRect(\n",
       "        0, 0, fig.canvas.width, fig.canvas.height);\n",
       "\n",
       "    fig.rubberband_context.strokeRect(min_x, min_y, width, height);\n",
       "}\n",
       "\n",
       "mpl.figure.prototype.handle_figure_label = function(fig, msg) {\n",
       "    // Updates the figure title.\n",
       "    fig.header.textContent = msg['label'];\n",
       "}\n",
       "\n",
       "mpl.figure.prototype.handle_cursor = function(fig, msg) {\n",
       "    var cursor = msg['cursor'];\n",
       "    switch(cursor)\n",
       "    {\n",
       "    case 0:\n",
       "        cursor = 'pointer';\n",
       "        break;\n",
       "    case 1:\n",
       "        cursor = 'default';\n",
       "        break;\n",
       "    case 2:\n",
       "        cursor = 'crosshair';\n",
       "        break;\n",
       "    case 3:\n",
       "        cursor = 'move';\n",
       "        break;\n",
       "    }\n",
       "    fig.rubberband_canvas.style.cursor = cursor;\n",
       "}\n",
       "\n",
       "mpl.figure.prototype.handle_message = function(fig, msg) {\n",
       "    fig.message.textContent = msg['message'];\n",
       "}\n",
       "\n",
       "mpl.figure.prototype.handle_draw = function(fig, msg) {\n",
       "    // Request the server to send over a new figure.\n",
       "    fig.send_draw_message();\n",
       "}\n",
       "\n",
       "mpl.figure.prototype.handle_image_mode = function(fig, msg) {\n",
       "    fig.image_mode = msg['mode'];\n",
       "}\n",
       "\n",
       "mpl.figure.prototype.updated_canvas_event = function() {\n",
       "    // Called whenever the canvas gets updated.\n",
       "    this.send_message(\"ack\", {});\n",
       "}\n",
       "\n",
       "// A function to construct a web socket function for onmessage handling.\n",
       "// Called in the figure constructor.\n",
       "mpl.figure.prototype._make_on_message_function = function(fig) {\n",
       "    return function socket_on_message(evt) {\n",
       "        if (evt.data instanceof Blob) {\n",
       "            /* FIXME: We get \"Resource interpreted as Image but\n",
       "             * transferred with MIME type text/plain:\" errors on\n",
       "             * Chrome.  But how to set the MIME type?  It doesn't seem\n",
       "             * to be part of the websocket stream */\n",
       "            evt.data.type = \"image/png\";\n",
       "\n",
       "            /* Free the memory for the previous frames */\n",
       "            if (fig.imageObj.src) {\n",
       "                (window.URL || window.webkitURL).revokeObjectURL(\n",
       "                    fig.imageObj.src);\n",
       "            }\n",
       "\n",
       "            fig.imageObj.src = (window.URL || window.webkitURL).createObjectURL(\n",
       "                evt.data);\n",
       "            fig.updated_canvas_event();\n",
       "            fig.waiting = false;\n",
       "            return;\n",
       "        }\n",
       "        else if (typeof evt.data === 'string' && evt.data.slice(0, 21) == \"data:image/png;base64\") {\n",
       "            fig.imageObj.src = evt.data;\n",
       "            fig.updated_canvas_event();\n",
       "            fig.waiting = false;\n",
       "            return;\n",
       "        }\n",
       "\n",
       "        var msg = JSON.parse(evt.data);\n",
       "        var msg_type = msg['type'];\n",
       "\n",
       "        // Call the  \"handle_{type}\" callback, which takes\n",
       "        // the figure and JSON message as its only arguments.\n",
       "        try {\n",
       "            var callback = fig[\"handle_\" + msg_type];\n",
       "        } catch (e) {\n",
       "            console.log(\"No handler for the '\" + msg_type + \"' message type: \", msg);\n",
       "            return;\n",
       "        }\n",
       "\n",
       "        if (callback) {\n",
       "            try {\n",
       "                // console.log(\"Handling '\" + msg_type + \"' message: \", msg);\n",
       "                callback(fig, msg);\n",
       "            } catch (e) {\n",
       "                console.log(\"Exception inside the 'handler_\" + msg_type + \"' callback:\", e, e.stack, msg);\n",
       "            }\n",
       "        }\n",
       "    };\n",
       "}\n",
       "\n",
       "// from http://stackoverflow.com/questions/1114465/getting-mouse-location-in-canvas\n",
       "mpl.findpos = function(e) {\n",
       "    //this section is from http://www.quirksmode.org/js/events_properties.html\n",
       "    var targ;\n",
       "    if (!e)\n",
       "        e = window.event;\n",
       "    if (e.target)\n",
       "        targ = e.target;\n",
       "    else if (e.srcElement)\n",
       "        targ = e.srcElement;\n",
       "    if (targ.nodeType == 3) // defeat Safari bug\n",
       "        targ = targ.parentNode;\n",
       "\n",
       "    // jQuery normalizes the pageX and pageY\n",
       "    // pageX,Y are the mouse positions relative to the document\n",
       "    // offset() returns the position of the element relative to the document\n",
       "    var x = e.pageX - $(targ).offset().left;\n",
       "    var y = e.pageY - $(targ).offset().top;\n",
       "\n",
       "    return {\"x\": x, \"y\": y};\n",
       "};\n",
       "\n",
       "/*\n",
       " * return a copy of an object with only non-object keys\n",
       " * we need this to avoid circular references\n",
       " * http://stackoverflow.com/a/24161582/3208463\n",
       " */\n",
       "function simpleKeys (original) {\n",
       "  return Object.keys(original).reduce(function (obj, key) {\n",
       "    if (typeof original[key] !== 'object')\n",
       "        obj[key] = original[key]\n",
       "    return obj;\n",
       "  }, {});\n",
       "}\n",
       "\n",
       "mpl.figure.prototype.mouse_event = function(event, name) {\n",
       "    var canvas_pos = mpl.findpos(event)\n",
       "\n",
       "    if (name === 'button_press')\n",
       "    {\n",
       "        this.canvas.focus();\n",
       "        this.canvas_div.focus();\n",
       "    }\n",
       "\n",
       "    var x = canvas_pos.x * mpl.ratio;\n",
       "    var y = canvas_pos.y * mpl.ratio;\n",
       "\n",
       "    this.send_message(name, {x: x, y: y, button: event.button,\n",
       "                             step: event.step,\n",
       "                             guiEvent: simpleKeys(event)});\n",
       "\n",
       "    /* This prevents the web browser from automatically changing to\n",
       "     * the text insertion cursor when the button is pressed.  We want\n",
       "     * to control all of the cursor setting manually through the\n",
       "     * 'cursor' event from matplotlib */\n",
       "    event.preventDefault();\n",
       "    return false;\n",
       "}\n",
       "\n",
       "mpl.figure.prototype._key_event_extra = function(event, name) {\n",
       "    // Handle any extra behaviour associated with a key event\n",
       "}\n",
       "\n",
       "mpl.figure.prototype.key_event = function(event, name) {\n",
       "\n",
       "    // Prevent repeat events\n",
       "    if (name == 'key_press')\n",
       "    {\n",
       "        if (event.which === this._key)\n",
       "            return;\n",
       "        else\n",
       "            this._key = event.which;\n",
       "    }\n",
       "    if (name == 'key_release')\n",
       "        this._key = null;\n",
       "\n",
       "    var value = '';\n",
       "    if (event.ctrlKey && event.which != 17)\n",
       "        value += \"ctrl+\";\n",
       "    if (event.altKey && event.which != 18)\n",
       "        value += \"alt+\";\n",
       "    if (event.shiftKey && event.which != 16)\n",
       "        value += \"shift+\";\n",
       "\n",
       "    value += 'k';\n",
       "    value += event.which.toString();\n",
       "\n",
       "    this._key_event_extra(event, name);\n",
       "\n",
       "    this.send_message(name, {key: value,\n",
       "                             guiEvent: simpleKeys(event)});\n",
       "    return false;\n",
       "}\n",
       "\n",
       "mpl.figure.prototype.toolbar_button_onclick = function(name) {\n",
       "    if (name == 'download') {\n",
       "        this.handle_save(this, null);\n",
       "    } else {\n",
       "        this.send_message(\"toolbar_button\", {name: name});\n",
       "    }\n",
       "};\n",
       "\n",
       "mpl.figure.prototype.toolbar_button_onmouseover = function(tooltip) {\n",
       "    this.message.textContent = tooltip;\n",
       "};\n",
       "mpl.toolbar_items = [[\"Home\", \"Reset original view\", \"fa fa-home icon-home\", \"home\"], [\"Back\", \"Back to  previous view\", \"fa fa-arrow-left icon-arrow-left\", \"back\"], [\"Forward\", \"Forward to next view\", \"fa fa-arrow-right icon-arrow-right\", \"forward\"], [\"\", \"\", \"\", \"\"], [\"Pan\", \"Pan axes with left mouse, zoom with right\", \"fa fa-arrows icon-move\", \"pan\"], [\"Zoom\", \"Zoom to rectangle\", \"fa fa-square-o icon-check-empty\", \"zoom\"], [\"\", \"\", \"\", \"\"], [\"Download\", \"Download plot\", \"fa fa-floppy-o icon-save\", \"download\"]];\n",
       "\n",
       "mpl.extensions = [\"eps\", \"jpeg\", \"pdf\", \"png\", \"ps\", \"raw\", \"svg\", \"tif\"];\n",
       "\n",
       "mpl.default_extension = \"png\";var comm_websocket_adapter = function(comm) {\n",
       "    // Create a \"websocket\"-like object which calls the given IPython comm\n",
       "    // object with the appropriate methods. Currently this is a non binary\n",
       "    // socket, so there is still some room for performance tuning.\n",
       "    var ws = {};\n",
       "\n",
       "    ws.close = function() {\n",
       "        comm.close()\n",
       "    };\n",
       "    ws.send = function(m) {\n",
       "        //console.log('sending', m);\n",
       "        comm.send(m);\n",
       "    };\n",
       "    // Register the callback with on_msg.\n",
       "    comm.on_msg(function(msg) {\n",
       "        //console.log('receiving', msg['content']['data'], msg);\n",
       "        // Pass the mpl event to the overriden (by mpl) onmessage function.\n",
       "        ws.onmessage(msg['content']['data'])\n",
       "    });\n",
       "    return ws;\n",
       "}\n",
       "\n",
       "mpl.mpl_figure_comm = function(comm, msg) {\n",
       "    // This is the function which gets called when the mpl process\n",
       "    // starts-up an IPython Comm through the \"matplotlib\" channel.\n",
       "\n",
       "    var id = msg.content.data.id;\n",
       "    // Get hold of the div created by the display call when the Comm\n",
       "    // socket was opened in Python.\n",
       "    var element = $(\"#\" + id);\n",
       "    var ws_proxy = comm_websocket_adapter(comm)\n",
       "\n",
       "    function ondownload(figure, format) {\n",
       "        window.open(figure.imageObj.src);\n",
       "    }\n",
       "\n",
       "    var fig = new mpl.figure(id, ws_proxy,\n",
       "                           ondownload,\n",
       "                           element.get(0));\n",
       "\n",
       "    // Call onopen now - mpl needs it, as it is assuming we've passed it a real\n",
       "    // web socket which is closed, not our websocket->open comm proxy.\n",
       "    ws_proxy.onopen();\n",
       "\n",
       "    fig.parent_element = element.get(0);\n",
       "    fig.cell_info = mpl.find_output_cell(\"<div id='\" + id + \"'></div>\");\n",
       "    if (!fig.cell_info) {\n",
       "        console.error(\"Failed to find cell for figure\", id, fig);\n",
       "        return;\n",
       "    }\n",
       "\n",
       "    var output_index = fig.cell_info[2]\n",
       "    var cell = fig.cell_info[0];\n",
       "\n",
       "};\n",
       "\n",
       "mpl.figure.prototype.handle_close = function(fig, msg) {\n",
       "    var width = fig.canvas.width/mpl.ratio\n",
       "    fig.root.unbind('remove')\n",
       "\n",
       "    // Update the output cell to use the data from the current canvas.\n",
       "    fig.push_to_output();\n",
       "    var dataURL = fig.canvas.toDataURL();\n",
       "    // Re-enable the keyboard manager in IPython - without this line, in FF,\n",
       "    // the notebook keyboard shortcuts fail.\n",
       "    IPython.keyboard_manager.enable()\n",
       "    $(fig.parent_element).html('<img src=\"' + dataURL + '\" width=\"' + width + '\">');\n",
       "    fig.close_ws(fig, msg);\n",
       "}\n",
       "\n",
       "mpl.figure.prototype.close_ws = function(fig, msg){\n",
       "    fig.send_message('closing', msg);\n",
       "    // fig.ws.close()\n",
       "}\n",
       "\n",
       "mpl.figure.prototype.push_to_output = function(remove_interactive) {\n",
       "    // Turn the data on the canvas into data in the output cell.\n",
       "    var width = this.canvas.width/mpl.ratio\n",
       "    var dataURL = this.canvas.toDataURL();\n",
       "    this.cell_info[1]['text/html'] = '<img src=\"' + dataURL + '\" width=\"' + width + '\">';\n",
       "}\n",
       "\n",
       "mpl.figure.prototype.updated_canvas_event = function() {\n",
       "    // Tell IPython that the notebook contents must change.\n",
       "    IPython.notebook.set_dirty(true);\n",
       "    this.send_message(\"ack\", {});\n",
       "    var fig = this;\n",
       "    // Wait a second, then push the new image to the DOM so\n",
       "    // that it is saved nicely (might be nice to debounce this).\n",
       "    setTimeout(function () { fig.push_to_output() }, 1000);\n",
       "}\n",
       "\n",
       "mpl.figure.prototype._init_toolbar = function() {\n",
       "    var fig = this;\n",
       "\n",
       "    var nav_element = $('<div/>')\n",
       "    nav_element.attr('style', 'width: 100%');\n",
       "    this.root.append(nav_element);\n",
       "\n",
       "    // Define a callback function for later on.\n",
       "    function toolbar_event(event) {\n",
       "        return fig.toolbar_button_onclick(event['data']);\n",
       "    }\n",
       "    function toolbar_mouse_event(event) {\n",
       "        return fig.toolbar_button_onmouseover(event['data']);\n",
       "    }\n",
       "\n",
       "    for(var toolbar_ind in mpl.toolbar_items){\n",
       "        var name = mpl.toolbar_items[toolbar_ind][0];\n",
       "        var tooltip = mpl.toolbar_items[toolbar_ind][1];\n",
       "        var image = mpl.toolbar_items[toolbar_ind][2];\n",
       "        var method_name = mpl.toolbar_items[toolbar_ind][3];\n",
       "\n",
       "        if (!name) { continue; };\n",
       "\n",
       "        var button = $('<button class=\"btn btn-default\" href=\"#\" title=\"' + name + '\"><i class=\"fa ' + image + ' fa-lg\"></i></button>');\n",
       "        button.click(method_name, toolbar_event);\n",
       "        button.mouseover(tooltip, toolbar_mouse_event);\n",
       "        nav_element.append(button);\n",
       "    }\n",
       "\n",
       "    // Add the status bar.\n",
       "    var status_bar = $('<span class=\"mpl-message\" style=\"text-align:right; float: right;\"/>');\n",
       "    nav_element.append(status_bar);\n",
       "    this.message = status_bar[0];\n",
       "\n",
       "    // Add the close button to the window.\n",
       "    var buttongrp = $('<div class=\"btn-group inline pull-right\"></div>');\n",
       "    var button = $('<button class=\"btn btn-mini btn-primary\" href=\"#\" title=\"Stop Interaction\"><i class=\"fa fa-power-off icon-remove icon-large\"></i></button>');\n",
       "    button.click(function (evt) { fig.handle_close(fig, {}); } );\n",
       "    button.mouseover('Stop Interaction', toolbar_mouse_event);\n",
       "    buttongrp.append(button);\n",
       "    var titlebar = this.root.find($('.ui-dialog-titlebar'));\n",
       "    titlebar.prepend(buttongrp);\n",
       "}\n",
       "\n",
       "mpl.figure.prototype._root_extra_style = function(el){\n",
       "    var fig = this\n",
       "    el.on(\"remove\", function(){\n",
       "\tfig.close_ws(fig, {});\n",
       "    });\n",
       "}\n",
       "\n",
       "mpl.figure.prototype._canvas_extra_style = function(el){\n",
       "    // this is important to make the div 'focusable\n",
       "    el.attr('tabindex', 0)\n",
       "    // reach out to IPython and tell the keyboard manager to turn it's self\n",
       "    // off when our div gets focus\n",
       "\n",
       "    // location in version 3\n",
       "    if (IPython.notebook.keyboard_manager) {\n",
       "        IPython.notebook.keyboard_manager.register_events(el);\n",
       "    }\n",
       "    else {\n",
       "        // location in version 2\n",
       "        IPython.keyboard_manager.register_events(el);\n",
       "    }\n",
       "\n",
       "}\n",
       "\n",
       "mpl.figure.prototype._key_event_extra = function(event, name) {\n",
       "    var manager = IPython.notebook.keyboard_manager;\n",
       "    if (!manager)\n",
       "        manager = IPython.keyboard_manager;\n",
       "\n",
       "    // Check for shift+enter\n",
       "    if (event.shiftKey && event.which == 13) {\n",
       "        this.canvas_div.blur();\n",
       "        // select the cell after this one\n",
       "        var index = IPython.notebook.find_cell_index(this.cell_info[0]);\n",
       "        IPython.notebook.select(index + 1);\n",
       "    }\n",
       "}\n",
       "\n",
       "mpl.figure.prototype.handle_save = function(fig, msg) {\n",
       "    fig.ondownload(fig, null);\n",
       "}\n",
       "\n",
       "\n",
       "mpl.find_output_cell = function(html_output) {\n",
       "    // Return the cell and output element which can be found *uniquely* in the notebook.\n",
       "    // Note - this is a bit hacky, but it is done because the \"notebook_saving.Notebook\"\n",
       "    // IPython event is triggered only after the cells have been serialised, which for\n",
       "    // our purposes (turning an active figure into a static one), is too late.\n",
       "    var cells = IPython.notebook.get_cells();\n",
       "    var ncells = cells.length;\n",
       "    for (var i=0; i<ncells; i++) {\n",
       "        var cell = cells[i];\n",
       "        if (cell.cell_type === 'code'){\n",
       "            for (var j=0; j<cell.output_area.outputs.length; j++) {\n",
       "                var data = cell.output_area.outputs[j];\n",
       "                if (data.data) {\n",
       "                    // IPython >= 3 moved mimebundle to data attribute of output\n",
       "                    data = data.data;\n",
       "                }\n",
       "                if (data['text/html'] == html_output) {\n",
       "                    return [cell, data, j];\n",
       "                }\n",
       "            }\n",
       "        }\n",
       "    }\n",
       "}\n",
       "\n",
       "// Register the function which deals with the matplotlib target/channel.\n",
       "// The kernel may be null if the page has been refreshed.\n",
       "if (IPython.notebook.kernel != null) {\n",
       "    IPython.notebook.kernel.comm_manager.register_target('matplotlib', mpl.mpl_figure_comm);\n",
       "}\n"
      ],
      "text/plain": [
       "<IPython.core.display.Javascript object>"
      ]
     },
     "metadata": {},
     "output_type": "display_data"
    },
    {
     "data": {
      "text/html": [
       "<img src=\"data:image/png;base64,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\" width=\"640\">"
      ],
      "text/plain": [
       "<IPython.core.display.HTML object>"
      ]
     },
     "metadata": {},
     "output_type": "display_data"
    }
   ],
   "source": [
    "#Plot\n",
    "if show_plots:\n",
    "    %matplotlib notebook\n",
    "    LVL1.plot_comparrison(df_old=dat_original, df_new=dat_step0, data_col_name=precip_columns[0], label_old=\"original\", label_new=\"drain and fill removed\")"
   ]
  },
  {
   "cell_type": "code",
   "execution_count": 18,
   "metadata": {
    "collapsed": true
   },
   "outputs": [],
   "source": [
    "dPrecip=dat_step0.TPGCumulative-dat_step0.TPGCumulative.shift(1)"
   ]
  },
  {
   "cell_type": "code",
   "execution_count": 19,
   "metadata": {
    "collapsed": false
   },
   "outputs": [
    {
     "data": {
      "text/plain": [
       "-0.8000000000001819"
      ]
     },
     "execution_count": 19,
     "metadata": {},
     "output_type": "execute_result"
    }
   ],
   "source": [
    "dPrecip['2016-07-13'].min()"
   ]
  },
  {
   "cell_type": "code",
   "execution_count": 20,
   "metadata": {
    "collapsed": false
   },
   "outputs": [],
   "source": [
    "#Plot older precip gage\n",
    "if show_plots:\n",
    "    %matplotlib notebook\n",
    "    LVL1.plot_comparrison(df_old=dat_original, df_new=dat_step0, data_col_name=precip_columns[1], label_old=\"original\", label_new=\"drain and fill removed\")"
   ]
  },
  {
   "cell_type": "code",
   "execution_count": 21,
   "metadata": {
    "collapsed": false
   },
   "outputs": [],
   "source": [
    "#Fill any remaining gaps due to sensor fallout, etc: \n",
    "for precip_col in precip_columns:\n",
    "    dat_step0.loc[:,precip_col]=LVL1.precip_interpolate_gaps_under1day(dat_step0[precip_col])"
   ]
  },
  {
   "cell_type": "markdown",
   "metadata": {},
   "source": [
    "#### Remove high-amplitude noise related to wind"
   ]
  },
  {
   "cell_type": "code",
   "execution_count": 22,
   "metadata": {
    "collapsed": false,
    "scrolled": true
   },
   "outputs": [
    {
     "name": "stdout",
     "output_type": "stream",
     "text": [
      "TPGCumulative\n",
      "STOP! Series contains NANs, which will result in unintended jumps in cumulative timeseries!\n",
      "StageCumulative\n",
      "STOP! Series contains NANs, which will result in unintended jumps in cumulative timeseries!\n"
     ]
    }
   ],
   "source": [
    "#Remove high-amplitude noise, related to wind, etc.\n",
    "imp.reload(LVL1)\n",
    "for precip_col in precip_columns:\n",
    "    print(precip_col)\n",
    "    dat.loc[:, precip_col]=LVL1.precip_remove_high_frequency_noiseNayak2010(dat_step0[precip_col], noise=noise_limit, bucket_fill_drain_cutoff=obvious_error_precip_cutoff, n_forward_noise_free=10)\n",
    "dat_step1=dat[precip_columns].copy() #save for plotting"
   ]
  },
  {
   "cell_type": "code",
   "execution_count": 23,
   "metadata": {
    "collapsed": false
   },
   "outputs": [],
   "source": [
    "#Plot results\n",
    "if show_plots:\n",
    "    %matplotlib notebook\n",
    "    LVL1.plot_comparrison(df_old=dat_step0.sample(frac=0.3), df_new=dat_step1.sample(frac=0.3), data_col_name=precip_columns[0], label_old=\"original\", label_new=\"high amplitude noise removed\")"
   ]
  },
  {
   "cell_type": "code",
   "execution_count": 24,
   "metadata": {
    "collapsed": false
   },
   "outputs": [],
   "source": [
    "#Strip Remaining Outlier Values with Hampel Filter\n",
    "for precip_col in precip_columns:\n",
    "    dat.loc[:,precip_col]=LVL1.hampel(dat_step1[precip_col])\n",
    "dat_step2=dat[precip_columns].copy() #save for plotting"
   ]
  },
  {
   "cell_type": "code",
   "execution_count": 25,
   "metadata": {
    "collapsed": false
   },
   "outputs": [],
   "source": [
    "#Plot results\n",
    "if show_plots:\n",
    "    %matplotlib notebook\n",
    "    LVL1.plot_comparrison(df_old=dat_step1.sample(frac=frac), df_new=dat_step2.sample(frac=frac), data_col_name=precip_columns[0], label_old=\"original\", label_new=\"after hampel outlier filter\")"
   ]
  },
  {
   "cell_type": "code",
   "execution_count": 26,
   "metadata": {
    "collapsed": true
   },
   "outputs": [],
   "source": [
    "#Interpolate gaps under one day in length\n",
    "# for precip_col in precip_columns:\n",
    "#     dat[precip_col]=LVL1.precip_interpolate_gaps_under1day(dat_step2[precip_col])"
   ]
  },
  {
   "cell_type": "markdown",
   "metadata": {},
   "source": [
    "**Smooth Data with method from Nayak (2010): **"
   ]
  },
  {
   "cell_type": "code",
   "execution_count": 27,
   "metadata": {
    "collapsed": false
   },
   "outputs": [
    {
     "name": "stdout",
     "output_type": "stream",
     "text": [
      "smoothing TPGCumulative\n",
      "  smoothing data in forward direction; may take a minute\n",
      "  smoothing data in reverse direction; may take a minute\n",
      "STOP! Series contains NANs, which will result in unintended jumps in cumulative timeseries!\n",
      "smoothing StageCumulative\n",
      "  smoothing data in forward direction; may take a minute\n",
      "  smoothing data in reverse direction; may take a minute\n",
      "STOP! Series contains NANs, which will result in unintended jumps in cumulative timeseries!\n"
     ]
    }
   ],
   "source": [
    "#Smooth Incremental Precip Data\n",
    "for precip_col in precip_columns:\n",
    "    #Smooth this data with method from Nayak 2010\n",
    "    print (\"smoothing \"+ precip_col)\n",
    "    dat[precip_col]=LVL1.smooth_precip_Nayak2010(dat_step2[precip_col])\n",
    "dat_step3=dat[precip_columns].copy() #save for plotting"
   ]
  },
  {
   "cell_type": "code",
   "execution_count": 28,
   "metadata": {
    "collapsed": false
   },
   "outputs": [],
   "source": [
    "#Plot\n",
    "if show_plots:\n",
    "    %matplotlib notebook\n",
    "    LVL1.plot_comparrison(df_old=dat_step2, df_new=dat_step3, data_col_name=precip_columns[0], label_old=\"original\", label_new=\"after smoothing\")"
   ]
  },
  {
   "cell_type": "code",
   "execution_count": 29,
   "metadata": {
    "collapsed": false
   },
   "outputs": [],
   "source": [
    "if show_plots:\n",
    "    %matplotlib notebook\n",
    "    LVL1.plot_comparrison(df_old=dat_step2.sample(frac=frac), df_new=dat_step3.sample(frac=frac), data_col_name=precip_columns[1], label_old=\"original\", label_new=\"after smoothing\")"
   ]
  },
  {
   "cell_type": "code",
   "execution_count": 30,
   "metadata": {
    "collapsed": false
   },
   "outputs": [],
   "source": [
    "#Final Comparrison Plot\n",
    "if show_plots:\n",
    "    %matplotlib notebook\n",
    "    frac=0.1\n",
    "    ax=dat_original[precip_columns[0]].sample(frac=frac).plot(color='black', label='original')\n",
    "    dat_step0[precip_columns[0]].sample(frac=frac).plot(color='blue', ax=ax, label='fills removed')\n",
    "    dat_step3[precip_columns[0]].sample(frac=frac).plot(color='red', ax=ax, label='final')\n",
    "    plt.legend()"
   ]
  },
  {
   "cell_type": "markdown",
   "metadata": {},
   "source": [
    "Final Steps"
   ]
  },
  {
   "cell_type": "code",
   "execution_count": 31,
   "metadata": {
    "collapsed": false
   },
   "outputs": [],
   "source": [
    "#Set no-data values before TPG installed, and after rocket removed to NAN (not 0)\n",
    "for precip_col in precip_columns:\n",
    "    if 'TPG' in precip_col.upper():\n",
    "        dat.loc[:TPG_born, precip_col]=np.nan\n",
    "    if 'stage' in precip_col.lower():\n",
    "        dat.loc[Stage_dies:, precip_col]=np.nan"
   ]
  },
  {
   "cell_type": "markdown",
   "metadata": {},
   "source": [
    "## Save Edited Data"
   ]
  },
  {
   "cell_type": "code",
   "execution_count": 32,
   "metadata": {
    "collapsed": false
   },
   "outputs": [],
   "source": [
    "#Create time as text column\n",
    "local_timezone=pytz.timezone(timezone) #create local timezone object (e.g. AK time)\n",
    "dat['Local_time']=dat.index.tz_convert(local_timezone).strftime(date_format)#Create column for true local time (as string, not UTC - X hrs)\n",
    "#Column Names\n",
    "out_columns=['Local_time']+temp_columns+precip_columns+wind_dir_columns+['WindSpeed', 'WindGustSpeed','RelHum', 'LoggerTemp','LoggerBattery']\n",
    "#Subset\n",
    "save_dat=dat[out_columns] #removes unwanted columns\n",
    "\n",
    "#Save\n",
    "save_dat.to_csv(save_pth, index=False, float_format='%g')\n",
    "#save_dat.to_csv(index=False, float_format='%g')\n"
   ]
  },
  {
   "cell_type": "code",
   "execution_count": null,
   "metadata": {
    "collapsed": true
   },
   "outputs": [],
   "source": []
  }
 ],
 "metadata": {
  "kernelspec": {
   "display_name": "Python 3",
   "language": "python",
   "name": "python3"
  },
  "language_info": {
   "codemirror_mode": {
    "name": "ipython",
    "version": 3
   },
   "file_extension": ".py",
   "mimetype": "text/x-python",
   "name": "python",
   "nbconvert_exporter": "python",
   "pygments_lexer": "ipython3",
   "version": "3.6.0"
  }
 },
 "nbformat": 4,
 "nbformat_minor": 2
}
