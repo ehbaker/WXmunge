{
 "cells": [
  {
   "cell_type": "markdown",
   "metadata": {},
   "source": [
    "# L0 data clean"
   ]
  },
  {
   "cell_type": "code",
   "execution_count": 2,
   "metadata": {
    "collapsed": true
   },
   "outputs": [],
   "source": [
    "import pandas as pd\n",
    "import numpy as np\n",
    "import matplotlib.pyplot as plt\n",
    "import os\n",
    "import imp\n",
    "import datetime\n",
    "import pytz\n",
    "%matplotlib notebook"
   ]
  },
  {
   "cell_type": "code",
   "execution_count": 3,
   "metadata": {
    "collapsed": false
   },
   "outputs": [],
   "source": [
    "#input path of new file to clean\n",
    "#time period should overlap with that of previous file; no gaps.\n",
    "Glacier= 'Wolverine'\n",
    "Station= '990'\n",
    "#file= \"wolverine990_2017_0911.txt\"\n",
    "file='gulkana_1480_allrawdata.csv'\n",
    "folder=r\"Q:\\Project Data\\GlacierData\\Benchmark_Program\\Data\\Gulkana\\AllYears\\Wx\\Raw\"\n",
    "pth=os.path.join(folder, file)\n",
    "out_date_format='%Y/%m/%d %H:%M'"
   ]
  },
  {
   "cell_type": "code",
   "execution_count": 4,
   "metadata": {
    "collapsed": false
   },
   "outputs": [],
   "source": [
    "# if Glacier + Station== r'Wolverine990':\n",
    "#     header_rws=2 #number of header rows to not read in\n",
    "#     col_nms=[\"Date\", \"Time\", \"Instrument\", \"Value\", \"Unit\", \"Flag\"]\n",
    "    \n",
    "# if Glacier + Station==r'wolverine1420':\n",
    "#     header_rws=4 #number of header rows to not read in\n",
    "#     #Grab correct column names (a few rows up in Campbell Logger output)\n",
    "#     coltable=pd.read_csv(pth, header=1)\n",
    "#     col_nms=coltable.columns"
   ]
  },
  {
   "cell_type": "code",
   "execution_count": 5,
   "metadata": {
    "collapsed": false
   },
   "outputs": [],
   "source": [
    "# #Read in data\n",
    "# dat=pd.read_csv(pth, header=header_rws)\n",
    "# dat.columns= col_nms #Name columns"
   ]
  },
  {
   "cell_type": "code",
   "execution_count": 6,
   "metadata": {
    "collapsed": true
   },
   "outputs": [],
   "source": [
    "#Set constants\n",
    "date_format='%m/%d/%Y %H:%M:%S'\n",
    "timezone='America/Anchorage' #choose from pytz.all_timezones"
   ]
  },
  {
   "cell_type": "code",
   "execution_count": null,
   "metadata": {
    "collapsed": false
   },
   "outputs": [],
   "source": []
  },
  {
   "cell_type": "code",
   "execution_count": 7,
   "metadata": {
    "collapsed": false
   },
   "outputs": [],
   "source": [
    "# for col in list(dat):\n",
    "#     print (\"stripping whitespace from \" + col) #print column name    \n",
    "#     if type(dat[col].values[0]).__name__ =='str': #if column is a string, strip white space\n",
    "#         dat[col]=dat[col].str.strip()"
   ]
  },
  {
   "cell_type": "code",
   "execution_count": 8,
   "metadata": {
    "collapsed": false
   },
   "outputs": [
    {
     "name": "stderr",
     "output_type": "stream",
     "text": [
      "C:\\Users\\ehbaker\\AppData\\Local\\Continuum\\Anaconda3\\lib\\site-packages\\IPython\\core\\interactiveshell.py:2717: DtypeWarning: Columns (4,5) have mixed types. Specify dtype option on import or set low_memory=False.\n",
      "  interactivity=interactivity, compiler=compiler, result=result)\n"
     ]
    }
   ],
   "source": [
    "dat=pd.read_csv(\"Q:\\Project Data\\GlacierData\\Benchmark_Program\\Data\\Wolverine\\AllYears\\Wx\\Raw\\wolverine990_allrawdata.csv\")"
   ]
  },
  {
   "cell_type": "code",
   "execution_count": 8,
   "metadata": {
    "collapsed": false
   },
   "outputs": [
    {
     "data": {
      "text/html": [
       "<div>\n",
       "<table border=\"1\" class=\"dataframe\">\n",
       "  <thead>\n",
       "    <tr style=\"text-align: right;\">\n",
       "      <th></th>\n",
       "      <th>Date</th>\n",
       "      <th>Time</th>\n",
       "      <th>Instrument</th>\n",
       "      <th>Value</th>\n",
       "      <th>Unit</th>\n",
       "      <th>Flag</th>\n",
       "      <th>DateTime</th>\n",
       "    </tr>\n",
       "  </thead>\n",
       "  <tbody>\n",
       "    <tr>\n",
       "      <th>2952296</th>\n",
       "      <td>09/10/2017</td>\n",
       "      <td>17:30:00</td>\n",
       "      <td>PC</td>\n",
       "      <td>0.566</td>\n",
       "      <td>m</td>\n",
       "      <td>G</td>\n",
       "      <td>09/10/2017 17:30:00</td>\n",
       "    </tr>\n",
       "    <tr>\n",
       "      <th>2952297</th>\n",
       "      <td>09/10/2017</td>\n",
       "      <td>17:30:00</td>\n",
       "      <td>RH</td>\n",
       "      <td>93.000</td>\n",
       "      <td>%</td>\n",
       "      <td>G</td>\n",
       "      <td>09/10/2017 17:30:00</td>\n",
       "    </tr>\n",
       "    <tr>\n",
       "      <th>2952298</th>\n",
       "      <td>09/10/2017</td>\n",
       "      <td>17:30:00</td>\n",
       "      <td>AT</td>\n",
       "      <td>5.200</td>\n",
       "      <td>C</td>\n",
       "      <td>G</td>\n",
       "      <td>09/10/2017 17:30:00</td>\n",
       "    </tr>\n",
       "    <tr>\n",
       "      <th>2952299</th>\n",
       "      <td>09/10/2017</td>\n",
       "      <td>17:30:00</td>\n",
       "      <td>AT2</td>\n",
       "      <td>5.100</td>\n",
       "      <td>C</td>\n",
       "      <td>G</td>\n",
       "      <td>09/10/2017 17:30:00</td>\n",
       "    </tr>\n",
       "    <tr>\n",
       "      <th>2952300</th>\n",
       "      <td>09/10/2017</td>\n",
       "      <td>17:30:00</td>\n",
       "      <td>B</td>\n",
       "      <td>-0.582</td>\n",
       "      <td>kPa</td>\n",
       "      <td>G</td>\n",
       "      <td>09/10/2017 17:30:00</td>\n",
       "    </tr>\n",
       "  </tbody>\n",
       "</table>\n",
       "</div>"
      ],
      "text/plain": [
       "               Date      Time Instrument   Value Unit Flag  \\\n",
       "2952296  09/10/2017  17:30:00         PC   0.566    m    G   \n",
       "2952297  09/10/2017  17:30:00         RH  93.000    %    G   \n",
       "2952298  09/10/2017  17:30:00         AT   5.200    C    G   \n",
       "2952299  09/10/2017  17:30:00        AT2   5.100    C    G   \n",
       "2952300  09/10/2017  17:30:00          B  -0.582  kPa    G   \n",
       "\n",
       "                    DateTime  \n",
       "2952296  09/10/2017 17:30:00  \n",
       "2952297  09/10/2017 17:30:00  \n",
       "2952298  09/10/2017 17:30:00  \n",
       "2952299  09/10/2017 17:30:00  \n",
       "2952300  09/10/2017 17:30:00  "
      ]
     },
     "execution_count": 8,
     "metadata": {},
     "output_type": "execute_result"
    }
   ],
   "source": [
    "dat.tail()"
   ]
  },
  {
   "cell_type": "code",
   "execution_count": 9,
   "metadata": {
    "collapsed": true
   },
   "outputs": [],
   "source": [
    "#START HERE IF YOU HAVE external dataframe form large concatenated version\n",
    "#dat=pd.read_csv(r'Q:/Project Data/GlacierData/Benchmark_Program/Data/Gulkana/AllYears/Wx/Raw/wolverine_990_allrawdata.csv')"
   ]
  },
  {
   "cell_type": "code",
   "execution_count": 10,
   "metadata": {
    "collapsed": false
   },
   "outputs": [
    {
     "data": {
      "text/html": [
       "<div>\n",
       "<table border=\"1\" class=\"dataframe\">\n",
       "  <thead>\n",
       "    <tr style=\"text-align: right;\">\n",
       "      <th></th>\n",
       "      <th>Date</th>\n",
       "      <th>Time</th>\n",
       "      <th>Instrument</th>\n",
       "      <th>Value</th>\n",
       "      <th>Unit</th>\n",
       "      <th>Flag</th>\n",
       "      <th>DateTime</th>\n",
       "    </tr>\n",
       "  </thead>\n",
       "  <tbody>\n",
       "    <tr>\n",
       "      <th>0</th>\n",
       "      <td>03/01/2010</td>\n",
       "      <td>23:15:00</td>\n",
       "      <td>WindDir</td>\n",
       "      <td>900.0</td>\n",
       "      <td>Deg</td>\n",
       "      <td>G</td>\n",
       "      <td>03/01/2010 23:15:00</td>\n",
       "    </tr>\n",
       "    <tr>\n",
       "      <th>1</th>\n",
       "      <td>03/01/2010</td>\n",
       "      <td>23:15:00</td>\n",
       "      <td>PrecipStage</td>\n",
       "      <td>0.0</td>\n",
       "      <td>M</td>\n",
       "      <td>B</td>\n",
       "      <td>03/01/2010 23:15:00</td>\n",
       "    </tr>\n",
       "    <tr>\n",
       "      <th>2</th>\n",
       "      <td>03/01/2010</td>\n",
       "      <td>23:15:00</td>\n",
       "      <td>WindSpeed</td>\n",
       "      <td>0.9</td>\n",
       "      <td>m/s</td>\n",
       "      <td>G</td>\n",
       "      <td>03/01/2010 23:15:00</td>\n",
       "    </tr>\n",
       "    <tr>\n",
       "      <th>3</th>\n",
       "      <td>03/01/2010</td>\n",
       "      <td>23:28:00</td>\n",
       "      <td>WindSpeed</td>\n",
       "      <td>0.4</td>\n",
       "      <td>m/s</td>\n",
       "      <td>G</td>\n",
       "      <td>03/01/2010 23:28:00</td>\n",
       "    </tr>\n",
       "    <tr>\n",
       "      <th>4</th>\n",
       "      <td>03/01/2010</td>\n",
       "      <td>23:28:00</td>\n",
       "      <td>WindDir</td>\n",
       "      <td>914.0</td>\n",
       "      <td>Deg</td>\n",
       "      <td>G</td>\n",
       "      <td>03/01/2010 23:28:00</td>\n",
       "    </tr>\n",
       "  </tbody>\n",
       "</table>\n",
       "</div>"
      ],
      "text/plain": [
       "         Date      Time   Instrument  Value Unit Flag             DateTime\n",
       "0  03/01/2010  23:15:00      WindDir  900.0  Deg    G  03/01/2010 23:15:00\n",
       "1  03/01/2010  23:15:00  PrecipStage    0.0    M    B  03/01/2010 23:15:00\n",
       "2  03/01/2010  23:15:00    WindSpeed    0.9  m/s    G  03/01/2010 23:15:00\n",
       "3  03/01/2010  23:28:00    WindSpeed    0.4  m/s    G  03/01/2010 23:28:00\n",
       "4  03/01/2010  23:28:00      WindDir  914.0  Deg    G  03/01/2010 23:28:00"
      ]
     },
     "execution_count": 10,
     "metadata": {},
     "output_type": "execute_result"
    }
   ],
   "source": [
    "dat.head()"
   ]
  },
  {
   "cell_type": "code",
   "execution_count": 11,
   "metadata": {
    "collapsed": false
   },
   "outputs": [],
   "source": [
    "#Fix time\n",
    "#Create date-time column\n",
    "#dat['DateTime']=dat.Date+ \" \" + dat.Time #this is needed for non-cumulative processing\n",
    "dat.loc[:,'DateTime']=pd.to_datetime(dat['DateTime'], format=date_format) #set to date-time from string\n",
    "#Correct for time slips\n",
    "dat['DateTime']=dat['DateTime'].dt.round('15min') #round time to the nearest 15 minute value\n",
    "#Convert to UTC time\n",
    "dat['UTC_col']=dat.DateTime + datetime.timedelta(hours=8)\n",
    "dat['UTC_col'].timezone='UTC'\n",
    "#Create column for local time\n",
    "local_timezone=pytz.timezone(timezone) #create local timezone object (e.g. AK time)"
   ]
  },
  {
   "cell_type": "code",
   "execution_count": 12,
   "metadata": {
    "collapsed": true
   },
   "outputs": [],
   "source": [
    "dat=dat.set_index('UTC_col')\n",
    "#Create column for local time\n",
    "local_timezone=pytz.timezone(timezone) #create local timezone object (e.g. AK time)"
   ]
  },
  {
   "cell_type": "code",
   "execution_count": 13,
   "metadata": {
    "collapsed": false
   },
   "outputs": [],
   "source": [
    "#Create local time\n",
    "dat['local_time'] = dat.index.tz_localize('UTC').tz_convert(local_timezone)"
   ]
  },
  {
   "cell_type": "code",
   "execution_count": 14,
   "metadata": {
    "collapsed": true
   },
   "outputs": [],
   "source": [
    "dat['index_local_time']=dat.local_time.copy()"
   ]
  },
  {
   "cell_type": "code",
   "execution_count": 15,
   "metadata": {
    "collapsed": false
   },
   "outputs": [],
   "source": [
    "#Set index to local time\n",
    "dat=dat.set_index('index_local_time')"
   ]
  },
  {
   "cell_type": "code",
   "execution_count": 16,
   "metadata": {
    "collapsed": false
   },
   "outputs": [],
   "source": [
    "dat=dat.drop_duplicates(subset=['DateTime', 'Instrument'], keep='first') #gets rid of overlaps (i.e. multiple downloads of same bit of data)"
   ]
  },
  {
   "cell_type": "code",
   "execution_count": 17,
   "metadata": {
    "collapsed": false
   },
   "outputs": [],
   "source": [
    "#Wrote into a one-liner with \"drop_duplicates\" above; keep this in case any issues arise in trouble-shooting\n",
    "# #In the uncommon instance that a sensor has duplicate values at a single timestep, set sensor name and value to NAN\n",
    "# # - this occurs occasionally during maintenance, as sensors are being renamed and added\n",
    "# for ii in dat.local_time.unique():\n",
    "#     testdat=dat[ii:ii]\n",
    "#     if len(testdat[testdat.Instrument.duplicated()])>0:\n",
    "#         duplicate_sensor_name=testdat.loc[testdat.Instrument.duplicated(), 'Instrument'][0]\n",
    "#         print(duplicate_sensor_name + \" is being set to NAN at \" + str(ii))\n",
    "#         dat.loc[(dat.Instrument==duplicate_sensor_name) & (dat.index==ii), 'Instrument']=np.nan\n",
    "#         dat.loc[(dat.Instrument==duplicate_sensor_name) & (dat.index==ii), 'Value']=np.nan"
   ]
  },
  {
   "cell_type": "code",
   "execution_count": 18,
   "metadata": {
    "collapsed": false
   },
   "outputs": [],
   "source": [
    "#Set time subset you are wanting here\n",
    "#dat=dat['2015-09-20':]"
   ]
  },
  {
   "cell_type": "code",
   "execution_count": 19,
   "metadata": {
    "collapsed": false
   },
   "outputs": [
    {
     "data": {
      "text/html": [
       "<div>\n",
       "<table border=\"1\" class=\"dataframe\">\n",
       "  <thead>\n",
       "    <tr style=\"text-align: right;\">\n",
       "      <th></th>\n",
       "      <th>Date</th>\n",
       "      <th>Time</th>\n",
       "      <th>Instrument</th>\n",
       "      <th>Value</th>\n",
       "      <th>Unit</th>\n",
       "      <th>Flag</th>\n",
       "      <th>DateTime</th>\n",
       "      <th>local_time</th>\n",
       "    </tr>\n",
       "    <tr>\n",
       "      <th>index_local_time</th>\n",
       "      <th></th>\n",
       "      <th></th>\n",
       "      <th></th>\n",
       "      <th></th>\n",
       "      <th></th>\n",
       "      <th></th>\n",
       "      <th></th>\n",
       "      <th></th>\n",
       "    </tr>\n",
       "  </thead>\n",
       "  <tbody>\n",
       "    <tr>\n",
       "      <th>2017-09-10 17:30:00-08:00</th>\n",
       "      <td>09/10/2017</td>\n",
       "      <td>17:30:00</td>\n",
       "      <td>AT2</td>\n",
       "      <td>5.100</td>\n",
       "      <td>C</td>\n",
       "      <td>G</td>\n",
       "      <td>2017-09-10 17:30:00</td>\n",
       "      <td>2017-09-10 17:30:00-08:00</td>\n",
       "    </tr>\n",
       "    <tr>\n",
       "      <th>2017-09-10 17:30:00-08:00</th>\n",
       "      <td>09/10/2017</td>\n",
       "      <td>17:30:00</td>\n",
       "      <td>B</td>\n",
       "      <td>-0.582</td>\n",
       "      <td>kPa</td>\n",
       "      <td>G</td>\n",
       "      <td>2017-09-10 17:30:00</td>\n",
       "      <td>2017-09-10 17:30:00-08:00</td>\n",
       "    </tr>\n",
       "  </tbody>\n",
       "</table>\n",
       "</div>"
      ],
      "text/plain": [
       "                                 Date      Time Instrument  Value Unit Flag  \\\n",
       "index_local_time                                                              \n",
       "2017-09-10 17:30:00-08:00  09/10/2017  17:30:00        AT2  5.100    C    G   \n",
       "2017-09-10 17:30:00-08:00  09/10/2017  17:30:00          B -0.582  kPa    G   \n",
       "\n",
       "                                     DateTime                local_time  \n",
       "index_local_time                                                         \n",
       "2017-09-10 17:30:00-08:00 2017-09-10 17:30:00 2017-09-10 17:30:00-08:00  \n",
       "2017-09-10 17:30:00-08:00 2017-09-10 17:30:00 2017-09-10 17:30:00-08:00  "
      ]
     },
     "execution_count": 19,
     "metadata": {},
     "output_type": "execute_result"
    }
   ],
   "source": [
    "dat.tail(2)"
   ]
  },
  {
   "cell_type": "code",
   "execution_count": 20,
   "metadata": {
    "collapsed": false
   },
   "outputs": [],
   "source": [
    "if Glacier + Station == \"Gulkana1480\":\n",
    "    dat.loc[dat.Instrument=='PC', 'Instrument']=\"TPG\" #TPG gage labeled as both PC and TPG; combine\n",
    "    dat.loc[(dat.Instrument=='WD') & (dat.index>'2015-09-25 12'), 'Instrument']='WDSA' #before this date, \"WD\" was simply wind direction; avfter, is vector-averaged\n",
    "if Glacier + Station==\"Wolverine990\":\n",
    "    dat.loc[(dat.Instrument=='WD') & (dat.index>'2015-09-06 17:15'), 'Instrument']='WDSA' #before this date, \"WD\" was simply wind direction; avfter, is vector-averaged"
   ]
  },
  {
   "cell_type": "code",
   "execution_count": 21,
   "metadata": {
    "collapsed": false
   },
   "outputs": [],
   "source": [
    "if Glacier + Station =='Wolverine990':  \n",
    "    #Name recorded on the logger changed thru time; indicate which are grouped (i.e. logging same variable) here\n",
    "    wind_gust_labels=['WindGusts', 'WG', 'WSG']\n",
    "    wind_speed_labels=['AvgWind', 'WS']\n",
    "    wind_dir_labels=['WindDir', 'WD']\n",
    "    temp_unasp1_labels=['AirTemp1', 'T1', 'T']\n",
    "    temp_unasp2_labels=['AirTemp2', 'T2']\n",
    "    temp_asp1_labels=['AirTempAsp', 'AspT', 'AT']\n",
    "    temp_asp2_labels=['ASPTRH', 'AT2']\n",
    "    precip_stage_labels=['PR']\n",
    "    precip_weighing_labels=['TPG', 'PC']\n",
    "    rel_hum_labels=['RH']\n",
    "    barometer_labels=['B']\n",
    "    logger_bat_label=['BV']\n",
    "    logger_temp_label=['Tinternal']\n",
    "    bad_labels=['PrecipStage', 'WindSpeed', 'AirTemp3', 'Air Temp w/FanN', 'AirTemp w/Fan', 'VectorAvgWindDir', 'PS', 'MWD', 'WDA'] #labels containing only bad data; introduced during maintenence etc.\n",
    "    \n",
    "    #Rename instruments\n",
    "    dat.loc[dat.Instrument.isin(wind_gust_labels), \"Instrument\"]='WindGustSpeed'\n",
    "    dat.loc[dat.Instrument.isin(wind_speed_labels), \"Instrument\"]='WindSpeed'\n",
    "    dat.loc[dat.Instrument.isin(wind_dir_labels), \"Instrument\"]='WindDir'\n",
    "    dat.loc[dat.Instrument.isin(temp_unasp1_labels), \"Instrument\"]='Tpassive1'\n",
    "    dat.loc[dat.Instrument.isin(temp_unasp2_labels), \"Instrument\"]='Tpassive2'\n",
    "    dat.loc[dat.Instrument.isin(temp_asp1_labels), \"Instrument\"]='TAspirated1'\n",
    "    dat.loc[dat.Instrument.isin(temp_asp2_labels), \"Instrument\"]='TAspirated2'\n",
    "    dat.loc[dat.Instrument.isin(precip_stage_labels), \"Instrument\"]='StageCumulative'\n",
    "    dat.loc[dat.Instrument.isin(precip_weighing_labels), \"Instrument\"]='TPGCumulative'\n",
    "    dat.loc[dat.Instrument.isin(rel_hum_labels), \"Instrument\"]='RelHum'\n",
    "    dat.loc[dat.Instrument.isin(barometer_labels), \"Instrument\"]='Barom'\n",
    "    dat.loc[dat.Instrument.isin(logger_bat_label), \"Instrument\"]='LoggerBattery'\n",
    "    dat.loc[dat.Instrument.isin(logger_temp_label), \"Instrument\"]='LoggerTemp'\n",
    "    \n",
    "    #Rename logger variables\n",
    "    dat.loc[dat.Instrument.isin(rel_hum_labels), \"Instrument\"]='RelHum'\n",
    "\n",
    "    #Remove rows with bad data\n",
    "    dat=dat[~dat.Instrument.isin(bad_labels)] #Remove where labels are bad; introduced during maintenance"
   ]
  },
  {
   "cell_type": "code",
   "execution_count": 22,
   "metadata": {
    "collapsed": false
   },
   "outputs": [],
   "source": [
    "#Cast the data from long -> wide format\n",
    "dat=dat.reset_index() #reset index so all unique\n",
    "wide_dat=dat.pivot_table(columns='Instrument', values='Value', index='local_time')"
   ]
  },
  {
   "cell_type": "code",
   "execution_count": 23,
   "metadata": {
    "collapsed": false
   },
   "outputs": [
    {
     "data": {
      "text/html": [
       "<div>\n",
       "<table border=\"1\" class=\"dataframe\">\n",
       "  <thead>\n",
       "    <tr style=\"text-align: right;\">\n",
       "      <th>Instrument</th>\n",
       "      <th>Barom</th>\n",
       "      <th>LoggerBattery</th>\n",
       "      <th>LoggerTemp</th>\n",
       "      <th>RelHum</th>\n",
       "      <th>Stage</th>\n",
       "      <th>StageCumulative</th>\n",
       "      <th>TAspirated1</th>\n",
       "      <th>TAspirated2</th>\n",
       "      <th>TPGCumulative</th>\n",
       "      <th>Tpassive1</th>\n",
       "      <th>Tpassive2</th>\n",
       "      <th>WDSA</th>\n",
       "      <th>WindDir</th>\n",
       "      <th>WindGustSpeed</th>\n",
       "    </tr>\n",
       "    <tr>\n",
       "      <th>local_time</th>\n",
       "      <th></th>\n",
       "      <th></th>\n",
       "      <th></th>\n",
       "      <th></th>\n",
       "      <th></th>\n",
       "      <th></th>\n",
       "      <th></th>\n",
       "      <th></th>\n",
       "      <th></th>\n",
       "      <th></th>\n",
       "      <th></th>\n",
       "      <th></th>\n",
       "      <th></th>\n",
       "      <th></th>\n",
       "    </tr>\n",
       "  </thead>\n",
       "  <tbody>\n",
       "    <tr>\n",
       "      <th>2017-09-10 17:30:00-08:00</th>\n",
       "      <td>-0.582</td>\n",
       "      <td>13.8</td>\n",
       "      <td>10.2</td>\n",
       "      <td>93.0</td>\n",
       "      <td>NaN</td>\n",
       "      <td>NaN</td>\n",
       "      <td>5.2</td>\n",
       "      <td>5.1</td>\n",
       "      <td>0.566</td>\n",
       "      <td>5.0</td>\n",
       "      <td>NaN</td>\n",
       "      <td>90.0</td>\n",
       "      <td>NaN</td>\n",
       "      <td>3.0</td>\n",
       "    </tr>\n",
       "  </tbody>\n",
       "</table>\n",
       "</div>"
      ],
      "text/plain": [
       "Instrument                 Barom  LoggerBattery  LoggerTemp  RelHum  Stage  \\\n",
       "local_time                                                                   \n",
       "2017-09-10 17:30:00-08:00 -0.582           13.8        10.2    93.0    NaN   \n",
       "\n",
       "Instrument                 StageCumulative  TAspirated1  TAspirated2  \\\n",
       "local_time                                                             \n",
       "2017-09-10 17:30:00-08:00              NaN          5.2          5.1   \n",
       "\n",
       "Instrument                 TPGCumulative  Tpassive1  Tpassive2  WDSA  WindDir  \\\n",
       "local_time                                                                      \n",
       "2017-09-10 17:30:00-08:00          0.566        5.0        NaN  90.0      NaN   \n",
       "\n",
       "Instrument                 WindGustSpeed  \n",
       "local_time                                \n",
       "2017-09-10 17:30:00-08:00            3.0  "
      ]
     },
     "execution_count": 23,
     "metadata": {},
     "output_type": "execute_result"
    }
   ],
   "source": [
    "wide_dat.tail(1)"
   ]
  },
  {
   "cell_type": "code",
   "execution_count": 24,
   "metadata": {
    "collapsed": false
   },
   "outputs": [],
   "source": [
    "# #Rename columns to match Shad's processing\n",
    "# if Glacier + Station ==\"Wolverine990\":\n",
    "#     new_cols=['TAspirated1','TAspirated2','AtmPressure',\n",
    "#                'LoggerBattery', 'TPGCumulative', 'RelHum',\n",
    "#               'Tpassive1', 'LoggerTemp',\n",
    "#               'WindDir', 'WindSpeed',  'WindGustSpeed']\n",
    "# if Glacier + Station== \"Gulkana1480\":\n",
    "#     new_cols=['TAspirated1','TAspirated2','LoggerBattery',\n",
    "#                'StageCumulative','RelHum',\n",
    "#               'Tpassive1', 'TPGCumulative', 'LoggerTemp',\n",
    "#               'WindDir', 'VecAvgWindSpeed', 'WindSpeed',  'WindGustSpeed']"
   ]
  },
  {
   "cell_type": "code",
   "execution_count": 25,
   "metadata": {
    "collapsed": false
   },
   "outputs": [],
   "source": [
    "#wide_dat.columns=new_cols\n",
    "\n",
    "#SOON - calculate the vector average wind speed HERE (should be done on logger; thus, appropriate L0 edit)"
   ]
  },
  {
   "cell_type": "code",
   "execution_count": 26,
   "metadata": {
    "collapsed": true
   },
   "outputs": [],
   "source": [
    "out_columns=['UTC_time', 'AK_time', 'Tpassive1', 'Tpassive2',\n",
    "       'TAspirated1', 'TAspirated2', 'RelHum', 'StageCumulative',\n",
    "       'TPGCumulative', 'WindSpeed', 'WindGustSpeed', 'WindDir', 'LoggerTemp',\n",
    "       'LoggerBattery']"
   ]
  },
  {
   "cell_type": "code",
   "execution_count": 27,
   "metadata": {
    "collapsed": true
   },
   "outputs": [],
   "source": [
    "for col in out_columns:\n",
    "    if col not in wide_dat.columns:\n",
    "        wide_dat[col]=np.nan #create the column; fill with NANs"
   ]
  },
  {
   "cell_type": "code",
   "execution_count": 28,
   "metadata": {
    "collapsed": false
   },
   "outputs": [],
   "source": [
    "wide_dat['UTC_time']=wide_dat.index.tz_convert('UTC').strftime(out_date_format)#Create column for true local time (as string, not UTC - X hrs)"
   ]
  },
  {
   "cell_type": "code",
   "execution_count": 29,
   "metadata": {
    "collapsed": false
   },
   "outputs": [],
   "source": [
    "wide_dat['AK_time']=wide_dat.index.tz_convert('America/Anchorage').strftime(out_date_format)#Create column for true local time (as string, not UTC - X hrs)"
   ]
  },
  {
   "cell_type": "code",
   "execution_count": 30,
   "metadata": {
    "collapsed": false
   },
   "outputs": [
    {
     "data": {
      "text/html": [
       "<div>\n",
       "<table border=\"1\" class=\"dataframe\">\n",
       "  <thead>\n",
       "    <tr style=\"text-align: right;\">\n",
       "      <th>Instrument</th>\n",
       "      <th>Barom</th>\n",
       "      <th>LoggerBattery</th>\n",
       "      <th>LoggerTemp</th>\n",
       "      <th>RelHum</th>\n",
       "      <th>Stage</th>\n",
       "      <th>StageCumulative</th>\n",
       "      <th>TAspirated1</th>\n",
       "      <th>TAspirated2</th>\n",
       "      <th>TPGCumulative</th>\n",
       "      <th>Tpassive1</th>\n",
       "      <th>Tpassive2</th>\n",
       "      <th>WDSA</th>\n",
       "      <th>WindDir</th>\n",
       "      <th>WindGustSpeed</th>\n",
       "      <th>UTC_time</th>\n",
       "      <th>AK_time</th>\n",
       "      <th>WindSpeed</th>\n",
       "    </tr>\n",
       "    <tr>\n",
       "      <th>local_time</th>\n",
       "      <th></th>\n",
       "      <th></th>\n",
       "      <th></th>\n",
       "      <th></th>\n",
       "      <th></th>\n",
       "      <th></th>\n",
       "      <th></th>\n",
       "      <th></th>\n",
       "      <th></th>\n",
       "      <th></th>\n",
       "      <th></th>\n",
       "      <th></th>\n",
       "      <th></th>\n",
       "      <th></th>\n",
       "      <th></th>\n",
       "      <th></th>\n",
       "      <th></th>\n",
       "    </tr>\n",
       "  </thead>\n",
       "  <tbody>\n",
       "    <tr>\n",
       "      <th>2017-09-10 16:30:00-08:00</th>\n",
       "      <td>-0.606</td>\n",
       "      <td>13.9</td>\n",
       "      <td>8.8</td>\n",
       "      <td>94.0</td>\n",
       "      <td>NaN</td>\n",
       "      <td>NaN</td>\n",
       "      <td>5.0</td>\n",
       "      <td>5.1</td>\n",
       "      <td>0.566</td>\n",
       "      <td>5.1</td>\n",
       "      <td>NaN</td>\n",
       "      <td>70.0</td>\n",
       "      <td>NaN</td>\n",
       "      <td>5.0</td>\n",
       "      <td>2017/09/11 00:30</td>\n",
       "      <td>2017/09/10 16:30</td>\n",
       "      <td>NaN</td>\n",
       "    </tr>\n",
       "    <tr>\n",
       "      <th>2017-09-10 16:45:00-08:00</th>\n",
       "      <td>-0.604</td>\n",
       "      <td>13.9</td>\n",
       "      <td>9.1</td>\n",
       "      <td>94.0</td>\n",
       "      <td>NaN</td>\n",
       "      <td>NaN</td>\n",
       "      <td>4.9</td>\n",
       "      <td>5.0</td>\n",
       "      <td>0.566</td>\n",
       "      <td>4.9</td>\n",
       "      <td>NaN</td>\n",
       "      <td>52.0</td>\n",
       "      <td>NaN</td>\n",
       "      <td>3.0</td>\n",
       "      <td>2017/09/11 00:45</td>\n",
       "      <td>2017/09/10 16:45</td>\n",
       "      <td>NaN</td>\n",
       "    </tr>\n",
       "    <tr>\n",
       "      <th>2017-09-10 17:00:00-08:00</th>\n",
       "      <td>-0.601</td>\n",
       "      <td>13.9</td>\n",
       "      <td>9.1</td>\n",
       "      <td>94.0</td>\n",
       "      <td>NaN</td>\n",
       "      <td>NaN</td>\n",
       "      <td>5.1</td>\n",
       "      <td>5.0</td>\n",
       "      <td>0.566</td>\n",
       "      <td>5.1</td>\n",
       "      <td>NaN</td>\n",
       "      <td>57.0</td>\n",
       "      <td>NaN</td>\n",
       "      <td>3.0</td>\n",
       "      <td>2017/09/11 01:00</td>\n",
       "      <td>2017/09/10 17:00</td>\n",
       "      <td>NaN</td>\n",
       "    </tr>\n",
       "    <tr>\n",
       "      <th>2017-09-10 17:15:00-08:00</th>\n",
       "      <td>-0.594</td>\n",
       "      <td>13.9</td>\n",
       "      <td>9.1</td>\n",
       "      <td>93.0</td>\n",
       "      <td>NaN</td>\n",
       "      <td>NaN</td>\n",
       "      <td>5.2</td>\n",
       "      <td>5.2</td>\n",
       "      <td>0.566</td>\n",
       "      <td>5.2</td>\n",
       "      <td>NaN</td>\n",
       "      <td>67.0</td>\n",
       "      <td>NaN</td>\n",
       "      <td>3.0</td>\n",
       "      <td>2017/09/11 01:15</td>\n",
       "      <td>2017/09/10 17:15</td>\n",
       "      <td>NaN</td>\n",
       "    </tr>\n",
       "    <tr>\n",
       "      <th>2017-09-10 17:30:00-08:00</th>\n",
       "      <td>-0.582</td>\n",
       "      <td>13.8</td>\n",
       "      <td>10.2</td>\n",
       "      <td>93.0</td>\n",
       "      <td>NaN</td>\n",
       "      <td>NaN</td>\n",
       "      <td>5.2</td>\n",
       "      <td>5.1</td>\n",
       "      <td>0.566</td>\n",
       "      <td>5.0</td>\n",
       "      <td>NaN</td>\n",
       "      <td>90.0</td>\n",
       "      <td>NaN</td>\n",
       "      <td>3.0</td>\n",
       "      <td>2017/09/11 01:30</td>\n",
       "      <td>2017/09/10 17:30</td>\n",
       "      <td>NaN</td>\n",
       "    </tr>\n",
       "  </tbody>\n",
       "</table>\n",
       "</div>"
      ],
      "text/plain": [
       "Instrument                 Barom  LoggerBattery  LoggerTemp  RelHum  Stage  \\\n",
       "local_time                                                                   \n",
       "2017-09-10 16:30:00-08:00 -0.606           13.9         8.8    94.0    NaN   \n",
       "2017-09-10 16:45:00-08:00 -0.604           13.9         9.1    94.0    NaN   \n",
       "2017-09-10 17:00:00-08:00 -0.601           13.9         9.1    94.0    NaN   \n",
       "2017-09-10 17:15:00-08:00 -0.594           13.9         9.1    93.0    NaN   \n",
       "2017-09-10 17:30:00-08:00 -0.582           13.8        10.2    93.0    NaN   \n",
       "\n",
       "Instrument                 StageCumulative  TAspirated1  TAspirated2  \\\n",
       "local_time                                                             \n",
       "2017-09-10 16:30:00-08:00              NaN          5.0          5.1   \n",
       "2017-09-10 16:45:00-08:00              NaN          4.9          5.0   \n",
       "2017-09-10 17:00:00-08:00              NaN          5.1          5.0   \n",
       "2017-09-10 17:15:00-08:00              NaN          5.2          5.2   \n",
       "2017-09-10 17:30:00-08:00              NaN          5.2          5.1   \n",
       "\n",
       "Instrument                 TPGCumulative  Tpassive1  Tpassive2  WDSA  WindDir  \\\n",
       "local_time                                                                      \n",
       "2017-09-10 16:30:00-08:00          0.566        5.1        NaN  70.0      NaN   \n",
       "2017-09-10 16:45:00-08:00          0.566        4.9        NaN  52.0      NaN   \n",
       "2017-09-10 17:00:00-08:00          0.566        5.1        NaN  57.0      NaN   \n",
       "2017-09-10 17:15:00-08:00          0.566        5.2        NaN  67.0      NaN   \n",
       "2017-09-10 17:30:00-08:00          0.566        5.0        NaN  90.0      NaN   \n",
       "\n",
       "Instrument                 WindGustSpeed          UTC_time           AK_time  \\\n",
       "local_time                                                                     \n",
       "2017-09-10 16:30:00-08:00            5.0  2017/09/11 00:30  2017/09/10 16:30   \n",
       "2017-09-10 16:45:00-08:00            3.0  2017/09/11 00:45  2017/09/10 16:45   \n",
       "2017-09-10 17:00:00-08:00            3.0  2017/09/11 01:00  2017/09/10 17:00   \n",
       "2017-09-10 17:15:00-08:00            3.0  2017/09/11 01:15  2017/09/10 17:15   \n",
       "2017-09-10 17:30:00-08:00            3.0  2017/09/11 01:30  2017/09/10 17:30   \n",
       "\n",
       "Instrument                 WindSpeed  \n",
       "local_time                            \n",
       "2017-09-10 16:30:00-08:00        NaN  \n",
       "2017-09-10 16:45:00-08:00        NaN  \n",
       "2017-09-10 17:00:00-08:00        NaN  \n",
       "2017-09-10 17:15:00-08:00        NaN  \n",
       "2017-09-10 17:30:00-08:00        NaN  "
      ]
     },
     "execution_count": 30,
     "metadata": {},
     "output_type": "execute_result"
    }
   ],
   "source": [
    "wide_dat.tail()"
   ]
  },
  {
   "cell_type": "code",
   "execution_count": 31,
   "metadata": {
    "collapsed": false
   },
   "outputs": [],
   "source": [
    "wide_dat=wide_dat.reset_index(drop=True).copy() #drop index in output dataframe"
   ]
  },
  {
   "cell_type": "code",
   "execution_count": 32,
   "metadata": {
    "collapsed": true
   },
   "outputs": [],
   "source": [
    "save_dat=wide_dat[out_columns]"
   ]
  },
  {
   "cell_type": "code",
   "execution_count": 33,
   "metadata": {
    "collapsed": true
   },
   "outputs": [],
   "source": [
    "#directory to save output data\n",
    "save_pth=r\"Q:/Project Data/GlacierData/Benchmark_Program/Data/\" +Glacier+ r\"/AllYears/Wx/LVL0/emily/\""
   ]
  },
  {
   "cell_type": "code",
   "execution_count": 34,
   "metadata": {
    "collapsed": true
   },
   "outputs": [],
   "source": [
    "out_nm=Glacier.lower()+ Station + '_all_15minL0.csv'"
   ]
  },
  {
   "cell_type": "code",
   "execution_count": 35,
   "metadata": {
    "collapsed": false
   },
   "outputs": [],
   "source": [
    "save_dat.to_csv(os.path.join(save_pth, out_nm), index=False, float_format='%g')"
   ]
  },
  {
   "cell_type": "code",
   "execution_count": 36,
   "metadata": {
    "collapsed": false
   },
   "outputs": [],
   "source": [
    "#wide_dat[['TAspirated1', 'TAspirated2', 'Tpassive1']].plot()"
   ]
  }
 ],
 "metadata": {
  "kernelspec": {
   "display_name": "Python 3",
   "language": "python",
   "name": "python3"
  },
  "language_info": {
   "codemirror_mode": {
    "name": "ipython",
    "version": 3
   },
   "file_extension": ".py",
   "mimetype": "text/x-python",
   "name": "python",
   "nbconvert_exporter": "python",
   "pygments_lexer": "ipython3",
   "version": "3.6.0"
  }
 },
 "nbformat": 4,
 "nbformat_minor": 2
}
