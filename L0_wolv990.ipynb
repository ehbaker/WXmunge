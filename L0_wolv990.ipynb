{
 "cells": [
  {
   "cell_type": "markdown",
   "metadata": {},
   "source": [
    "# L0 data clean"
   ]
  },
  {
   "cell_type": "code",
   "execution_count": 1,
   "metadata": {
    "collapsed": true
   },
   "outputs": [],
   "source": [
    "import pandas as pd\n",
    "import numpy as np\n",
    "import matplotlib.pyplot as plt\n",
    "import os\n",
    "import imp\n",
    "import datetime\n",
    "import pytz"
   ]
  },
  {
   "cell_type": "code",
   "execution_count": 2,
   "metadata": {
    "collapsed": true
   },
   "outputs": [],
   "source": [
    "#input path of new file to clean\n",
    "#time period should overlap with that of previous file; no gaps.\n",
    "Glacier= 'Wolverine'\n",
    "Station= '990'\n",
    "file= \"wolverine990_2017_0911.txt\"\n",
    "folder=r\"Q:\\Project Data\\GlacierData\\Benchmark_Program\\Data\\Wolverine\\2017\\Wx\"\n",
    "pth=os.path.join(folder, file)\n",
    "out_date_format='%Y/%m/%d %H:%M'"
   ]
  },
  {
   "cell_type": "code",
   "execution_count": 3,
   "metadata": {
    "collapsed": false
   },
   "outputs": [],
   "source": [
    "if Glacier + Station== r'Wolverine990':\n",
    "    header_rws=2 #number of header rows to not read in\n",
    "    col_nms=[\"Date\", \"Time\", \"Instrument\", \"Value\", \"Unit\", \"Flag\"]\n",
    "    \n",
    "if Glacier + Station==r'wolverine1420':\n",
    "    header_rws=4 #number of header rows to not read in\n",
    "    #Grab correct column names (a few rows up in Campbell Logger output)\n",
    "    coltable=pd.read_csv(pth, header=1)\n",
    "    col_nms=coltable.columns"
   ]
  },
  {
   "cell_type": "code",
   "execution_count": 4,
   "metadata": {
    "collapsed": false
   },
   "outputs": [],
   "source": [
    "#Read in data\n",
    "dat=pd.read_csv(pth, header=header_rws)\n",
    "dat.columns= col_nms #Name columns"
   ]
  },
  {
   "cell_type": "code",
   "execution_count": 5,
   "metadata": {
    "collapsed": true
   },
   "outputs": [],
   "source": [
    "#Set constants\n",
    "date_format='%m/%d/%Y %H:%M:%S'\n",
    "timezone='America/Anchorage' #choose from pytz.all_timezones"
   ]
  },
  {
   "cell_type": "code",
   "execution_count": 6,
   "metadata": {
    "collapsed": false
   },
   "outputs": [
    {
     "data": {
      "text/html": [
       "<div>\n",
       "<table border=\"1\" class=\"dataframe\">\n",
       "  <thead>\n",
       "    <tr style=\"text-align: right;\">\n",
       "      <th></th>\n",
       "      <th>Date</th>\n",
       "      <th>Time</th>\n",
       "      <th>Instrument</th>\n",
       "      <th>Value</th>\n",
       "      <th>Unit</th>\n",
       "      <th>Flag</th>\n",
       "    </tr>\n",
       "  </thead>\n",
       "  <tbody>\n",
       "    <tr>\n",
       "      <th>0</th>\n",
       "      <td>10/01/2016</td>\n",
       "      <td>00:00:00</td>\n",
       "      <td>WD</td>\n",
       "      <td>140.0000</td>\n",
       "      <td>degrees</td>\n",
       "      <td>G</td>\n",
       "    </tr>\n",
       "    <tr>\n",
       "      <th>1</th>\n",
       "      <td>10/01/2016</td>\n",
       "      <td>00:00:00</td>\n",
       "      <td>WS</td>\n",
       "      <td>0.7000</td>\n",
       "      <td>m/s</td>\n",
       "      <td>G</td>\n",
       "    </tr>\n",
       "    <tr>\n",
       "      <th>2</th>\n",
       "      <td>10/01/2016</td>\n",
       "      <td>00:00:00</td>\n",
       "      <td>BV</td>\n",
       "      <td>12.9000</td>\n",
       "      <td>V</td>\n",
       "      <td>G</td>\n",
       "    </tr>\n",
       "    <tr>\n",
       "      <th>3</th>\n",
       "      <td>10/01/2016</td>\n",
       "      <td>00:00:00</td>\n",
       "      <td>Tinternal</td>\n",
       "      <td>3.8000</td>\n",
       "      <td>C</td>\n",
       "      <td>G</td>\n",
       "    </tr>\n",
       "    <tr>\n",
       "      <th>4</th>\n",
       "      <td>10/01/2016</td>\n",
       "      <td>00:00:00</td>\n",
       "      <td>PC</td>\n",
       "      <td>0.2258</td>\n",
       "      <td>m</td>\n",
       "      <td>G</td>\n",
       "    </tr>\n",
       "  </tbody>\n",
       "</table>\n",
       "</div>"
      ],
      "text/plain": [
       "         Date      Time Instrument     Value     Unit Flag\n",
       "0  10/01/2016  00:00:00         WD  140.0000  degrees    G\n",
       "1  10/01/2016  00:00:00         WS    0.7000      m/s    G\n",
       "2  10/01/2016  00:00:00         BV   12.9000        V    G\n",
       "3  10/01/2016  00:00:00  Tinternal    3.8000        C    G\n",
       "4  10/01/2016  00:00:00         PC    0.2258        m    G"
      ]
     },
     "execution_count": 6,
     "metadata": {},
     "output_type": "execute_result"
    }
   ],
   "source": [
    "dat.head()"
   ]
  },
  {
   "cell_type": "code",
   "execution_count": 7,
   "metadata": {
    "collapsed": false
   },
   "outputs": [
    {
     "name": "stdout",
     "output_type": "stream",
     "text": [
      "stripping whitespace from Date\n",
      "stripping whitespace from Time\n",
      "stripping whitespace from Instrument\n",
      "stripping whitespace from Value\n",
      "stripping whitespace from Unit\n",
      "stripping whitespace from Flag\n"
     ]
    }
   ],
   "source": [
    "for col in list(dat):\n",
    "    print (\"stripping whitespace from \" + col) #print column name    \n",
    "    if type(dat[col].values[0]).__name__ =='str': #if column is a string, strip white space\n",
    "        dat[col]=dat[col].str.strip()"
   ]
  },
  {
   "cell_type": "code",
   "execution_count": 8,
   "metadata": {
    "collapsed": true
   },
   "outputs": [],
   "source": [
    "#Fix time\n",
    "#Create date-time column\n",
    "dat['time']=dat.Date+ \" \" + dat.Time\n",
    "dat.loc[:,'time']=pd.to_datetime(dat['time'], format=date_format) #set to date-time from string\n",
    "#Correct for time slips\n",
    "dat['time']=dat['time'].dt.round('15min') #round time to the nearest 15 minute value\n",
    "#Convert to UTC time\n",
    "dat['UTC_col']=dat.time + datetime.timedelta(hours=8)\n",
    "dat['UTC_col'].timezone='UTC'\n",
    "#Create column for local time\n",
    "local_timezone=pytz.timezone(timezone) #create local timezone object (e.g. AK time)"
   ]
  },
  {
   "cell_type": "code",
   "execution_count": 9,
   "metadata": {
    "collapsed": true
   },
   "outputs": [],
   "source": [
    "dat=dat.set_index('UTC_col')\n",
    "#Create column for local time\n",
    "local_timezone=pytz.timezone(timezone) #create local timezone object (e.g. AK time)"
   ]
  },
  {
   "cell_type": "code",
   "execution_count": 10,
   "metadata": {
    "collapsed": false
   },
   "outputs": [],
   "source": [
    "#Create local time\n",
    "dat['local_time'] = dat.index.tz_localize('UTC').tz_convert(local_timezone)"
   ]
  },
  {
   "cell_type": "code",
   "execution_count": 11,
   "metadata": {
    "collapsed": true
   },
   "outputs": [],
   "source": [
    "dat['index_local_time']=dat.local_time.copy()"
   ]
  },
  {
   "cell_type": "code",
   "execution_count": 12,
   "metadata": {
    "collapsed": false
   },
   "outputs": [],
   "source": [
    "#Set index to local time\n",
    "dat=dat.set_index('index_local_time')"
   ]
  },
  {
   "cell_type": "code",
   "execution_count": 13,
   "metadata": {
    "collapsed": false
   },
   "outputs": [
    {
     "data": {
      "text/html": [
       "<div>\n",
       "<table border=\"1\" class=\"dataframe\">\n",
       "  <thead>\n",
       "    <tr style=\"text-align: right;\">\n",
       "      <th></th>\n",
       "      <th>Date</th>\n",
       "      <th>Time</th>\n",
       "      <th>Instrument</th>\n",
       "      <th>Value</th>\n",
       "      <th>Unit</th>\n",
       "      <th>Flag</th>\n",
       "      <th>time</th>\n",
       "      <th>local_time</th>\n",
       "    </tr>\n",
       "    <tr>\n",
       "      <th>index_local_time</th>\n",
       "      <th></th>\n",
       "      <th></th>\n",
       "      <th></th>\n",
       "      <th></th>\n",
       "      <th></th>\n",
       "      <th></th>\n",
       "      <th></th>\n",
       "      <th></th>\n",
       "    </tr>\n",
       "  </thead>\n",
       "  <tbody>\n",
       "    <tr>\n",
       "      <th>2016-10-01 00:00:00-08:00</th>\n",
       "      <td>10/01/2016</td>\n",
       "      <td>00:00:00</td>\n",
       "      <td>WD</td>\n",
       "      <td>140.0000</td>\n",
       "      <td>degrees</td>\n",
       "      <td>G</td>\n",
       "      <td>2016-10-01</td>\n",
       "      <td>2016-10-01 00:00:00-08:00</td>\n",
       "    </tr>\n",
       "    <tr>\n",
       "      <th>2016-10-01 00:00:00-08:00</th>\n",
       "      <td>10/01/2016</td>\n",
       "      <td>00:00:00</td>\n",
       "      <td>WS</td>\n",
       "      <td>0.7000</td>\n",
       "      <td>m/s</td>\n",
       "      <td>G</td>\n",
       "      <td>2016-10-01</td>\n",
       "      <td>2016-10-01 00:00:00-08:00</td>\n",
       "    </tr>\n",
       "    <tr>\n",
       "      <th>2016-10-01 00:00:00-08:00</th>\n",
       "      <td>10/01/2016</td>\n",
       "      <td>00:00:00</td>\n",
       "      <td>BV</td>\n",
       "      <td>12.9000</td>\n",
       "      <td>V</td>\n",
       "      <td>G</td>\n",
       "      <td>2016-10-01</td>\n",
       "      <td>2016-10-01 00:00:00-08:00</td>\n",
       "    </tr>\n",
       "    <tr>\n",
       "      <th>2016-10-01 00:00:00-08:00</th>\n",
       "      <td>10/01/2016</td>\n",
       "      <td>00:00:00</td>\n",
       "      <td>Tinternal</td>\n",
       "      <td>3.8000</td>\n",
       "      <td>C</td>\n",
       "      <td>G</td>\n",
       "      <td>2016-10-01</td>\n",
       "      <td>2016-10-01 00:00:00-08:00</td>\n",
       "    </tr>\n",
       "    <tr>\n",
       "      <th>2016-10-01 00:00:00-08:00</th>\n",
       "      <td>10/01/2016</td>\n",
       "      <td>00:00:00</td>\n",
       "      <td>PC</td>\n",
       "      <td>0.2258</td>\n",
       "      <td>m</td>\n",
       "      <td>G</td>\n",
       "      <td>2016-10-01</td>\n",
       "      <td>2016-10-01 00:00:00-08:00</td>\n",
       "    </tr>\n",
       "  </tbody>\n",
       "</table>\n",
       "</div>"
      ],
      "text/plain": [
       "                                 Date      Time Instrument     Value     Unit  \\\n",
       "index_local_time                                                                \n",
       "2016-10-01 00:00:00-08:00  10/01/2016  00:00:00         WD  140.0000  degrees   \n",
       "2016-10-01 00:00:00-08:00  10/01/2016  00:00:00         WS    0.7000      m/s   \n",
       "2016-10-01 00:00:00-08:00  10/01/2016  00:00:00         BV   12.9000        V   \n",
       "2016-10-01 00:00:00-08:00  10/01/2016  00:00:00  Tinternal    3.8000        C   \n",
       "2016-10-01 00:00:00-08:00  10/01/2016  00:00:00         PC    0.2258        m   \n",
       "\n",
       "                          Flag       time                local_time  \n",
       "index_local_time                                                     \n",
       "2016-10-01 00:00:00-08:00    G 2016-10-01 2016-10-01 00:00:00-08:00  \n",
       "2016-10-01 00:00:00-08:00    G 2016-10-01 2016-10-01 00:00:00-08:00  \n",
       "2016-10-01 00:00:00-08:00    G 2016-10-01 2016-10-01 00:00:00-08:00  \n",
       "2016-10-01 00:00:00-08:00    G 2016-10-01 2016-10-01 00:00:00-08:00  \n",
       "2016-10-01 00:00:00-08:00    G 2016-10-01 2016-10-01 00:00:00-08:00  "
      ]
     },
     "execution_count": 13,
     "metadata": {},
     "output_type": "execute_result"
    }
   ],
   "source": [
    "dat.head()"
   ]
  },
  {
   "cell_type": "code",
   "execution_count": 14,
   "metadata": {
    "collapsed": false
   },
   "outputs": [
    {
     "name": "stdout",
     "output_type": "stream",
     "text": [
      "WD is being set to NAN at 2016-12-31 17:15:00-09:00\n",
      "B is being set to NAN at 2017-04-28 14:45:00-08:00\n"
     ]
    }
   ],
   "source": [
    "#In the uncommon instance that a sensor has duplicate values at a single timestep, set sensor name and value to NAN\n",
    "# - this occurs occasionally during maintenance, as sensors are being renamed and added\n",
    "for ii in dat.local_time.unique():\n",
    "    testdat=dat[ii:ii]\n",
    "    if len(testdat[testdat.Instrument.duplicated()])>0:\n",
    "        duplicate_sensor_name=testdat.loc[testdat.Instrument.duplicated(), 'Instrument'][0]\n",
    "        print(duplicate_sensor_name + \" is being set to NAN at \" + str(ii))\n",
    "        dat.loc[(dat.Instrument==duplicate_sensor_name) & (dat.index==ii), 'Instrument']=np.nan\n",
    "        dat.loc[(dat.Instrument==duplicate_sensor_name) & (dat.index==ii), 'Value']=np.nan"
   ]
  },
  {
   "cell_type": "code",
   "execution_count": 15,
   "metadata": {
    "collapsed": false
   },
   "outputs": [],
   "source": [
    "#Cast the data from long -> wide format\n",
    "dat=dat.reset_index() #reset index so all unique\n",
    "wide_dat=dat.pivot_table(columns='Instrument', values='Value', index='local_time')"
   ]
  },
  {
   "cell_type": "code",
   "execution_count": 16,
   "metadata": {
    "collapsed": false
   },
   "outputs": [
    {
     "data": {
      "text/html": [
       "<div>\n",
       "<table border=\"1\" class=\"dataframe\">\n",
       "  <thead>\n",
       "    <tr style=\"text-align: right;\">\n",
       "      <th>Instrument</th>\n",
       "      <th>AT</th>\n",
       "      <th>AT2</th>\n",
       "      <th>B</th>\n",
       "      <th>BV</th>\n",
       "      <th>PC</th>\n",
       "      <th>RH</th>\n",
       "      <th>T</th>\n",
       "      <th>Tinternal</th>\n",
       "      <th>WD</th>\n",
       "      <th>WS</th>\n",
       "      <th>WSG</th>\n",
       "    </tr>\n",
       "    <tr>\n",
       "      <th>local_time</th>\n",
       "      <th></th>\n",
       "      <th></th>\n",
       "      <th></th>\n",
       "      <th></th>\n",
       "      <th></th>\n",
       "      <th></th>\n",
       "      <th></th>\n",
       "      <th></th>\n",
       "      <th></th>\n",
       "      <th></th>\n",
       "      <th></th>\n",
       "    </tr>\n",
       "  </thead>\n",
       "  <tbody>\n",
       "    <tr>\n",
       "      <th>2016-10-01 00:00:00-08:00</th>\n",
       "      <td>5.99</td>\n",
       "      <td>5.9</td>\n",
       "      <td>NaN</td>\n",
       "      <td>12.9</td>\n",
       "      <td>0.2258</td>\n",
       "      <td>26.0</td>\n",
       "      <td>NaN</td>\n",
       "      <td>3.8</td>\n",
       "      <td>140.0</td>\n",
       "      <td>0.7</td>\n",
       "      <td>NaN</td>\n",
       "    </tr>\n",
       "    <tr>\n",
       "      <th>2016-10-01 00:15:00-08:00</th>\n",
       "      <td>5.82</td>\n",
       "      <td>6.0</td>\n",
       "      <td>NaN</td>\n",
       "      <td>12.9</td>\n",
       "      <td>0.2258</td>\n",
       "      <td>28.0</td>\n",
       "      <td>23.3</td>\n",
       "      <td>3.5</td>\n",
       "      <td>311.0</td>\n",
       "      <td>0.5</td>\n",
       "      <td>1.5</td>\n",
       "    </tr>\n",
       "    <tr>\n",
       "      <th>2016-10-01 00:30:00-08:00</th>\n",
       "      <td>5.58</td>\n",
       "      <td>5.8</td>\n",
       "      <td>NaN</td>\n",
       "      <td>12.9</td>\n",
       "      <td>0.2258</td>\n",
       "      <td>26.0</td>\n",
       "      <td>22.9</td>\n",
       "      <td>3.5</td>\n",
       "      <td>225.0</td>\n",
       "      <td>1.3</td>\n",
       "      <td>1.9</td>\n",
       "    </tr>\n",
       "    <tr>\n",
       "      <th>2016-10-01 00:45:00-08:00</th>\n",
       "      <td>5.85</td>\n",
       "      <td>6.0</td>\n",
       "      <td>NaN</td>\n",
       "      <td>12.9</td>\n",
       "      <td>0.2258</td>\n",
       "      <td>27.0</td>\n",
       "      <td>23.1</td>\n",
       "      <td>3.2</td>\n",
       "      <td>240.0</td>\n",
       "      <td>1.3</td>\n",
       "      <td>2.1</td>\n",
       "    </tr>\n",
       "    <tr>\n",
       "      <th>2016-10-01 01:00:00-08:00</th>\n",
       "      <td>4.99</td>\n",
       "      <td>5.1</td>\n",
       "      <td>NaN</td>\n",
       "      <td>12.9</td>\n",
       "      <td>0.2258</td>\n",
       "      <td>32.0</td>\n",
       "      <td>22.6</td>\n",
       "      <td>3.2</td>\n",
       "      <td>240.0</td>\n",
       "      <td>1.4</td>\n",
       "      <td>1.9</td>\n",
       "    </tr>\n",
       "  </tbody>\n",
       "</table>\n",
       "</div>"
      ],
      "text/plain": [
       "Instrument                   AT  AT2   B    BV      PC    RH     T  Tinternal  \\\n",
       "local_time                                                                      \n",
       "2016-10-01 00:00:00-08:00  5.99  5.9 NaN  12.9  0.2258  26.0   NaN        3.8   \n",
       "2016-10-01 00:15:00-08:00  5.82  6.0 NaN  12.9  0.2258  28.0  23.3        3.5   \n",
       "2016-10-01 00:30:00-08:00  5.58  5.8 NaN  12.9  0.2258  26.0  22.9        3.5   \n",
       "2016-10-01 00:45:00-08:00  5.85  6.0 NaN  12.9  0.2258  27.0  23.1        3.2   \n",
       "2016-10-01 01:00:00-08:00  4.99  5.1 NaN  12.9  0.2258  32.0  22.6        3.2   \n",
       "\n",
       "Instrument                    WD   WS  WSG  \n",
       "local_time                                  \n",
       "2016-10-01 00:00:00-08:00  140.0  0.7  NaN  \n",
       "2016-10-01 00:15:00-08:00  311.0  0.5  1.5  \n",
       "2016-10-01 00:30:00-08:00  225.0  1.3  1.9  \n",
       "2016-10-01 00:45:00-08:00  240.0  1.3  2.1  \n",
       "2016-10-01 01:00:00-08:00  240.0  1.4  1.9  "
      ]
     },
     "execution_count": 16,
     "metadata": {},
     "output_type": "execute_result"
    }
   ],
   "source": [
    "wide_dat.head()"
   ]
  },
  {
   "cell_type": "code",
   "execution_count": 17,
   "metadata": {
    "collapsed": false
   },
   "outputs": [],
   "source": [
    "#Rename columns to match Shad's processing\n",
    "new_cols=['TAspirated1','TAspirated2','AtmPressure',\n",
    "           'LoggerBattery', 'TPGCumulative', 'RelHum',\n",
    "          'Tpassive1', 'LoggerTemp',\n",
    "          'WindDir', 'WindSpeed',  'WindGustSpeed']"
   ]
  },
  {
   "cell_type": "code",
   "execution_count": 18,
   "metadata": {
    "collapsed": false
   },
   "outputs": [],
   "source": [
    "wide_dat.columns=new_cols"
   ]
  },
  {
   "cell_type": "code",
   "execution_count": 19,
   "metadata": {
    "collapsed": true
   },
   "outputs": [],
   "source": [
    "out_columns=['Station', 'UTC_time', 'AK_time', 'Tpassive1', 'Tpassive2',\n",
    "       'TAspirated1', 'TAspirated2', 'RelHum', 'StageCumulative',\n",
    "       'TPGCumulative', 'WindSpeed', 'WindGustSpeed', 'WindDir', 'LoggerTemp',\n",
    "       'LoggerBattery']"
   ]
  },
  {
   "cell_type": "code",
   "execution_count": 20,
   "metadata": {
    "collapsed": true
   },
   "outputs": [],
   "source": [
    "for col in out_columns:\n",
    "    if col not in wide_dat.columns:\n",
    "        wide_dat[col]=np.nan #create the column; fill with NANs"
   ]
  },
  {
   "cell_type": "code",
   "execution_count": 21,
   "metadata": {
    "collapsed": false
   },
   "outputs": [],
   "source": [
    "wide_dat['UTC_time']=wide_dat.index.tz_convert('UTC').strftime(out_date_format)#Create column for true local time (as string, not UTC - X hrs)"
   ]
  },
  {
   "cell_type": "code",
   "execution_count": 22,
   "metadata": {
    "collapsed": false
   },
   "outputs": [],
   "source": [
    "wide_dat['AK_time']=wide_dat.index.tz_convert('America/Anchorage').strftime(out_date_format)#Create column for true local time (as string, not UTC - X hrs)"
   ]
  },
  {
   "cell_type": "code",
   "execution_count": 24,
   "metadata": {
    "collapsed": false
   },
   "outputs": [],
   "source": [
    "wide_dat=wide_dat.reset_index()"
   ]
  },
  {
   "cell_type": "code",
   "execution_count": 25,
   "metadata": {
    "collapsed": true
   },
   "outputs": [],
   "source": [
    "save_dat=wide_dat[out_columns]"
   ]
  },
  {
   "cell_type": "code",
   "execution_count": 26,
   "metadata": {
    "collapsed": true
   },
   "outputs": [],
   "source": [
    "#directory to save output data\n",
    "save_pth=r\"Q:/Project Data/GlacierData/Benchmark_Program/Data/\" +Glacier+ r\"/AllYears/Wx/LVL0/emily/\""
   ]
  },
  {
   "cell_type": "code",
   "execution_count": 27,
   "metadata": {
    "collapsed": true
   },
   "outputs": [],
   "source": [
    "out_nm=Glacier.lower()+ Station + '_2017_15minL0.csv'"
   ]
  },
  {
   "cell_type": "code",
   "execution_count": 28,
   "metadata": {
    "collapsed": false
   },
   "outputs": [],
   "source": [
    "save_dat.to_csv(os.path.join(save_pth, out_nm), index=False)"
   ]
  }
 ],
 "metadata": {
  "kernelspec": {
   "display_name": "Python 3",
   "language": "python",
   "name": "python3"
  },
  "language_info": {
   "codemirror_mode": {
    "name": "ipython",
    "version": 3
   },
   "file_extension": ".py",
   "mimetype": "text/x-python",
   "name": "python",
   "nbconvert_exporter": "python",
   "pygments_lexer": "ipython3",
   "version": "3.6.0"
  }
 },
 "nbformat": 4,
 "nbformat_minor": 2
}
